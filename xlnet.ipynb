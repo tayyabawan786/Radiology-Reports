{
  "nbformat": 4,
  "nbformat_minor": 0,
  "metadata": {
    "colab": {
      "provenance": []
    },
    "kernelspec": {
      "name": "python3",
      "display_name": "Python 3"
    },
    "accelerator": "GPU",
    "widgets": {
      "application/vnd.jupyter.widget-state+json": {
        "3919882539ac4791be63aa2ee2d6bdef": {
          "model_module": "@jupyter-widgets/controls",
          "model_name": "HBoxModel",
          "model_module_version": "1.5.0",
          "state": {
            "_dom_classes": [],
            "_model_module": "@jupyter-widgets/controls",
            "_model_module_version": "1.5.0",
            "_model_name": "HBoxModel",
            "_view_count": null,
            "_view_module": "@jupyter-widgets/controls",
            "_view_module_version": "1.5.0",
            "_view_name": "HBoxView",
            "box_style": "",
            "children": [
              "IPY_MODEL_38a81b5c53fe4482bac8ba596f6deaa3",
              "IPY_MODEL_bae7b9117b554587b6793aa24b715028",
              "IPY_MODEL_e1aa9f0ced8b4ef9b1add3b8185cb387"
            ],
            "layout": "IPY_MODEL_627dcda3eb3244c59e947e45fb16e1e9"
          }
        },
        "38a81b5c53fe4482bac8ba596f6deaa3": {
          "model_module": "@jupyter-widgets/controls",
          "model_name": "HTMLModel",
          "model_module_version": "1.5.0",
          "state": {
            "_dom_classes": [],
            "_model_module": "@jupyter-widgets/controls",
            "_model_module_version": "1.5.0",
            "_model_name": "HTMLModel",
            "_view_count": null,
            "_view_module": "@jupyter-widgets/controls",
            "_view_module_version": "1.5.0",
            "_view_name": "HTMLView",
            "description": "",
            "description_tooltip": null,
            "layout": "IPY_MODEL_6f0d963ea9c84ea18537de38e4f8c55a",
            "placeholder": "​",
            "style": "IPY_MODEL_2e8767c27a8347c58870946165e1a583",
            "value": "spiece.model: 100%"
          }
        },
        "bae7b9117b554587b6793aa24b715028": {
          "model_module": "@jupyter-widgets/controls",
          "model_name": "FloatProgressModel",
          "model_module_version": "1.5.0",
          "state": {
            "_dom_classes": [],
            "_model_module": "@jupyter-widgets/controls",
            "_model_module_version": "1.5.0",
            "_model_name": "FloatProgressModel",
            "_view_count": null,
            "_view_module": "@jupyter-widgets/controls",
            "_view_module_version": "1.5.0",
            "_view_name": "ProgressView",
            "bar_style": "success",
            "description": "",
            "description_tooltip": null,
            "layout": "IPY_MODEL_e9a84e2a8f4f48b8b00e8fa6daa6d300",
            "max": 798011,
            "min": 0,
            "orientation": "horizontal",
            "style": "IPY_MODEL_d03c87c923a84690926e3bc323deb2b2",
            "value": 798011
          }
        },
        "e1aa9f0ced8b4ef9b1add3b8185cb387": {
          "model_module": "@jupyter-widgets/controls",
          "model_name": "HTMLModel",
          "model_module_version": "1.5.0",
          "state": {
            "_dom_classes": [],
            "_model_module": "@jupyter-widgets/controls",
            "_model_module_version": "1.5.0",
            "_model_name": "HTMLModel",
            "_view_count": null,
            "_view_module": "@jupyter-widgets/controls",
            "_view_module_version": "1.5.0",
            "_view_name": "HTMLView",
            "description": "",
            "description_tooltip": null,
            "layout": "IPY_MODEL_0dc30bd69a9c4000a889678a9c7d88d1",
            "placeholder": "​",
            "style": "IPY_MODEL_6dfcb329795d4d6d8a0397f0b41b00e4",
            "value": " 798k/798k [00:00&lt;00:00, 2.47MB/s]"
          }
        },
        "627dcda3eb3244c59e947e45fb16e1e9": {
          "model_module": "@jupyter-widgets/base",
          "model_name": "LayoutModel",
          "model_module_version": "1.2.0",
          "state": {
            "_model_module": "@jupyter-widgets/base",
            "_model_module_version": "1.2.0",
            "_model_name": "LayoutModel",
            "_view_count": null,
            "_view_module": "@jupyter-widgets/base",
            "_view_module_version": "1.2.0",
            "_view_name": "LayoutView",
            "align_content": null,
            "align_items": null,
            "align_self": null,
            "border": null,
            "bottom": null,
            "display": null,
            "flex": null,
            "flex_flow": null,
            "grid_area": null,
            "grid_auto_columns": null,
            "grid_auto_flow": null,
            "grid_auto_rows": null,
            "grid_column": null,
            "grid_gap": null,
            "grid_row": null,
            "grid_template_areas": null,
            "grid_template_columns": null,
            "grid_template_rows": null,
            "height": null,
            "justify_content": null,
            "justify_items": null,
            "left": null,
            "margin": null,
            "max_height": null,
            "max_width": null,
            "min_height": null,
            "min_width": null,
            "object_fit": null,
            "object_position": null,
            "order": null,
            "overflow": null,
            "overflow_x": null,
            "overflow_y": null,
            "padding": null,
            "right": null,
            "top": null,
            "visibility": null,
            "width": null
          }
        },
        "6f0d963ea9c84ea18537de38e4f8c55a": {
          "model_module": "@jupyter-widgets/base",
          "model_name": "LayoutModel",
          "model_module_version": "1.2.0",
          "state": {
            "_model_module": "@jupyter-widgets/base",
            "_model_module_version": "1.2.0",
            "_model_name": "LayoutModel",
            "_view_count": null,
            "_view_module": "@jupyter-widgets/base",
            "_view_module_version": "1.2.0",
            "_view_name": "LayoutView",
            "align_content": null,
            "align_items": null,
            "align_self": null,
            "border": null,
            "bottom": null,
            "display": null,
            "flex": null,
            "flex_flow": null,
            "grid_area": null,
            "grid_auto_columns": null,
            "grid_auto_flow": null,
            "grid_auto_rows": null,
            "grid_column": null,
            "grid_gap": null,
            "grid_row": null,
            "grid_template_areas": null,
            "grid_template_columns": null,
            "grid_template_rows": null,
            "height": null,
            "justify_content": null,
            "justify_items": null,
            "left": null,
            "margin": null,
            "max_height": null,
            "max_width": null,
            "min_height": null,
            "min_width": null,
            "object_fit": null,
            "object_position": null,
            "order": null,
            "overflow": null,
            "overflow_x": null,
            "overflow_y": null,
            "padding": null,
            "right": null,
            "top": null,
            "visibility": null,
            "width": null
          }
        },
        "2e8767c27a8347c58870946165e1a583": {
          "model_module": "@jupyter-widgets/controls",
          "model_name": "DescriptionStyleModel",
          "model_module_version": "1.5.0",
          "state": {
            "_model_module": "@jupyter-widgets/controls",
            "_model_module_version": "1.5.0",
            "_model_name": "DescriptionStyleModel",
            "_view_count": null,
            "_view_module": "@jupyter-widgets/base",
            "_view_module_version": "1.2.0",
            "_view_name": "StyleView",
            "description_width": ""
          }
        },
        "e9a84e2a8f4f48b8b00e8fa6daa6d300": {
          "model_module": "@jupyter-widgets/base",
          "model_name": "LayoutModel",
          "model_module_version": "1.2.0",
          "state": {
            "_model_module": "@jupyter-widgets/base",
            "_model_module_version": "1.2.0",
            "_model_name": "LayoutModel",
            "_view_count": null,
            "_view_module": "@jupyter-widgets/base",
            "_view_module_version": "1.2.0",
            "_view_name": "LayoutView",
            "align_content": null,
            "align_items": null,
            "align_self": null,
            "border": null,
            "bottom": null,
            "display": null,
            "flex": null,
            "flex_flow": null,
            "grid_area": null,
            "grid_auto_columns": null,
            "grid_auto_flow": null,
            "grid_auto_rows": null,
            "grid_column": null,
            "grid_gap": null,
            "grid_row": null,
            "grid_template_areas": null,
            "grid_template_columns": null,
            "grid_template_rows": null,
            "height": null,
            "justify_content": null,
            "justify_items": null,
            "left": null,
            "margin": null,
            "max_height": null,
            "max_width": null,
            "min_height": null,
            "min_width": null,
            "object_fit": null,
            "object_position": null,
            "order": null,
            "overflow": null,
            "overflow_x": null,
            "overflow_y": null,
            "padding": null,
            "right": null,
            "top": null,
            "visibility": null,
            "width": null
          }
        },
        "d03c87c923a84690926e3bc323deb2b2": {
          "model_module": "@jupyter-widgets/controls",
          "model_name": "ProgressStyleModel",
          "model_module_version": "1.5.0",
          "state": {
            "_model_module": "@jupyter-widgets/controls",
            "_model_module_version": "1.5.0",
            "_model_name": "ProgressStyleModel",
            "_view_count": null,
            "_view_module": "@jupyter-widgets/base",
            "_view_module_version": "1.2.0",
            "_view_name": "StyleView",
            "bar_color": null,
            "description_width": ""
          }
        },
        "0dc30bd69a9c4000a889678a9c7d88d1": {
          "model_module": "@jupyter-widgets/base",
          "model_name": "LayoutModel",
          "model_module_version": "1.2.0",
          "state": {
            "_model_module": "@jupyter-widgets/base",
            "_model_module_version": "1.2.0",
            "_model_name": "LayoutModel",
            "_view_count": null,
            "_view_module": "@jupyter-widgets/base",
            "_view_module_version": "1.2.0",
            "_view_name": "LayoutView",
            "align_content": null,
            "align_items": null,
            "align_self": null,
            "border": null,
            "bottom": null,
            "display": null,
            "flex": null,
            "flex_flow": null,
            "grid_area": null,
            "grid_auto_columns": null,
            "grid_auto_flow": null,
            "grid_auto_rows": null,
            "grid_column": null,
            "grid_gap": null,
            "grid_row": null,
            "grid_template_areas": null,
            "grid_template_columns": null,
            "grid_template_rows": null,
            "height": null,
            "justify_content": null,
            "justify_items": null,
            "left": null,
            "margin": null,
            "max_height": null,
            "max_width": null,
            "min_height": null,
            "min_width": null,
            "object_fit": null,
            "object_position": null,
            "order": null,
            "overflow": null,
            "overflow_x": null,
            "overflow_y": null,
            "padding": null,
            "right": null,
            "top": null,
            "visibility": null,
            "width": null
          }
        },
        "6dfcb329795d4d6d8a0397f0b41b00e4": {
          "model_module": "@jupyter-widgets/controls",
          "model_name": "DescriptionStyleModel",
          "model_module_version": "1.5.0",
          "state": {
            "_model_module": "@jupyter-widgets/controls",
            "_model_module_version": "1.5.0",
            "_model_name": "DescriptionStyleModel",
            "_view_count": null,
            "_view_module": "@jupyter-widgets/base",
            "_view_module_version": "1.2.0",
            "_view_name": "StyleView",
            "description_width": ""
          }
        },
        "83c59a235dc249d8b3fa5ffc9912fd28": {
          "model_module": "@jupyter-widgets/controls",
          "model_name": "HBoxModel",
          "model_module_version": "1.5.0",
          "state": {
            "_dom_classes": [],
            "_model_module": "@jupyter-widgets/controls",
            "_model_module_version": "1.5.0",
            "_model_name": "HBoxModel",
            "_view_count": null,
            "_view_module": "@jupyter-widgets/controls",
            "_view_module_version": "1.5.0",
            "_view_name": "HBoxView",
            "box_style": "",
            "children": [
              "IPY_MODEL_c4d339e8c8a44f40b7e63e43aa128a9f",
              "IPY_MODEL_29e963c94b8045c2af1fcb1db02bbc84",
              "IPY_MODEL_0c89332fe6674f74be7a3c7573a64dc4"
            ],
            "layout": "IPY_MODEL_1692d16bd5844236a8a2735fc2e0271c"
          }
        },
        "c4d339e8c8a44f40b7e63e43aa128a9f": {
          "model_module": "@jupyter-widgets/controls",
          "model_name": "HTMLModel",
          "model_module_version": "1.5.0",
          "state": {
            "_dom_classes": [],
            "_model_module": "@jupyter-widgets/controls",
            "_model_module_version": "1.5.0",
            "_model_name": "HTMLModel",
            "_view_count": null,
            "_view_module": "@jupyter-widgets/controls",
            "_view_module_version": "1.5.0",
            "_view_name": "HTMLView",
            "description": "",
            "description_tooltip": null,
            "layout": "IPY_MODEL_c29f9de1c11c4696bc6b813d3d552829",
            "placeholder": "​",
            "style": "IPY_MODEL_3fa505be14e34804929f9af22667dfe2",
            "value": "tokenizer.json: 100%"
          }
        },
        "29e963c94b8045c2af1fcb1db02bbc84": {
          "model_module": "@jupyter-widgets/controls",
          "model_name": "FloatProgressModel",
          "model_module_version": "1.5.0",
          "state": {
            "_dom_classes": [],
            "_model_module": "@jupyter-widgets/controls",
            "_model_module_version": "1.5.0",
            "_model_name": "FloatProgressModel",
            "_view_count": null,
            "_view_module": "@jupyter-widgets/controls",
            "_view_module_version": "1.5.0",
            "_view_name": "ProgressView",
            "bar_style": "success",
            "description": "",
            "description_tooltip": null,
            "layout": "IPY_MODEL_cea6d0ca6dad4447915e75e90d3c9511",
            "max": 1382015,
            "min": 0,
            "orientation": "horizontal",
            "style": "IPY_MODEL_405b8af7d1e54c51acaf936b9669e05d",
            "value": 1382015
          }
        },
        "0c89332fe6674f74be7a3c7573a64dc4": {
          "model_module": "@jupyter-widgets/controls",
          "model_name": "HTMLModel",
          "model_module_version": "1.5.0",
          "state": {
            "_dom_classes": [],
            "_model_module": "@jupyter-widgets/controls",
            "_model_module_version": "1.5.0",
            "_model_name": "HTMLModel",
            "_view_count": null,
            "_view_module": "@jupyter-widgets/controls",
            "_view_module_version": "1.5.0",
            "_view_name": "HTMLView",
            "description": "",
            "description_tooltip": null,
            "layout": "IPY_MODEL_84a705ba59394093be6a251333ea90e5",
            "placeholder": "​",
            "style": "IPY_MODEL_6ea93ac49f4f46bbbf734105f0af67f5",
            "value": " 1.38M/1.38M [00:00&lt;00:00, 3.32MB/s]"
          }
        },
        "1692d16bd5844236a8a2735fc2e0271c": {
          "model_module": "@jupyter-widgets/base",
          "model_name": "LayoutModel",
          "model_module_version": "1.2.0",
          "state": {
            "_model_module": "@jupyter-widgets/base",
            "_model_module_version": "1.2.0",
            "_model_name": "LayoutModel",
            "_view_count": null,
            "_view_module": "@jupyter-widgets/base",
            "_view_module_version": "1.2.0",
            "_view_name": "LayoutView",
            "align_content": null,
            "align_items": null,
            "align_self": null,
            "border": null,
            "bottom": null,
            "display": null,
            "flex": null,
            "flex_flow": null,
            "grid_area": null,
            "grid_auto_columns": null,
            "grid_auto_flow": null,
            "grid_auto_rows": null,
            "grid_column": null,
            "grid_gap": null,
            "grid_row": null,
            "grid_template_areas": null,
            "grid_template_columns": null,
            "grid_template_rows": null,
            "height": null,
            "justify_content": null,
            "justify_items": null,
            "left": null,
            "margin": null,
            "max_height": null,
            "max_width": null,
            "min_height": null,
            "min_width": null,
            "object_fit": null,
            "object_position": null,
            "order": null,
            "overflow": null,
            "overflow_x": null,
            "overflow_y": null,
            "padding": null,
            "right": null,
            "top": null,
            "visibility": null,
            "width": null
          }
        },
        "c29f9de1c11c4696bc6b813d3d552829": {
          "model_module": "@jupyter-widgets/base",
          "model_name": "LayoutModel",
          "model_module_version": "1.2.0",
          "state": {
            "_model_module": "@jupyter-widgets/base",
            "_model_module_version": "1.2.0",
            "_model_name": "LayoutModel",
            "_view_count": null,
            "_view_module": "@jupyter-widgets/base",
            "_view_module_version": "1.2.0",
            "_view_name": "LayoutView",
            "align_content": null,
            "align_items": null,
            "align_self": null,
            "border": null,
            "bottom": null,
            "display": null,
            "flex": null,
            "flex_flow": null,
            "grid_area": null,
            "grid_auto_columns": null,
            "grid_auto_flow": null,
            "grid_auto_rows": null,
            "grid_column": null,
            "grid_gap": null,
            "grid_row": null,
            "grid_template_areas": null,
            "grid_template_columns": null,
            "grid_template_rows": null,
            "height": null,
            "justify_content": null,
            "justify_items": null,
            "left": null,
            "margin": null,
            "max_height": null,
            "max_width": null,
            "min_height": null,
            "min_width": null,
            "object_fit": null,
            "object_position": null,
            "order": null,
            "overflow": null,
            "overflow_x": null,
            "overflow_y": null,
            "padding": null,
            "right": null,
            "top": null,
            "visibility": null,
            "width": null
          }
        },
        "3fa505be14e34804929f9af22667dfe2": {
          "model_module": "@jupyter-widgets/controls",
          "model_name": "DescriptionStyleModel",
          "model_module_version": "1.5.0",
          "state": {
            "_model_module": "@jupyter-widgets/controls",
            "_model_module_version": "1.5.0",
            "_model_name": "DescriptionStyleModel",
            "_view_count": null,
            "_view_module": "@jupyter-widgets/base",
            "_view_module_version": "1.2.0",
            "_view_name": "StyleView",
            "description_width": ""
          }
        },
        "cea6d0ca6dad4447915e75e90d3c9511": {
          "model_module": "@jupyter-widgets/base",
          "model_name": "LayoutModel",
          "model_module_version": "1.2.0",
          "state": {
            "_model_module": "@jupyter-widgets/base",
            "_model_module_version": "1.2.0",
            "_model_name": "LayoutModel",
            "_view_count": null,
            "_view_module": "@jupyter-widgets/base",
            "_view_module_version": "1.2.0",
            "_view_name": "LayoutView",
            "align_content": null,
            "align_items": null,
            "align_self": null,
            "border": null,
            "bottom": null,
            "display": null,
            "flex": null,
            "flex_flow": null,
            "grid_area": null,
            "grid_auto_columns": null,
            "grid_auto_flow": null,
            "grid_auto_rows": null,
            "grid_column": null,
            "grid_gap": null,
            "grid_row": null,
            "grid_template_areas": null,
            "grid_template_columns": null,
            "grid_template_rows": null,
            "height": null,
            "justify_content": null,
            "justify_items": null,
            "left": null,
            "margin": null,
            "max_height": null,
            "max_width": null,
            "min_height": null,
            "min_width": null,
            "object_fit": null,
            "object_position": null,
            "order": null,
            "overflow": null,
            "overflow_x": null,
            "overflow_y": null,
            "padding": null,
            "right": null,
            "top": null,
            "visibility": null,
            "width": null
          }
        },
        "405b8af7d1e54c51acaf936b9669e05d": {
          "model_module": "@jupyter-widgets/controls",
          "model_name": "ProgressStyleModel",
          "model_module_version": "1.5.0",
          "state": {
            "_model_module": "@jupyter-widgets/controls",
            "_model_module_version": "1.5.0",
            "_model_name": "ProgressStyleModel",
            "_view_count": null,
            "_view_module": "@jupyter-widgets/base",
            "_view_module_version": "1.2.0",
            "_view_name": "StyleView",
            "bar_color": null,
            "description_width": ""
          }
        },
        "84a705ba59394093be6a251333ea90e5": {
          "model_module": "@jupyter-widgets/base",
          "model_name": "LayoutModel",
          "model_module_version": "1.2.0",
          "state": {
            "_model_module": "@jupyter-widgets/base",
            "_model_module_version": "1.2.0",
            "_model_name": "LayoutModel",
            "_view_count": null,
            "_view_module": "@jupyter-widgets/base",
            "_view_module_version": "1.2.0",
            "_view_name": "LayoutView",
            "align_content": null,
            "align_items": null,
            "align_self": null,
            "border": null,
            "bottom": null,
            "display": null,
            "flex": null,
            "flex_flow": null,
            "grid_area": null,
            "grid_auto_columns": null,
            "grid_auto_flow": null,
            "grid_auto_rows": null,
            "grid_column": null,
            "grid_gap": null,
            "grid_row": null,
            "grid_template_areas": null,
            "grid_template_columns": null,
            "grid_template_rows": null,
            "height": null,
            "justify_content": null,
            "justify_items": null,
            "left": null,
            "margin": null,
            "max_height": null,
            "max_width": null,
            "min_height": null,
            "min_width": null,
            "object_fit": null,
            "object_position": null,
            "order": null,
            "overflow": null,
            "overflow_x": null,
            "overflow_y": null,
            "padding": null,
            "right": null,
            "top": null,
            "visibility": null,
            "width": null
          }
        },
        "6ea93ac49f4f46bbbf734105f0af67f5": {
          "model_module": "@jupyter-widgets/controls",
          "model_name": "DescriptionStyleModel",
          "model_module_version": "1.5.0",
          "state": {
            "_model_module": "@jupyter-widgets/controls",
            "_model_module_version": "1.5.0",
            "_model_name": "DescriptionStyleModel",
            "_view_count": null,
            "_view_module": "@jupyter-widgets/base",
            "_view_module_version": "1.2.0",
            "_view_name": "StyleView",
            "description_width": ""
          }
        },
        "548a6c57c2704f2d9418ba871342da2c": {
          "model_module": "@jupyter-widgets/controls",
          "model_name": "HBoxModel",
          "model_module_version": "1.5.0",
          "state": {
            "_dom_classes": [],
            "_model_module": "@jupyter-widgets/controls",
            "_model_module_version": "1.5.0",
            "_model_name": "HBoxModel",
            "_view_count": null,
            "_view_module": "@jupyter-widgets/controls",
            "_view_module_version": "1.5.0",
            "_view_name": "HBoxView",
            "box_style": "",
            "children": [
              "IPY_MODEL_61035e2bb5af4f2fbdc33a51949196ab",
              "IPY_MODEL_788b70ccff86490ba31a1a8e03fb4769",
              "IPY_MODEL_49229b29658045b382455b63241c6ded"
            ],
            "layout": "IPY_MODEL_f873e372a4fe469697870fb3cc652839"
          }
        },
        "61035e2bb5af4f2fbdc33a51949196ab": {
          "model_module": "@jupyter-widgets/controls",
          "model_name": "HTMLModel",
          "model_module_version": "1.5.0",
          "state": {
            "_dom_classes": [],
            "_model_module": "@jupyter-widgets/controls",
            "_model_module_version": "1.5.0",
            "_model_name": "HTMLModel",
            "_view_count": null,
            "_view_module": "@jupyter-widgets/controls",
            "_view_module_version": "1.5.0",
            "_view_name": "HTMLView",
            "description": "",
            "description_tooltip": null,
            "layout": "IPY_MODEL_06447d3645b2403f80d36b1a9a0c89e1",
            "placeholder": "​",
            "style": "IPY_MODEL_e81e862db0f74cc9879beb169f3f0fcf",
            "value": "config.json: 100%"
          }
        },
        "788b70ccff86490ba31a1a8e03fb4769": {
          "model_module": "@jupyter-widgets/controls",
          "model_name": "FloatProgressModel",
          "model_module_version": "1.5.0",
          "state": {
            "_dom_classes": [],
            "_model_module": "@jupyter-widgets/controls",
            "_model_module_version": "1.5.0",
            "_model_name": "FloatProgressModel",
            "_view_count": null,
            "_view_module": "@jupyter-widgets/controls",
            "_view_module_version": "1.5.0",
            "_view_name": "ProgressView",
            "bar_style": "success",
            "description": "",
            "description_tooltip": null,
            "layout": "IPY_MODEL_4e51944b28da4e708dafaf1a316df18d",
            "max": 760,
            "min": 0,
            "orientation": "horizontal",
            "style": "IPY_MODEL_92e949dd458143faa42c634554097efc",
            "value": 760
          }
        },
        "49229b29658045b382455b63241c6ded": {
          "model_module": "@jupyter-widgets/controls",
          "model_name": "HTMLModel",
          "model_module_version": "1.5.0",
          "state": {
            "_dom_classes": [],
            "_model_module": "@jupyter-widgets/controls",
            "_model_module_version": "1.5.0",
            "_model_name": "HTMLModel",
            "_view_count": null,
            "_view_module": "@jupyter-widgets/controls",
            "_view_module_version": "1.5.0",
            "_view_name": "HTMLView",
            "description": "",
            "description_tooltip": null,
            "layout": "IPY_MODEL_2b97ac77cd4e40ce9f567ff4066ef783",
            "placeholder": "​",
            "style": "IPY_MODEL_1e52ca7668424a24bc829c4145b9fef6",
            "value": " 760/760 [00:00&lt;00:00, 49.4kB/s]"
          }
        },
        "f873e372a4fe469697870fb3cc652839": {
          "model_module": "@jupyter-widgets/base",
          "model_name": "LayoutModel",
          "model_module_version": "1.2.0",
          "state": {
            "_model_module": "@jupyter-widgets/base",
            "_model_module_version": "1.2.0",
            "_model_name": "LayoutModel",
            "_view_count": null,
            "_view_module": "@jupyter-widgets/base",
            "_view_module_version": "1.2.0",
            "_view_name": "LayoutView",
            "align_content": null,
            "align_items": null,
            "align_self": null,
            "border": null,
            "bottom": null,
            "display": null,
            "flex": null,
            "flex_flow": null,
            "grid_area": null,
            "grid_auto_columns": null,
            "grid_auto_flow": null,
            "grid_auto_rows": null,
            "grid_column": null,
            "grid_gap": null,
            "grid_row": null,
            "grid_template_areas": null,
            "grid_template_columns": null,
            "grid_template_rows": null,
            "height": null,
            "justify_content": null,
            "justify_items": null,
            "left": null,
            "margin": null,
            "max_height": null,
            "max_width": null,
            "min_height": null,
            "min_width": null,
            "object_fit": null,
            "object_position": null,
            "order": null,
            "overflow": null,
            "overflow_x": null,
            "overflow_y": null,
            "padding": null,
            "right": null,
            "top": null,
            "visibility": null,
            "width": null
          }
        },
        "06447d3645b2403f80d36b1a9a0c89e1": {
          "model_module": "@jupyter-widgets/base",
          "model_name": "LayoutModel",
          "model_module_version": "1.2.0",
          "state": {
            "_model_module": "@jupyter-widgets/base",
            "_model_module_version": "1.2.0",
            "_model_name": "LayoutModel",
            "_view_count": null,
            "_view_module": "@jupyter-widgets/base",
            "_view_module_version": "1.2.0",
            "_view_name": "LayoutView",
            "align_content": null,
            "align_items": null,
            "align_self": null,
            "border": null,
            "bottom": null,
            "display": null,
            "flex": null,
            "flex_flow": null,
            "grid_area": null,
            "grid_auto_columns": null,
            "grid_auto_flow": null,
            "grid_auto_rows": null,
            "grid_column": null,
            "grid_gap": null,
            "grid_row": null,
            "grid_template_areas": null,
            "grid_template_columns": null,
            "grid_template_rows": null,
            "height": null,
            "justify_content": null,
            "justify_items": null,
            "left": null,
            "margin": null,
            "max_height": null,
            "max_width": null,
            "min_height": null,
            "min_width": null,
            "object_fit": null,
            "object_position": null,
            "order": null,
            "overflow": null,
            "overflow_x": null,
            "overflow_y": null,
            "padding": null,
            "right": null,
            "top": null,
            "visibility": null,
            "width": null
          }
        },
        "e81e862db0f74cc9879beb169f3f0fcf": {
          "model_module": "@jupyter-widgets/controls",
          "model_name": "DescriptionStyleModel",
          "model_module_version": "1.5.0",
          "state": {
            "_model_module": "@jupyter-widgets/controls",
            "_model_module_version": "1.5.0",
            "_model_name": "DescriptionStyleModel",
            "_view_count": null,
            "_view_module": "@jupyter-widgets/base",
            "_view_module_version": "1.2.0",
            "_view_name": "StyleView",
            "description_width": ""
          }
        },
        "4e51944b28da4e708dafaf1a316df18d": {
          "model_module": "@jupyter-widgets/base",
          "model_name": "LayoutModel",
          "model_module_version": "1.2.0",
          "state": {
            "_model_module": "@jupyter-widgets/base",
            "_model_module_version": "1.2.0",
            "_model_name": "LayoutModel",
            "_view_count": null,
            "_view_module": "@jupyter-widgets/base",
            "_view_module_version": "1.2.0",
            "_view_name": "LayoutView",
            "align_content": null,
            "align_items": null,
            "align_self": null,
            "border": null,
            "bottom": null,
            "display": null,
            "flex": null,
            "flex_flow": null,
            "grid_area": null,
            "grid_auto_columns": null,
            "grid_auto_flow": null,
            "grid_auto_rows": null,
            "grid_column": null,
            "grid_gap": null,
            "grid_row": null,
            "grid_template_areas": null,
            "grid_template_columns": null,
            "grid_template_rows": null,
            "height": null,
            "justify_content": null,
            "justify_items": null,
            "left": null,
            "margin": null,
            "max_height": null,
            "max_width": null,
            "min_height": null,
            "min_width": null,
            "object_fit": null,
            "object_position": null,
            "order": null,
            "overflow": null,
            "overflow_x": null,
            "overflow_y": null,
            "padding": null,
            "right": null,
            "top": null,
            "visibility": null,
            "width": null
          }
        },
        "92e949dd458143faa42c634554097efc": {
          "model_module": "@jupyter-widgets/controls",
          "model_name": "ProgressStyleModel",
          "model_module_version": "1.5.0",
          "state": {
            "_model_module": "@jupyter-widgets/controls",
            "_model_module_version": "1.5.0",
            "_model_name": "ProgressStyleModel",
            "_view_count": null,
            "_view_module": "@jupyter-widgets/base",
            "_view_module_version": "1.2.0",
            "_view_name": "StyleView",
            "bar_color": null,
            "description_width": ""
          }
        },
        "2b97ac77cd4e40ce9f567ff4066ef783": {
          "model_module": "@jupyter-widgets/base",
          "model_name": "LayoutModel",
          "model_module_version": "1.2.0",
          "state": {
            "_model_module": "@jupyter-widgets/base",
            "_model_module_version": "1.2.0",
            "_model_name": "LayoutModel",
            "_view_count": null,
            "_view_module": "@jupyter-widgets/base",
            "_view_module_version": "1.2.0",
            "_view_name": "LayoutView",
            "align_content": null,
            "align_items": null,
            "align_self": null,
            "border": null,
            "bottom": null,
            "display": null,
            "flex": null,
            "flex_flow": null,
            "grid_area": null,
            "grid_auto_columns": null,
            "grid_auto_flow": null,
            "grid_auto_rows": null,
            "grid_column": null,
            "grid_gap": null,
            "grid_row": null,
            "grid_template_areas": null,
            "grid_template_columns": null,
            "grid_template_rows": null,
            "height": null,
            "justify_content": null,
            "justify_items": null,
            "left": null,
            "margin": null,
            "max_height": null,
            "max_width": null,
            "min_height": null,
            "min_width": null,
            "object_fit": null,
            "object_position": null,
            "order": null,
            "overflow": null,
            "overflow_x": null,
            "overflow_y": null,
            "padding": null,
            "right": null,
            "top": null,
            "visibility": null,
            "width": null
          }
        },
        "1e52ca7668424a24bc829c4145b9fef6": {
          "model_module": "@jupyter-widgets/controls",
          "model_name": "DescriptionStyleModel",
          "model_module_version": "1.5.0",
          "state": {
            "_model_module": "@jupyter-widgets/controls",
            "_model_module_version": "1.5.0",
            "_model_name": "DescriptionStyleModel",
            "_view_count": null,
            "_view_module": "@jupyter-widgets/base",
            "_view_module_version": "1.2.0",
            "_view_name": "StyleView",
            "description_width": ""
          }
        },
        "1186549a39e9492c8bb4c0a597673d64": {
          "model_module": "@jupyter-widgets/controls",
          "model_name": "HBoxModel",
          "model_module_version": "1.5.0",
          "state": {
            "_dom_classes": [],
            "_model_module": "@jupyter-widgets/controls",
            "_model_module_version": "1.5.0",
            "_model_name": "HBoxModel",
            "_view_count": null,
            "_view_module": "@jupyter-widgets/controls",
            "_view_module_version": "1.5.0",
            "_view_name": "HBoxView",
            "box_style": "",
            "children": [
              "IPY_MODEL_8ed0f8cd334c48cc8627b299906b60be",
              "IPY_MODEL_cddc9f027d8a4995aab44e12b2a74347",
              "IPY_MODEL_660db627c0224673af3e3a90632e3615"
            ],
            "layout": "IPY_MODEL_098fb618134e4fb7808515cbd51f127d"
          }
        },
        "8ed0f8cd334c48cc8627b299906b60be": {
          "model_module": "@jupyter-widgets/controls",
          "model_name": "HTMLModel",
          "model_module_version": "1.5.0",
          "state": {
            "_dom_classes": [],
            "_model_module": "@jupyter-widgets/controls",
            "_model_module_version": "1.5.0",
            "_model_name": "HTMLModel",
            "_view_count": null,
            "_view_module": "@jupyter-widgets/controls",
            "_view_module_version": "1.5.0",
            "_view_name": "HTMLView",
            "description": "",
            "description_tooltip": null,
            "layout": "IPY_MODEL_f4563387384e4e69b320798ca5405e9f",
            "placeholder": "​",
            "style": "IPY_MODEL_4417f068f51a465cb1eefdb8d7bb3976",
            "value": "pytorch_model.bin: 100%"
          }
        },
        "cddc9f027d8a4995aab44e12b2a74347": {
          "model_module": "@jupyter-widgets/controls",
          "model_name": "FloatProgressModel",
          "model_module_version": "1.5.0",
          "state": {
            "_dom_classes": [],
            "_model_module": "@jupyter-widgets/controls",
            "_model_module_version": "1.5.0",
            "_model_name": "FloatProgressModel",
            "_view_count": null,
            "_view_module": "@jupyter-widgets/controls",
            "_view_module_version": "1.5.0",
            "_view_name": "ProgressView",
            "bar_style": "success",
            "description": "",
            "description_tooltip": null,
            "layout": "IPY_MODEL_3a8f3b2b8bec48d6becee6d5ac466296",
            "max": 467042463,
            "min": 0,
            "orientation": "horizontal",
            "style": "IPY_MODEL_1438673bd10044e692f111a5fd46d104",
            "value": 467042463
          }
        },
        "660db627c0224673af3e3a90632e3615": {
          "model_module": "@jupyter-widgets/controls",
          "model_name": "HTMLModel",
          "model_module_version": "1.5.0",
          "state": {
            "_dom_classes": [],
            "_model_module": "@jupyter-widgets/controls",
            "_model_module_version": "1.5.0",
            "_model_name": "HTMLModel",
            "_view_count": null,
            "_view_module": "@jupyter-widgets/controls",
            "_view_module_version": "1.5.0",
            "_view_name": "HTMLView",
            "description": "",
            "description_tooltip": null,
            "layout": "IPY_MODEL_975617672a0049809050771a81bdeebe",
            "placeholder": "​",
            "style": "IPY_MODEL_a9acaf04513849d38840248a33e3dee4",
            "value": " 467M/467M [00:06&lt;00:00, 107MB/s]"
          }
        },
        "098fb618134e4fb7808515cbd51f127d": {
          "model_module": "@jupyter-widgets/base",
          "model_name": "LayoutModel",
          "model_module_version": "1.2.0",
          "state": {
            "_model_module": "@jupyter-widgets/base",
            "_model_module_version": "1.2.0",
            "_model_name": "LayoutModel",
            "_view_count": null,
            "_view_module": "@jupyter-widgets/base",
            "_view_module_version": "1.2.0",
            "_view_name": "LayoutView",
            "align_content": null,
            "align_items": null,
            "align_self": null,
            "border": null,
            "bottom": null,
            "display": null,
            "flex": null,
            "flex_flow": null,
            "grid_area": null,
            "grid_auto_columns": null,
            "grid_auto_flow": null,
            "grid_auto_rows": null,
            "grid_column": null,
            "grid_gap": null,
            "grid_row": null,
            "grid_template_areas": null,
            "grid_template_columns": null,
            "grid_template_rows": null,
            "height": null,
            "justify_content": null,
            "justify_items": null,
            "left": null,
            "margin": null,
            "max_height": null,
            "max_width": null,
            "min_height": null,
            "min_width": null,
            "object_fit": null,
            "object_position": null,
            "order": null,
            "overflow": null,
            "overflow_x": null,
            "overflow_y": null,
            "padding": null,
            "right": null,
            "top": null,
            "visibility": null,
            "width": null
          }
        },
        "f4563387384e4e69b320798ca5405e9f": {
          "model_module": "@jupyter-widgets/base",
          "model_name": "LayoutModel",
          "model_module_version": "1.2.0",
          "state": {
            "_model_module": "@jupyter-widgets/base",
            "_model_module_version": "1.2.0",
            "_model_name": "LayoutModel",
            "_view_count": null,
            "_view_module": "@jupyter-widgets/base",
            "_view_module_version": "1.2.0",
            "_view_name": "LayoutView",
            "align_content": null,
            "align_items": null,
            "align_self": null,
            "border": null,
            "bottom": null,
            "display": null,
            "flex": null,
            "flex_flow": null,
            "grid_area": null,
            "grid_auto_columns": null,
            "grid_auto_flow": null,
            "grid_auto_rows": null,
            "grid_column": null,
            "grid_gap": null,
            "grid_row": null,
            "grid_template_areas": null,
            "grid_template_columns": null,
            "grid_template_rows": null,
            "height": null,
            "justify_content": null,
            "justify_items": null,
            "left": null,
            "margin": null,
            "max_height": null,
            "max_width": null,
            "min_height": null,
            "min_width": null,
            "object_fit": null,
            "object_position": null,
            "order": null,
            "overflow": null,
            "overflow_x": null,
            "overflow_y": null,
            "padding": null,
            "right": null,
            "top": null,
            "visibility": null,
            "width": null
          }
        },
        "4417f068f51a465cb1eefdb8d7bb3976": {
          "model_module": "@jupyter-widgets/controls",
          "model_name": "DescriptionStyleModel",
          "model_module_version": "1.5.0",
          "state": {
            "_model_module": "@jupyter-widgets/controls",
            "_model_module_version": "1.5.0",
            "_model_name": "DescriptionStyleModel",
            "_view_count": null,
            "_view_module": "@jupyter-widgets/base",
            "_view_module_version": "1.2.0",
            "_view_name": "StyleView",
            "description_width": ""
          }
        },
        "3a8f3b2b8bec48d6becee6d5ac466296": {
          "model_module": "@jupyter-widgets/base",
          "model_name": "LayoutModel",
          "model_module_version": "1.2.0",
          "state": {
            "_model_module": "@jupyter-widgets/base",
            "_model_module_version": "1.2.0",
            "_model_name": "LayoutModel",
            "_view_count": null,
            "_view_module": "@jupyter-widgets/base",
            "_view_module_version": "1.2.0",
            "_view_name": "LayoutView",
            "align_content": null,
            "align_items": null,
            "align_self": null,
            "border": null,
            "bottom": null,
            "display": null,
            "flex": null,
            "flex_flow": null,
            "grid_area": null,
            "grid_auto_columns": null,
            "grid_auto_flow": null,
            "grid_auto_rows": null,
            "grid_column": null,
            "grid_gap": null,
            "grid_row": null,
            "grid_template_areas": null,
            "grid_template_columns": null,
            "grid_template_rows": null,
            "height": null,
            "justify_content": null,
            "justify_items": null,
            "left": null,
            "margin": null,
            "max_height": null,
            "max_width": null,
            "min_height": null,
            "min_width": null,
            "object_fit": null,
            "object_position": null,
            "order": null,
            "overflow": null,
            "overflow_x": null,
            "overflow_y": null,
            "padding": null,
            "right": null,
            "top": null,
            "visibility": null,
            "width": null
          }
        },
        "1438673bd10044e692f111a5fd46d104": {
          "model_module": "@jupyter-widgets/controls",
          "model_name": "ProgressStyleModel",
          "model_module_version": "1.5.0",
          "state": {
            "_model_module": "@jupyter-widgets/controls",
            "_model_module_version": "1.5.0",
            "_model_name": "ProgressStyleModel",
            "_view_count": null,
            "_view_module": "@jupyter-widgets/base",
            "_view_module_version": "1.2.0",
            "_view_name": "StyleView",
            "bar_color": null,
            "description_width": ""
          }
        },
        "975617672a0049809050771a81bdeebe": {
          "model_module": "@jupyter-widgets/base",
          "model_name": "LayoutModel",
          "model_module_version": "1.2.0",
          "state": {
            "_model_module": "@jupyter-widgets/base",
            "_model_module_version": "1.2.0",
            "_model_name": "LayoutModel",
            "_view_count": null,
            "_view_module": "@jupyter-widgets/base",
            "_view_module_version": "1.2.0",
            "_view_name": "LayoutView",
            "align_content": null,
            "align_items": null,
            "align_self": null,
            "border": null,
            "bottom": null,
            "display": null,
            "flex": null,
            "flex_flow": null,
            "grid_area": null,
            "grid_auto_columns": null,
            "grid_auto_flow": null,
            "grid_auto_rows": null,
            "grid_column": null,
            "grid_gap": null,
            "grid_row": null,
            "grid_template_areas": null,
            "grid_template_columns": null,
            "grid_template_rows": null,
            "height": null,
            "justify_content": null,
            "justify_items": null,
            "left": null,
            "margin": null,
            "max_height": null,
            "max_width": null,
            "min_height": null,
            "min_width": null,
            "object_fit": null,
            "object_position": null,
            "order": null,
            "overflow": null,
            "overflow_x": null,
            "overflow_y": null,
            "padding": null,
            "right": null,
            "top": null,
            "visibility": null,
            "width": null
          }
        },
        "a9acaf04513849d38840248a33e3dee4": {
          "model_module": "@jupyter-widgets/controls",
          "model_name": "DescriptionStyleModel",
          "model_module_version": "1.5.0",
          "state": {
            "_model_module": "@jupyter-widgets/controls",
            "_model_module_version": "1.5.0",
            "_model_name": "DescriptionStyleModel",
            "_view_count": null,
            "_view_module": "@jupyter-widgets/base",
            "_view_module_version": "1.2.0",
            "_view_name": "StyleView",
            "description_width": ""
          }
        }
      }
    }
  },
  "cells": [
    {
      "cell_type": "markdown",
      "metadata": {
        "id": "view-in-github"
      },
      "source": [
        "<a href=\"https://colab.research.google.com/github/shanayghag/Sentiment-classification-using-XLNet/blob/master/Sentiment_Analysis_Series_part_1.ipynb\" target=\"_parent\"><img src=\"https://colab.research.google.com/assets/colab-badge.svg\" alt=\"Open In Colab\"/></a>"
      ]
    },
    {
      "cell_type": "code",
      "metadata": {
        "id": "txqNzM1xIPIR",
        "outputId": "b72d8ef4-8d8b-46d6-a00c-ab3108f619b3",
        "colab": {
          "base_uri": "https://localhost:8080/"
        }
      },
      "source": [
        "from google.colab import drive\n",
        "drive.mount('/content/drive')"
      ],
      "execution_count": null,
      "outputs": [
        {
          "output_type": "stream",
          "name": "stdout",
          "text": [
            "Mounted at /content/drive\n"
          ]
        }
      ]
    },
    {
      "cell_type": "code",
      "metadata": {
        "id": "3m6sGbnGeXHk",
        "outputId": "109acfbb-de36-4829-9f80-5302333a5149",
        "colab": {
          "base_uri": "https://localhost:8080/"
        }
      },
      "source": [
        "!nvidia-smi"
      ],
      "execution_count": null,
      "outputs": [
        {
          "output_type": "stream",
          "name": "stdout",
          "text": [
            "Sat Jun  8 10:02:47 2024       \n",
            "+---------------------------------------------------------------------------------------+\n",
            "| NVIDIA-SMI 535.104.05             Driver Version: 535.104.05   CUDA Version: 12.2     |\n",
            "|-----------------------------------------+----------------------+----------------------+\n",
            "| GPU  Name                 Persistence-M | Bus-Id        Disp.A | Volatile Uncorr. ECC |\n",
            "| Fan  Temp   Perf          Pwr:Usage/Cap |         Memory-Usage | GPU-Util  Compute M. |\n",
            "|                                         |                      |               MIG M. |\n",
            "|=========================================+======================+======================|\n",
            "|   0  Tesla T4                       Off | 00000000:00:04.0 Off |                    0 |\n",
            "| N/A   43C    P8               9W /  70W |      0MiB / 15360MiB |      0%      Default |\n",
            "|                                         |                      |                  N/A |\n",
            "+-----------------------------------------+----------------------+----------------------+\n",
            "                                                                                         \n",
            "+---------------------------------------------------------------------------------------+\n",
            "| Processes:                                                                            |\n",
            "|  GPU   GI   CI        PID   Type   Process name                            GPU Memory |\n",
            "|        ID   ID                                                             Usage      |\n",
            "|=======================================================================================|\n",
            "|  No running processes found                                                           |\n",
            "+---------------------------------------------------------------------------------------+\n"
          ]
        }
      ]
    },
    {
      "cell_type": "code",
      "source": [
        "import pandas as pd\n",
        "data=pd.read_csv('/content/drive/MyDrive/nlp bio informatics/final_rediology_data.csv')"
      ],
      "metadata": {
        "id": "nrUghPCyNIt_"
      },
      "execution_count": null,
      "outputs": []
    },
    {
      "cell_type": "code",
      "metadata": {
        "id": "HqQKcukJAicL",
        "outputId": "56a584aa-3f3e-47a9-d068-f5738f5fd0f0",
        "colab": {
          "base_uri": "https://localhost:8080/"
        }
      },
      "source": [
        "!pip install transformers"
      ],
      "execution_count": null,
      "outputs": [
        {
          "output_type": "stream",
          "name": "stdout",
          "text": [
            "Requirement already satisfied: transformers in /usr/local/lib/python3.10/dist-packages (4.41.2)\n",
            "Requirement already satisfied: filelock in /usr/local/lib/python3.10/dist-packages (from transformers) (3.14.0)\n",
            "Requirement already satisfied: huggingface-hub<1.0,>=0.23.0 in /usr/local/lib/python3.10/dist-packages (from transformers) (0.23.2)\n",
            "Requirement already satisfied: numpy>=1.17 in /usr/local/lib/python3.10/dist-packages (from transformers) (1.25.2)\n",
            "Requirement already satisfied: packaging>=20.0 in /usr/local/lib/python3.10/dist-packages (from transformers) (24.0)\n",
            "Requirement already satisfied: pyyaml>=5.1 in /usr/local/lib/python3.10/dist-packages (from transformers) (6.0.1)\n",
            "Requirement already satisfied: regex!=2019.12.17 in /usr/local/lib/python3.10/dist-packages (from transformers) (2024.5.15)\n",
            "Requirement already satisfied: requests in /usr/local/lib/python3.10/dist-packages (from transformers) (2.31.0)\n",
            "Requirement already satisfied: tokenizers<0.20,>=0.19 in /usr/local/lib/python3.10/dist-packages (from transformers) (0.19.1)\n",
            "Requirement already satisfied: safetensors>=0.4.1 in /usr/local/lib/python3.10/dist-packages (from transformers) (0.4.3)\n",
            "Requirement already satisfied: tqdm>=4.27 in /usr/local/lib/python3.10/dist-packages (from transformers) (4.66.4)\n",
            "Requirement already satisfied: fsspec>=2023.5.0 in /usr/local/lib/python3.10/dist-packages (from huggingface-hub<1.0,>=0.23.0->transformers) (2023.6.0)\n",
            "Requirement already satisfied: typing-extensions>=3.7.4.3 in /usr/local/lib/python3.10/dist-packages (from huggingface-hub<1.0,>=0.23.0->transformers) (4.12.1)\n",
            "Requirement already satisfied: charset-normalizer<4,>=2 in /usr/local/lib/python3.10/dist-packages (from requests->transformers) (3.3.2)\n",
            "Requirement already satisfied: idna<4,>=2.5 in /usr/local/lib/python3.10/dist-packages (from requests->transformers) (3.7)\n",
            "Requirement already satisfied: urllib3<3,>=1.21.1 in /usr/local/lib/python3.10/dist-packages (from requests->transformers) (2.0.7)\n",
            "Requirement already satisfied: certifi>=2017.4.17 in /usr/local/lib/python3.10/dist-packages (from requests->transformers) (2024.6.2)\n"
          ]
        }
      ]
    },
    {
      "cell_type": "code",
      "metadata": {
        "id": "U8FRjwBo15uT",
        "colab": {
          "base_uri": "https://localhost:8080/"
        },
        "outputId": "c14d5e66-29a1-4476-9b21-0588bd98d7a0"
      },
      "source": [
        "!pip install -q -U watermark"
      ],
      "execution_count": null,
      "outputs": [
        {
          "output_type": "stream",
          "name": "stdout",
          "text": [
            "\u001b[?25l     \u001b[90m━━━━━━━━━━━━━━━━━━━━━━━━━━━━━━━━━━━━━━━━\u001b[0m \u001b[32m0.0/1.6 MB\u001b[0m \u001b[31m?\u001b[0m eta \u001b[36m-:--:--\u001b[0m\r\u001b[2K     \u001b[91m━━━━━\u001b[0m\u001b[90m╺\u001b[0m\u001b[90m━━━━━━━━━━━━━━━━━━━━━━━━━━━━━━━━━━\u001b[0m \u001b[32m0.2/1.6 MB\u001b[0m \u001b[31m7.0 MB/s\u001b[0m eta \u001b[36m0:00:01\u001b[0m\r\u001b[2K     \u001b[91m━━━━━━━━━━━━━━━━━━━━\u001b[0m\u001b[90m╺\u001b[0m\u001b[90m━━━━━━━━━━━━━━━━━━━\u001b[0m \u001b[32m0.8/1.6 MB\u001b[0m \u001b[31m12.3 MB/s\u001b[0m eta \u001b[36m0:00:01\u001b[0m\r\u001b[2K     \u001b[91m━━━━━━━━━━━━━━━━━━━━━━━━━━━━━━━━━━━━━━━\u001b[0m\u001b[91m╸\u001b[0m \u001b[32m1.6/1.6 MB\u001b[0m \u001b[31m16.2 MB/s\u001b[0m eta \u001b[36m0:00:01\u001b[0m\r\u001b[2K     \u001b[90m━━━━━━━━━━━━━━━━━━━━━━━━━━━━━━━━━━━━━━━━\u001b[0m \u001b[32m1.6/1.6 MB\u001b[0m \u001b[31m14.0 MB/s\u001b[0m eta \u001b[36m0:00:00\u001b[0m\n",
            "\u001b[?25h"
          ]
        }
      ]
    },
    {
      "cell_type": "code",
      "metadata": {
        "id": "3DNdmQhn2D43",
        "outputId": "47be6f42-0e7d-4109-88b2-5ab1b05620e9",
        "colab": {
          "base_uri": "https://localhost:8080/"
        }
      },
      "source": [
        "%reload_ext watermark\n",
        "%watermark -v -p numpy,pandas,torch,transformers"
      ],
      "execution_count": null,
      "outputs": [
        {
          "output_type": "stream",
          "name": "stdout",
          "text": [
            "Python implementation: CPython\n",
            "Python version       : 3.10.12\n",
            "IPython version      : 7.34.0\n",
            "\n",
            "numpy       : 1.25.2\n",
            "pandas      : 2.0.3\n",
            "torch       : 2.3.0+cu121\n",
            "transformers: 4.41.2\n",
            "\n"
          ]
        }
      ]
    },
    {
      "cell_type": "markdown",
      "metadata": {
        "id": "Mk0GnvUQIdxc"
      },
      "source": [
        "### Making the necessary imports"
      ]
    },
    {
      "cell_type": "code",
      "metadata": {
        "id": "dOpc8w_12D1f"
      },
      "source": [
        "import transformers\n",
        "from transformers import XLNetTokenizer, XLNetModel, AdamW, get_linear_schedule_with_warmup\n",
        "import torch\n",
        "\n",
        "import numpy as np\n",
        "import pandas as pd\n",
        "import seaborn as sns\n",
        "import matplotlib.pyplot as plt\n",
        "from matplotlib import rc\n",
        "from sklearn.model_selection import train_test_split\n",
        "from sklearn.metrics import accuracy_score\n",
        "from collections import defaultdict\n",
        "from textwrap import wrap\n",
        "from pylab import rcParams\n",
        "\n",
        "from torch import nn, optim\n",
        "from keras.preprocessing.sequence import pad_sequences\n",
        "from torch.utils.data import TensorDataset,RandomSampler,SequentialSampler\n",
        "from torch.utils.data import Dataset, DataLoader\n",
        "import torch.nn.functional as F"
      ],
      "execution_count": null,
      "outputs": []
    },
    {
      "cell_type": "code",
      "metadata": {
        "id": "qAICzZNo2Dyw",
        "outputId": "44576875-0299-42b1-9a1c-c3ca110b8cbf",
        "colab": {
          "base_uri": "https://localhost:8080/"
        }
      },
      "source": [
        "%matplotlib inline\n",
        "%config InlineBackend.figure_format='retina'\n",
        "\n",
        "sns.set(style='whitegrid', palette='muted', font_scale=1.2)\n",
        "\n",
        "HAPPY_COLORS_PALETTE = [\"#01BEFE\", \"#FFDD00\", \"#FF7D00\", \"#FF006D\", \"#ADFF02\", \"#8F00FF\"]\n",
        "\n",
        "sns.set_palette(sns.color_palette(HAPPY_COLORS_PALETTE))\n",
        "\n",
        "rcParams['figure.figsize'] = 12, 8\n",
        "\n",
        "RANDOM_SEED = 42\n",
        "np.random.seed(RANDOM_SEED)\n",
        "torch.manual_seed(RANDOM_SEED)\n",
        "\n",
        "device = torch.device(\"cuda:0\" if torch.cuda.is_available() else \"cpu\")\n",
        "device"
      ],
      "execution_count": null,
      "outputs": [
        {
          "output_type": "execute_result",
          "data": {
            "text/plain": [
              "device(type='cuda', index=0)"
            ]
          },
          "metadata": {},
          "execution_count": 8
        }
      ]
    },
    {
      "cell_type": "markdown",
      "metadata": {
        "id": "gC-WS1hYIxkr"
      },
      "source": [
        "### Data Preprocessing"
      ]
    },
    {
      "cell_type": "code",
      "metadata": {
        "id": "jJ83RaRG2Dv8"
      },
      "source": [
        "import pandas as pd\n",
        "data=pd.read_csv('/content/drive/MyDrive/nlp bio informatics/final_rediology_data.csv')"
      ],
      "execution_count": null,
      "outputs": []
    },
    {
      "cell_type": "code",
      "metadata": {
        "id": "4J5-ddIc2DtI",
        "outputId": "38355044-95e9-46fa-a972-5023c8856f4a",
        "colab": {
          "base_uri": "https://localhost:8080/",
          "height": 423
        }
      },
      "source": [
        "data.dropna(inplace=True)\n",
        "data.drop_duplicates(inplace=True)\n",
        "data.astype(str).apply(lambda x: x.str.encode('ascii', 'ignore').str.decode('ascii'))"
      ],
      "execution_count": null,
      "outputs": [
        {
          "output_type": "execute_result",
          "data": {
            "text/plain": [
              "                                               fulltext     label\n",
              "0     The cardiomediastinal silhouette appears irreg...  abnormal\n",
              "1     Stable cardiomegaly. Improved aeration in the ...  abnormal\n",
              "2     2 views of the chest demonstrate sternotomy  a...  abnormal\n",
              "3     The heart, pulmonary  and mediastinum are with...  abnormal\n",
              "4     Stable appearance of aortic valve prosthesis. ...  abnormal\n",
              "...                                                 ...       ...\n",
              "3949  The cardiac and mediastinal silhouettes are no...  abnormal\n",
              "3950  Clear lungs bilaterally. Normal cardiac contou...    normal\n",
              "3951  Heart size normal. Lungs clear. Stable 5 mm ca...  abnormal\n",
              "3952  The cardiac and mediastinal silhouettes are un...  abnormal\n",
              "3954  Heart size borderline enlarged. No focal alveo...  abnormal\n",
              "\n",
              "[3169 rows x 2 columns]"
            ],
            "text/html": [
              "\n",
              "  <div id=\"df-ce83f343-69e3-4bae-a201-1f19e18ccc3f\" class=\"colab-df-container\">\n",
              "    <div>\n",
              "<style scoped>\n",
              "    .dataframe tbody tr th:only-of-type {\n",
              "        vertical-align: middle;\n",
              "    }\n",
              "\n",
              "    .dataframe tbody tr th {\n",
              "        vertical-align: top;\n",
              "    }\n",
              "\n",
              "    .dataframe thead th {\n",
              "        text-align: right;\n",
              "    }\n",
              "</style>\n",
              "<table border=\"1\" class=\"dataframe\">\n",
              "  <thead>\n",
              "    <tr style=\"text-align: right;\">\n",
              "      <th></th>\n",
              "      <th>fulltext</th>\n",
              "      <th>label</th>\n",
              "    </tr>\n",
              "  </thead>\n",
              "  <tbody>\n",
              "    <tr>\n",
              "      <th>0</th>\n",
              "      <td>The cardiomediastinal silhouette appears irreg...</td>\n",
              "      <td>abnormal</td>\n",
              "    </tr>\n",
              "    <tr>\n",
              "      <th>1</th>\n",
              "      <td>Stable cardiomegaly. Improved aeration in the ...</td>\n",
              "      <td>abnormal</td>\n",
              "    </tr>\n",
              "    <tr>\n",
              "      <th>2</th>\n",
              "      <td>2 views of the chest demonstrate sternotomy  a...</td>\n",
              "      <td>abnormal</td>\n",
              "    </tr>\n",
              "    <tr>\n",
              "      <th>3</th>\n",
              "      <td>The heart, pulmonary  and mediastinum are with...</td>\n",
              "      <td>abnormal</td>\n",
              "    </tr>\n",
              "    <tr>\n",
              "      <th>4</th>\n",
              "      <td>Stable appearance of aortic valve prosthesis. ...</td>\n",
              "      <td>abnormal</td>\n",
              "    </tr>\n",
              "    <tr>\n",
              "      <th>...</th>\n",
              "      <td>...</td>\n",
              "      <td>...</td>\n",
              "    </tr>\n",
              "    <tr>\n",
              "      <th>3949</th>\n",
              "      <td>The cardiac and mediastinal silhouettes are no...</td>\n",
              "      <td>abnormal</td>\n",
              "    </tr>\n",
              "    <tr>\n",
              "      <th>3950</th>\n",
              "      <td>Clear lungs bilaterally. Normal cardiac contou...</td>\n",
              "      <td>normal</td>\n",
              "    </tr>\n",
              "    <tr>\n",
              "      <th>3951</th>\n",
              "      <td>Heart size normal. Lungs clear. Stable 5 mm ca...</td>\n",
              "      <td>abnormal</td>\n",
              "    </tr>\n",
              "    <tr>\n",
              "      <th>3952</th>\n",
              "      <td>The cardiac and mediastinal silhouettes are un...</td>\n",
              "      <td>abnormal</td>\n",
              "    </tr>\n",
              "    <tr>\n",
              "      <th>3954</th>\n",
              "      <td>Heart size borderline enlarged. No focal alveo...</td>\n",
              "      <td>abnormal</td>\n",
              "    </tr>\n",
              "  </tbody>\n",
              "</table>\n",
              "<p>3169 rows × 2 columns</p>\n",
              "</div>\n",
              "    <div class=\"colab-df-buttons\">\n",
              "\n",
              "  <div class=\"colab-df-container\">\n",
              "    <button class=\"colab-df-convert\" onclick=\"convertToInteractive('df-ce83f343-69e3-4bae-a201-1f19e18ccc3f')\"\n",
              "            title=\"Convert this dataframe to an interactive table.\"\n",
              "            style=\"display:none;\">\n",
              "\n",
              "  <svg xmlns=\"http://www.w3.org/2000/svg\" height=\"24px\" viewBox=\"0 -960 960 960\">\n",
              "    <path d=\"M120-120v-720h720v720H120Zm60-500h600v-160H180v160Zm220 220h160v-160H400v160Zm0 220h160v-160H400v160ZM180-400h160v-160H180v160Zm440 0h160v-160H620v160ZM180-180h160v-160H180v160Zm440 0h160v-160H620v160Z\"/>\n",
              "  </svg>\n",
              "    </button>\n",
              "\n",
              "  <style>\n",
              "    .colab-df-container {\n",
              "      display:flex;\n",
              "      gap: 12px;\n",
              "    }\n",
              "\n",
              "    .colab-df-convert {\n",
              "      background-color: #E8F0FE;\n",
              "      border: none;\n",
              "      border-radius: 50%;\n",
              "      cursor: pointer;\n",
              "      display: none;\n",
              "      fill: #1967D2;\n",
              "      height: 32px;\n",
              "      padding: 0 0 0 0;\n",
              "      width: 32px;\n",
              "    }\n",
              "\n",
              "    .colab-df-convert:hover {\n",
              "      background-color: #E2EBFA;\n",
              "      box-shadow: 0px 1px 2px rgba(60, 64, 67, 0.3), 0px 1px 3px 1px rgba(60, 64, 67, 0.15);\n",
              "      fill: #174EA6;\n",
              "    }\n",
              "\n",
              "    .colab-df-buttons div {\n",
              "      margin-bottom: 4px;\n",
              "    }\n",
              "\n",
              "    [theme=dark] .colab-df-convert {\n",
              "      background-color: #3B4455;\n",
              "      fill: #D2E3FC;\n",
              "    }\n",
              "\n",
              "    [theme=dark] .colab-df-convert:hover {\n",
              "      background-color: #434B5C;\n",
              "      box-shadow: 0px 1px 3px 1px rgba(0, 0, 0, 0.15);\n",
              "      filter: drop-shadow(0px 1px 2px rgba(0, 0, 0, 0.3));\n",
              "      fill: #FFFFFF;\n",
              "    }\n",
              "  </style>\n",
              "\n",
              "    <script>\n",
              "      const buttonEl =\n",
              "        document.querySelector('#df-ce83f343-69e3-4bae-a201-1f19e18ccc3f button.colab-df-convert');\n",
              "      buttonEl.style.display =\n",
              "        google.colab.kernel.accessAllowed ? 'block' : 'none';\n",
              "\n",
              "      async function convertToInteractive(key) {\n",
              "        const element = document.querySelector('#df-ce83f343-69e3-4bae-a201-1f19e18ccc3f');\n",
              "        const dataTable =\n",
              "          await google.colab.kernel.invokeFunction('convertToInteractive',\n",
              "                                                    [key], {});\n",
              "        if (!dataTable) return;\n",
              "\n",
              "        const docLinkHtml = 'Like what you see? Visit the ' +\n",
              "          '<a target=\"_blank\" href=https://colab.research.google.com/notebooks/data_table.ipynb>data table notebook</a>'\n",
              "          + ' to learn more about interactive tables.';\n",
              "        element.innerHTML = '';\n",
              "        dataTable['output_type'] = 'display_data';\n",
              "        await google.colab.output.renderOutput(dataTable, element);\n",
              "        const docLink = document.createElement('div');\n",
              "        docLink.innerHTML = docLinkHtml;\n",
              "        element.appendChild(docLink);\n",
              "      }\n",
              "    </script>\n",
              "  </div>\n",
              "\n",
              "\n",
              "<div id=\"df-4c3fd6c8-ac9c-46b2-9a9b-9c70683dd5fe\">\n",
              "  <button class=\"colab-df-quickchart\" onclick=\"quickchart('df-4c3fd6c8-ac9c-46b2-9a9b-9c70683dd5fe')\"\n",
              "            title=\"Suggest charts\"\n",
              "            style=\"display:none;\">\n",
              "\n",
              "<svg xmlns=\"http://www.w3.org/2000/svg\" height=\"24px\"viewBox=\"0 0 24 24\"\n",
              "     width=\"24px\">\n",
              "    <g>\n",
              "        <path d=\"M19 3H5c-1.1 0-2 .9-2 2v14c0 1.1.9 2 2 2h14c1.1 0 2-.9 2-2V5c0-1.1-.9-2-2-2zM9 17H7v-7h2v7zm4 0h-2V7h2v10zm4 0h-2v-4h2v4z\"/>\n",
              "    </g>\n",
              "</svg>\n",
              "  </button>\n",
              "\n",
              "<style>\n",
              "  .colab-df-quickchart {\n",
              "      --bg-color: #E8F0FE;\n",
              "      --fill-color: #1967D2;\n",
              "      --hover-bg-color: #E2EBFA;\n",
              "      --hover-fill-color: #174EA6;\n",
              "      --disabled-fill-color: #AAA;\n",
              "      --disabled-bg-color: #DDD;\n",
              "  }\n",
              "\n",
              "  [theme=dark] .colab-df-quickchart {\n",
              "      --bg-color: #3B4455;\n",
              "      --fill-color: #D2E3FC;\n",
              "      --hover-bg-color: #434B5C;\n",
              "      --hover-fill-color: #FFFFFF;\n",
              "      --disabled-bg-color: #3B4455;\n",
              "      --disabled-fill-color: #666;\n",
              "  }\n",
              "\n",
              "  .colab-df-quickchart {\n",
              "    background-color: var(--bg-color);\n",
              "    border: none;\n",
              "    border-radius: 50%;\n",
              "    cursor: pointer;\n",
              "    display: none;\n",
              "    fill: var(--fill-color);\n",
              "    height: 32px;\n",
              "    padding: 0;\n",
              "    width: 32px;\n",
              "  }\n",
              "\n",
              "  .colab-df-quickchart:hover {\n",
              "    background-color: var(--hover-bg-color);\n",
              "    box-shadow: 0 1px 2px rgba(60, 64, 67, 0.3), 0 1px 3px 1px rgba(60, 64, 67, 0.15);\n",
              "    fill: var(--button-hover-fill-color);\n",
              "  }\n",
              "\n",
              "  .colab-df-quickchart-complete:disabled,\n",
              "  .colab-df-quickchart-complete:disabled:hover {\n",
              "    background-color: var(--disabled-bg-color);\n",
              "    fill: var(--disabled-fill-color);\n",
              "    box-shadow: none;\n",
              "  }\n",
              "\n",
              "  .colab-df-spinner {\n",
              "    border: 2px solid var(--fill-color);\n",
              "    border-color: transparent;\n",
              "    border-bottom-color: var(--fill-color);\n",
              "    animation:\n",
              "      spin 1s steps(1) infinite;\n",
              "  }\n",
              "\n",
              "  @keyframes spin {\n",
              "    0% {\n",
              "      border-color: transparent;\n",
              "      border-bottom-color: var(--fill-color);\n",
              "      border-left-color: var(--fill-color);\n",
              "    }\n",
              "    20% {\n",
              "      border-color: transparent;\n",
              "      border-left-color: var(--fill-color);\n",
              "      border-top-color: var(--fill-color);\n",
              "    }\n",
              "    30% {\n",
              "      border-color: transparent;\n",
              "      border-left-color: var(--fill-color);\n",
              "      border-top-color: var(--fill-color);\n",
              "      border-right-color: var(--fill-color);\n",
              "    }\n",
              "    40% {\n",
              "      border-color: transparent;\n",
              "      border-right-color: var(--fill-color);\n",
              "      border-top-color: var(--fill-color);\n",
              "    }\n",
              "    60% {\n",
              "      border-color: transparent;\n",
              "      border-right-color: var(--fill-color);\n",
              "    }\n",
              "    80% {\n",
              "      border-color: transparent;\n",
              "      border-right-color: var(--fill-color);\n",
              "      border-bottom-color: var(--fill-color);\n",
              "    }\n",
              "    90% {\n",
              "      border-color: transparent;\n",
              "      border-bottom-color: var(--fill-color);\n",
              "    }\n",
              "  }\n",
              "</style>\n",
              "\n",
              "  <script>\n",
              "    async function quickchart(key) {\n",
              "      const quickchartButtonEl =\n",
              "        document.querySelector('#' + key + ' button');\n",
              "      quickchartButtonEl.disabled = true;  // To prevent multiple clicks.\n",
              "      quickchartButtonEl.classList.add('colab-df-spinner');\n",
              "      try {\n",
              "        const charts = await google.colab.kernel.invokeFunction(\n",
              "            'suggestCharts', [key], {});\n",
              "      } catch (error) {\n",
              "        console.error('Error during call to suggestCharts:', error);\n",
              "      }\n",
              "      quickchartButtonEl.classList.remove('colab-df-spinner');\n",
              "      quickchartButtonEl.classList.add('colab-df-quickchart-complete');\n",
              "    }\n",
              "    (() => {\n",
              "      let quickchartButtonEl =\n",
              "        document.querySelector('#df-4c3fd6c8-ac9c-46b2-9a9b-9c70683dd5fe button');\n",
              "      quickchartButtonEl.style.display =\n",
              "        google.colab.kernel.accessAllowed ? 'block' : 'none';\n",
              "    })();\n",
              "  </script>\n",
              "</div>\n",
              "\n",
              "    </div>\n",
              "  </div>\n"
            ],
            "application/vnd.google.colaboratory.intrinsic+json": {
              "type": "dataframe",
              "summary": "{\n  \"name\": \"data\",\n  \"rows\": 3169,\n  \"fields\": [\n    {\n      \"column\": \"fulltext\",\n      \"properties\": {\n        \"dtype\": \"string\",\n        \"num_unique_values\": 3159,\n        \"samples\": [\n          \"There is minimal  opacity in the left lung base,  representing atelectasis. The lungs are otherwise clear. Heart size is normal. No pneumothorax.Left base atelectasis. Lungs otherwise clear. .\",\n          \"Mild cardiomegaly. Mediastinal normal width. Pulmonary vasculature within normal limits. The lungs are well-aerated. There is no pneumothorax, pleural effusion, or focal consolidation.  scarring or atelectasis right midlung.1. No acute cardiopulmonary disease. 2.  scarring or atelectasis right midlung. 3. Mild cardiomegaly. .\",\n          \"Both lungs are clear and expanded. Heart and mediastinum normal. -A-  has its tip at the caval atrial junction.No active disease.\"\n        ],\n        \"semantic_type\": \"\",\n        \"description\": \"\"\n      }\n    },\n    {\n      \"column\": \"label\",\n      \"properties\": {\n        \"dtype\": \"category\",\n        \"num_unique_values\": 2,\n        \"samples\": [\n          \"normal\",\n          \"abnormal\"\n        ],\n        \"semantic_type\": \"\",\n        \"description\": \"\"\n      }\n    }\n  ]\n}"
            }
          },
          "metadata": {},
          "execution_count": 10
        }
      ]
    },
    {
      "cell_type": "code",
      "source": [
        "# data['label'] = data['label'].replace({'normal': 1, 'abnormal': 0})\n"
      ],
      "metadata": {
        "id": "Qx9FpuhrNxDT"
      },
      "execution_count": null,
      "outputs": []
    },
    {
      "cell_type": "code",
      "source": [
        "!pip install emoji"
      ],
      "metadata": {
        "colab": {
          "base_uri": "https://localhost:8080/"
        },
        "id": "W1OxhdNsNxOh",
        "outputId": "7e431cdf-8a73-4307-e04c-73e5c3e34041"
      },
      "execution_count": null,
      "outputs": [
        {
          "output_type": "stream",
          "name": "stdout",
          "text": [
            "Collecting emoji\n",
            "  Downloading emoji-2.12.1-py3-none-any.whl (431 kB)\n",
            "\u001b[?25l     \u001b[90m━━━━━━━━━━━━━━━━━━━━━━━━━━━━━━━━━━━━━━━━\u001b[0m \u001b[32m0.0/431.4 kB\u001b[0m \u001b[31m?\u001b[0m eta \u001b[36m-:--:--\u001b[0m\r\u001b[2K     \u001b[91m━━━━━━━━━━━━━━━━━\u001b[0m\u001b[90m╺\u001b[0m\u001b[90m━━━━━━━━━━━━━━━━━━━━━━\u001b[0m \u001b[32m184.3/431.4 kB\u001b[0m \u001b[31m5.5 MB/s\u001b[0m eta \u001b[36m0:00:01\u001b[0m\r\u001b[2K     \u001b[90m━━━━━━━━━━━━━━━━━━━━━━━━━━━━━━━━━━━━━━━━\u001b[0m \u001b[32m431.4/431.4 kB\u001b[0m \u001b[31m7.5 MB/s\u001b[0m eta \u001b[36m0:00:00\u001b[0m\n",
            "\u001b[?25hRequirement already satisfied: typing-extensions>=4.7.0 in /usr/local/lib/python3.10/dist-packages (from emoji) (4.12.1)\n",
            "Installing collected packages: emoji\n",
            "Successfully installed emoji-2.12.1\n"
          ]
        }
      ]
    },
    {
      "cell_type": "code",
      "source": [
        "import pandas as pd\n",
        "import re\n",
        "\n",
        "def lowercase_text(text):\n",
        "    return text.lower()\n",
        "\n",
        "def remove_numbers(text):\n",
        "    return re.sub(r'\\d+', '', text)\n",
        "\n",
        "def remove_emojis(text):\n",
        "    emoji_pattern = re.compile(\"[\"\n",
        "                               u\"\\U0001F600-\\U0001F64F\"  # emoticons\n",
        "                               u\"\\U0001F300-\\U0001F5FF\"  # symbols & pictographs\n",
        "                               u\"\\U0001F680-\\U0001F6FF\"  # transport & map symbols\n",
        "                               u\"\\U0001F1E0-\\U0001F1FF\"  # flags (iOS)\n",
        "                               u\"\\U00002500-\\U00002BEF\"  # chinese char\n",
        "                               u\"\\U00002702-\\U000027B0\"\n",
        "                               u\"\\U00002702-\\U000027B0\"\n",
        "                               u\"\\U000024C2-\\U0001F251\"\n",
        "                               u\"\\U0001f926-\\U0001f937\"\n",
        "                               u\"\\U00010000-\\U0010ffff\"\n",
        "                               u\"\\u2640-\\u2642\"\n",
        "                               u\"\\u2600-\\u2B55\"\n",
        "                               u\"\\u200d\"\n",
        "                               u\"\\u23cf\"\n",
        "                               u\"\\u23e9\"\n",
        "                               u\"\\u231a\"\n",
        "                               u\"\\ufe0f\"  # dingbats\n",
        "                               u\"\\u3030\"\n",
        "                               \"]+\", flags=re.UNICODE)\n",
        "    return emoji_pattern.sub(r'', text)\n",
        "\n",
        "def remove_special_characters(text):\n",
        "    return re.sub(r'[^a-zA-Z\\s]', '', text)\n",
        "\n",
        "def preprocess_text(text):\n",
        "    text = lowercase_text(text)\n",
        "    text = remove_numbers(text)\n",
        "    text = remove_emojis(text)\n",
        "    text = remove_special_characters(text)\n",
        "    return text\n"
      ],
      "metadata": {
        "id": "EyqkQqOnNxR9"
      },
      "execution_count": null,
      "outputs": []
    },
    {
      "cell_type": "code",
      "source": [
        "data['text'] = data['fulltext'].apply(preprocess_text)\n"
      ],
      "metadata": {
        "id": "-9uaiYiyNxU7"
      },
      "execution_count": null,
      "outputs": []
    },
    {
      "cell_type": "code",
      "metadata": {
        "id": "uMSFcIqsdZyH",
        "outputId": "d21e869b-6a0e-4f09-8c1f-4d560376d767",
        "colab": {
          "base_uri": "https://localhost:8080/",
          "height": 423
        }
      },
      "source": [
        "del data['fulltext']\n",
        "data"
      ],
      "execution_count": null,
      "outputs": [
        {
          "output_type": "execute_result",
          "data": {
            "text/plain": [
              "         label                                               text\n",
              "0     abnormal  the cardiomediastinal silhouette appears irreg...\n",
              "1     abnormal  stable cardiomegaly improved aeration in the l...\n",
              "2     abnormal   views of the chest demonstrate sternotomy  an...\n",
              "3     abnormal  the heart pulmonary  and mediastinum are withi...\n",
              "4     abnormal  stable appearance of aortic valve prosthesis s...\n",
              "...        ...                                                ...\n",
              "3949  abnormal  the cardiac and mediastinal silhouettes are no...\n",
              "3950    normal  clear lungs bilaterally normal cardiac contour...\n",
              "3951  abnormal  heart size normal lungs clear stable  mm calci...\n",
              "3952  abnormal  the cardiac and mediastinal silhouettes are un...\n",
              "3954  abnormal  heart size borderline enlarged no focal alveol...\n",
              "\n",
              "[3169 rows x 2 columns]"
            ],
            "text/html": [
              "\n",
              "  <div id=\"df-3e7eb5be-ac51-452d-9f97-9ae7d5be7f4a\" class=\"colab-df-container\">\n",
              "    <div>\n",
              "<style scoped>\n",
              "    .dataframe tbody tr th:only-of-type {\n",
              "        vertical-align: middle;\n",
              "    }\n",
              "\n",
              "    .dataframe tbody tr th {\n",
              "        vertical-align: top;\n",
              "    }\n",
              "\n",
              "    .dataframe thead th {\n",
              "        text-align: right;\n",
              "    }\n",
              "</style>\n",
              "<table border=\"1\" class=\"dataframe\">\n",
              "  <thead>\n",
              "    <tr style=\"text-align: right;\">\n",
              "      <th></th>\n",
              "      <th>label</th>\n",
              "      <th>text</th>\n",
              "    </tr>\n",
              "  </thead>\n",
              "  <tbody>\n",
              "    <tr>\n",
              "      <th>0</th>\n",
              "      <td>abnormal</td>\n",
              "      <td>the cardiomediastinal silhouette appears irreg...</td>\n",
              "    </tr>\n",
              "    <tr>\n",
              "      <th>1</th>\n",
              "      <td>abnormal</td>\n",
              "      <td>stable cardiomegaly improved aeration in the l...</td>\n",
              "    </tr>\n",
              "    <tr>\n",
              "      <th>2</th>\n",
              "      <td>abnormal</td>\n",
              "      <td>views of the chest demonstrate sternotomy  an...</td>\n",
              "    </tr>\n",
              "    <tr>\n",
              "      <th>3</th>\n",
              "      <td>abnormal</td>\n",
              "      <td>the heart pulmonary  and mediastinum are withi...</td>\n",
              "    </tr>\n",
              "    <tr>\n",
              "      <th>4</th>\n",
              "      <td>abnormal</td>\n",
              "      <td>stable appearance of aortic valve prosthesis s...</td>\n",
              "    </tr>\n",
              "    <tr>\n",
              "      <th>...</th>\n",
              "      <td>...</td>\n",
              "      <td>...</td>\n",
              "    </tr>\n",
              "    <tr>\n",
              "      <th>3949</th>\n",
              "      <td>abnormal</td>\n",
              "      <td>the cardiac and mediastinal silhouettes are no...</td>\n",
              "    </tr>\n",
              "    <tr>\n",
              "      <th>3950</th>\n",
              "      <td>normal</td>\n",
              "      <td>clear lungs bilaterally normal cardiac contour...</td>\n",
              "    </tr>\n",
              "    <tr>\n",
              "      <th>3951</th>\n",
              "      <td>abnormal</td>\n",
              "      <td>heart size normal lungs clear stable  mm calci...</td>\n",
              "    </tr>\n",
              "    <tr>\n",
              "      <th>3952</th>\n",
              "      <td>abnormal</td>\n",
              "      <td>the cardiac and mediastinal silhouettes are un...</td>\n",
              "    </tr>\n",
              "    <tr>\n",
              "      <th>3954</th>\n",
              "      <td>abnormal</td>\n",
              "      <td>heart size borderline enlarged no focal alveol...</td>\n",
              "    </tr>\n",
              "  </tbody>\n",
              "</table>\n",
              "<p>3169 rows × 2 columns</p>\n",
              "</div>\n",
              "    <div class=\"colab-df-buttons\">\n",
              "\n",
              "  <div class=\"colab-df-container\">\n",
              "    <button class=\"colab-df-convert\" onclick=\"convertToInteractive('df-3e7eb5be-ac51-452d-9f97-9ae7d5be7f4a')\"\n",
              "            title=\"Convert this dataframe to an interactive table.\"\n",
              "            style=\"display:none;\">\n",
              "\n",
              "  <svg xmlns=\"http://www.w3.org/2000/svg\" height=\"24px\" viewBox=\"0 -960 960 960\">\n",
              "    <path d=\"M120-120v-720h720v720H120Zm60-500h600v-160H180v160Zm220 220h160v-160H400v160Zm0 220h160v-160H400v160ZM180-400h160v-160H180v160Zm440 0h160v-160H620v160ZM180-180h160v-160H180v160Zm440 0h160v-160H620v160Z\"/>\n",
              "  </svg>\n",
              "    </button>\n",
              "\n",
              "  <style>\n",
              "    .colab-df-container {\n",
              "      display:flex;\n",
              "      gap: 12px;\n",
              "    }\n",
              "\n",
              "    .colab-df-convert {\n",
              "      background-color: #E8F0FE;\n",
              "      border: none;\n",
              "      border-radius: 50%;\n",
              "      cursor: pointer;\n",
              "      display: none;\n",
              "      fill: #1967D2;\n",
              "      height: 32px;\n",
              "      padding: 0 0 0 0;\n",
              "      width: 32px;\n",
              "    }\n",
              "\n",
              "    .colab-df-convert:hover {\n",
              "      background-color: #E2EBFA;\n",
              "      box-shadow: 0px 1px 2px rgba(60, 64, 67, 0.3), 0px 1px 3px 1px rgba(60, 64, 67, 0.15);\n",
              "      fill: #174EA6;\n",
              "    }\n",
              "\n",
              "    .colab-df-buttons div {\n",
              "      margin-bottom: 4px;\n",
              "    }\n",
              "\n",
              "    [theme=dark] .colab-df-convert {\n",
              "      background-color: #3B4455;\n",
              "      fill: #D2E3FC;\n",
              "    }\n",
              "\n",
              "    [theme=dark] .colab-df-convert:hover {\n",
              "      background-color: #434B5C;\n",
              "      box-shadow: 0px 1px 3px 1px rgba(0, 0, 0, 0.15);\n",
              "      filter: drop-shadow(0px 1px 2px rgba(0, 0, 0, 0.3));\n",
              "      fill: #FFFFFF;\n",
              "    }\n",
              "  </style>\n",
              "\n",
              "    <script>\n",
              "      const buttonEl =\n",
              "        document.querySelector('#df-3e7eb5be-ac51-452d-9f97-9ae7d5be7f4a button.colab-df-convert');\n",
              "      buttonEl.style.display =\n",
              "        google.colab.kernel.accessAllowed ? 'block' : 'none';\n",
              "\n",
              "      async function convertToInteractive(key) {\n",
              "        const element = document.querySelector('#df-3e7eb5be-ac51-452d-9f97-9ae7d5be7f4a');\n",
              "        const dataTable =\n",
              "          await google.colab.kernel.invokeFunction('convertToInteractive',\n",
              "                                                    [key], {});\n",
              "        if (!dataTable) return;\n",
              "\n",
              "        const docLinkHtml = 'Like what you see? Visit the ' +\n",
              "          '<a target=\"_blank\" href=https://colab.research.google.com/notebooks/data_table.ipynb>data table notebook</a>'\n",
              "          + ' to learn more about interactive tables.';\n",
              "        element.innerHTML = '';\n",
              "        dataTable['output_type'] = 'display_data';\n",
              "        await google.colab.output.renderOutput(dataTable, element);\n",
              "        const docLink = document.createElement('div');\n",
              "        docLink.innerHTML = docLinkHtml;\n",
              "        element.appendChild(docLink);\n",
              "      }\n",
              "    </script>\n",
              "  </div>\n",
              "\n",
              "\n",
              "<div id=\"df-d900b0cc-7a87-4159-b1b8-8bf071d760d2\">\n",
              "  <button class=\"colab-df-quickchart\" onclick=\"quickchart('df-d900b0cc-7a87-4159-b1b8-8bf071d760d2')\"\n",
              "            title=\"Suggest charts\"\n",
              "            style=\"display:none;\">\n",
              "\n",
              "<svg xmlns=\"http://www.w3.org/2000/svg\" height=\"24px\"viewBox=\"0 0 24 24\"\n",
              "     width=\"24px\">\n",
              "    <g>\n",
              "        <path d=\"M19 3H5c-1.1 0-2 .9-2 2v14c0 1.1.9 2 2 2h14c1.1 0 2-.9 2-2V5c0-1.1-.9-2-2-2zM9 17H7v-7h2v7zm4 0h-2V7h2v10zm4 0h-2v-4h2v4z\"/>\n",
              "    </g>\n",
              "</svg>\n",
              "  </button>\n",
              "\n",
              "<style>\n",
              "  .colab-df-quickchart {\n",
              "      --bg-color: #E8F0FE;\n",
              "      --fill-color: #1967D2;\n",
              "      --hover-bg-color: #E2EBFA;\n",
              "      --hover-fill-color: #174EA6;\n",
              "      --disabled-fill-color: #AAA;\n",
              "      --disabled-bg-color: #DDD;\n",
              "  }\n",
              "\n",
              "  [theme=dark] .colab-df-quickchart {\n",
              "      --bg-color: #3B4455;\n",
              "      --fill-color: #D2E3FC;\n",
              "      --hover-bg-color: #434B5C;\n",
              "      --hover-fill-color: #FFFFFF;\n",
              "      --disabled-bg-color: #3B4455;\n",
              "      --disabled-fill-color: #666;\n",
              "  }\n",
              "\n",
              "  .colab-df-quickchart {\n",
              "    background-color: var(--bg-color);\n",
              "    border: none;\n",
              "    border-radius: 50%;\n",
              "    cursor: pointer;\n",
              "    display: none;\n",
              "    fill: var(--fill-color);\n",
              "    height: 32px;\n",
              "    padding: 0;\n",
              "    width: 32px;\n",
              "  }\n",
              "\n",
              "  .colab-df-quickchart:hover {\n",
              "    background-color: var(--hover-bg-color);\n",
              "    box-shadow: 0 1px 2px rgba(60, 64, 67, 0.3), 0 1px 3px 1px rgba(60, 64, 67, 0.15);\n",
              "    fill: var(--button-hover-fill-color);\n",
              "  }\n",
              "\n",
              "  .colab-df-quickchart-complete:disabled,\n",
              "  .colab-df-quickchart-complete:disabled:hover {\n",
              "    background-color: var(--disabled-bg-color);\n",
              "    fill: var(--disabled-fill-color);\n",
              "    box-shadow: none;\n",
              "  }\n",
              "\n",
              "  .colab-df-spinner {\n",
              "    border: 2px solid var(--fill-color);\n",
              "    border-color: transparent;\n",
              "    border-bottom-color: var(--fill-color);\n",
              "    animation:\n",
              "      spin 1s steps(1) infinite;\n",
              "  }\n",
              "\n",
              "  @keyframes spin {\n",
              "    0% {\n",
              "      border-color: transparent;\n",
              "      border-bottom-color: var(--fill-color);\n",
              "      border-left-color: var(--fill-color);\n",
              "    }\n",
              "    20% {\n",
              "      border-color: transparent;\n",
              "      border-left-color: var(--fill-color);\n",
              "      border-top-color: var(--fill-color);\n",
              "    }\n",
              "    30% {\n",
              "      border-color: transparent;\n",
              "      border-left-color: var(--fill-color);\n",
              "      border-top-color: var(--fill-color);\n",
              "      border-right-color: var(--fill-color);\n",
              "    }\n",
              "    40% {\n",
              "      border-color: transparent;\n",
              "      border-right-color: var(--fill-color);\n",
              "      border-top-color: var(--fill-color);\n",
              "    }\n",
              "    60% {\n",
              "      border-color: transparent;\n",
              "      border-right-color: var(--fill-color);\n",
              "    }\n",
              "    80% {\n",
              "      border-color: transparent;\n",
              "      border-right-color: var(--fill-color);\n",
              "      border-bottom-color: var(--fill-color);\n",
              "    }\n",
              "    90% {\n",
              "      border-color: transparent;\n",
              "      border-bottom-color: var(--fill-color);\n",
              "    }\n",
              "  }\n",
              "</style>\n",
              "\n",
              "  <script>\n",
              "    async function quickchart(key) {\n",
              "      const quickchartButtonEl =\n",
              "        document.querySelector('#' + key + ' button');\n",
              "      quickchartButtonEl.disabled = true;  // To prevent multiple clicks.\n",
              "      quickchartButtonEl.classList.add('colab-df-spinner');\n",
              "      try {\n",
              "        const charts = await google.colab.kernel.invokeFunction(\n",
              "            'suggestCharts', [key], {});\n",
              "      } catch (error) {\n",
              "        console.error('Error during call to suggestCharts:', error);\n",
              "      }\n",
              "      quickchartButtonEl.classList.remove('colab-df-spinner');\n",
              "      quickchartButtonEl.classList.add('colab-df-quickchart-complete');\n",
              "    }\n",
              "    (() => {\n",
              "      let quickchartButtonEl =\n",
              "        document.querySelector('#df-d900b0cc-7a87-4159-b1b8-8bf071d760d2 button');\n",
              "      quickchartButtonEl.style.display =\n",
              "        google.colab.kernel.accessAllowed ? 'block' : 'none';\n",
              "    })();\n",
              "  </script>\n",
              "</div>\n",
              "\n",
              "  <div id=\"id_0267b70d-a20c-4dd5-8c80-7056c8749508\">\n",
              "    <style>\n",
              "      .colab-df-generate {\n",
              "        background-color: #E8F0FE;\n",
              "        border: none;\n",
              "        border-radius: 50%;\n",
              "        cursor: pointer;\n",
              "        display: none;\n",
              "        fill: #1967D2;\n",
              "        height: 32px;\n",
              "        padding: 0 0 0 0;\n",
              "        width: 32px;\n",
              "      }\n",
              "\n",
              "      .colab-df-generate:hover {\n",
              "        background-color: #E2EBFA;\n",
              "        box-shadow: 0px 1px 2px rgba(60, 64, 67, 0.3), 0px 1px 3px 1px rgba(60, 64, 67, 0.15);\n",
              "        fill: #174EA6;\n",
              "      }\n",
              "\n",
              "      [theme=dark] .colab-df-generate {\n",
              "        background-color: #3B4455;\n",
              "        fill: #D2E3FC;\n",
              "      }\n",
              "\n",
              "      [theme=dark] .colab-df-generate:hover {\n",
              "        background-color: #434B5C;\n",
              "        box-shadow: 0px 1px 3px 1px rgba(0, 0, 0, 0.15);\n",
              "        filter: drop-shadow(0px 1px 2px rgba(0, 0, 0, 0.3));\n",
              "        fill: #FFFFFF;\n",
              "      }\n",
              "    </style>\n",
              "    <button class=\"colab-df-generate\" onclick=\"generateWithVariable('data')\"\n",
              "            title=\"Generate code using this dataframe.\"\n",
              "            style=\"display:none;\">\n",
              "\n",
              "  <svg xmlns=\"http://www.w3.org/2000/svg\" height=\"24px\"viewBox=\"0 0 24 24\"\n",
              "       width=\"24px\">\n",
              "    <path d=\"M7,19H8.4L18.45,9,17,7.55,7,17.6ZM5,21V16.75L18.45,3.32a2,2,0,0,1,2.83,0l1.4,1.43a1.91,1.91,0,0,1,.58,1.4,1.91,1.91,0,0,1-.58,1.4L9.25,21ZM18.45,9,17,7.55Zm-12,3A5.31,5.31,0,0,0,4.9,8.1,5.31,5.31,0,0,0,1,6.5,5.31,5.31,0,0,0,4.9,4.9,5.31,5.31,0,0,0,6.5,1,5.31,5.31,0,0,0,8.1,4.9,5.31,5.31,0,0,0,12,6.5,5.46,5.46,0,0,0,6.5,12Z\"/>\n",
              "  </svg>\n",
              "    </button>\n",
              "    <script>\n",
              "      (() => {\n",
              "      const buttonEl =\n",
              "        document.querySelector('#id_0267b70d-a20c-4dd5-8c80-7056c8749508 button.colab-df-generate');\n",
              "      buttonEl.style.display =\n",
              "        google.colab.kernel.accessAllowed ? 'block' : 'none';\n",
              "\n",
              "      buttonEl.onclick = () => {\n",
              "        google.colab.notebook.generateWithVariable('data');\n",
              "      }\n",
              "      })();\n",
              "    </script>\n",
              "  </div>\n",
              "\n",
              "    </div>\n",
              "  </div>\n"
            ],
            "application/vnd.google.colaboratory.intrinsic+json": {
              "type": "dataframe",
              "variable_name": "data",
              "summary": "{\n  \"name\": \"data\",\n  \"rows\": 3169,\n  \"fields\": [\n    {\n      \"column\": \"label\",\n      \"properties\": {\n        \"dtype\": \"category\",\n        \"num_unique_values\": 2,\n        \"samples\": [\n          \"normal\",\n          \"abnormal\"\n        ],\n        \"semantic_type\": \"\",\n        \"description\": \"\"\n      }\n    },\n    {\n      \"column\": \"text\",\n      \"properties\": {\n        \"dtype\": \"string\",\n        \"num_unique_values\": 3135,\n        \"samples\": [\n          \"the lungs and pleural spaces show no acute abnormality stable paratracheal soft tissue density dating back to exams in   confluence of vascular shadows lungs are hyperexpanded heart size and pulmonary vascularity within normal limits no acute pulmonary abnormality\",\n          \"cardiac and mediastinal silhouette are unremarkable lungs are clear no focal consolidation pneumothorax or pleural effusion identified  and soft tissue are unremarkableno acute cardiopulmonary abnormality\"\n        ],\n        \"semantic_type\": \"\",\n        \"description\": \"\"\n      }\n    }\n  ]\n}"
            }
          },
          "metadata": {},
          "execution_count": 14
        }
      ]
    },
    {
      "cell_type": "code",
      "metadata": {
        "id": "2I-Du1vR3EZN"
      },
      "source": [
        "def sentiment2label(sentiment):\n",
        "    if sentiment == \"normal\":\n",
        "        return 1\n",
        "    else :\n",
        "        return 0\n",
        "\n",
        "data['label'] = data['label'].apply(sentiment2label)"
      ],
      "execution_count": null,
      "outputs": []
    },
    {
      "cell_type": "code",
      "source": [
        "df=data.copy()"
      ],
      "metadata": {
        "id": "MVu1S8FEOL2y"
      },
      "execution_count": null,
      "outputs": []
    },
    {
      "cell_type": "code",
      "metadata": {
        "id": "YK3jPP3i3lRw",
        "outputId": "35bb5238-68c7-4031-d681-b848d1d06fdf",
        "colab": {
          "base_uri": "https://localhost:8080/"
        }
      },
      "source": [
        "data['label'].value_counts()"
      ],
      "execution_count": null,
      "outputs": [
        {
          "output_type": "execute_result",
          "data": {
            "text/plain": [
              "label\n",
              "0    2480\n",
              "1     689\n",
              "Name: count, dtype: int64"
            ]
          },
          "metadata": {},
          "execution_count": 17
        }
      ]
    },
    {
      "cell_type": "code",
      "metadata": {
        "id": "StOb4mAa3rgo"
      },
      "source": [
        "class_names = [0, 1]"
      ],
      "execution_count": null,
      "outputs": []
    },
    {
      "cell_type": "markdown",
      "metadata": {
        "id": "mmBGGgUVJBpT"
      },
      "source": [
        "### Playing with XLNetTokenizer"
      ]
    },
    {
      "cell_type": "code",
      "metadata": {
        "id": "hVWO_38_32jL",
        "outputId": "f842935d-ae60-48ec-eb92-330fca1aeccb",
        "colab": {
          "base_uri": "https://localhost:8080/",
          "height": 272,
          "referenced_widgets": [
            "3919882539ac4791be63aa2ee2d6bdef",
            "38a81b5c53fe4482bac8ba596f6deaa3",
            "bae7b9117b554587b6793aa24b715028",
            "e1aa9f0ced8b4ef9b1add3b8185cb387",
            "627dcda3eb3244c59e947e45fb16e1e9",
            "6f0d963ea9c84ea18537de38e4f8c55a",
            "2e8767c27a8347c58870946165e1a583",
            "e9a84e2a8f4f48b8b00e8fa6daa6d300",
            "d03c87c923a84690926e3bc323deb2b2",
            "0dc30bd69a9c4000a889678a9c7d88d1",
            "6dfcb329795d4d6d8a0397f0b41b00e4",
            "83c59a235dc249d8b3fa5ffc9912fd28",
            "c4d339e8c8a44f40b7e63e43aa128a9f",
            "29e963c94b8045c2af1fcb1db02bbc84",
            "0c89332fe6674f74be7a3c7573a64dc4",
            "1692d16bd5844236a8a2735fc2e0271c",
            "c29f9de1c11c4696bc6b813d3d552829",
            "3fa505be14e34804929f9af22667dfe2",
            "cea6d0ca6dad4447915e75e90d3c9511",
            "405b8af7d1e54c51acaf936b9669e05d",
            "84a705ba59394093be6a251333ea90e5",
            "6ea93ac49f4f46bbbf734105f0af67f5",
            "548a6c57c2704f2d9418ba871342da2c",
            "61035e2bb5af4f2fbdc33a51949196ab",
            "788b70ccff86490ba31a1a8e03fb4769",
            "49229b29658045b382455b63241c6ded",
            "f873e372a4fe469697870fb3cc652839",
            "06447d3645b2403f80d36b1a9a0c89e1",
            "e81e862db0f74cc9879beb169f3f0fcf",
            "4e51944b28da4e708dafaf1a316df18d",
            "92e949dd458143faa42c634554097efc",
            "2b97ac77cd4e40ce9f567ff4066ef783",
            "1e52ca7668424a24bc829c4145b9fef6"
          ]
        }
      },
      "source": [
        "from transformers import XLNetTokenizer, XLNetModel\n",
        "PRE_TRAINED_MODEL_NAME = 'xlnet-base-cased'\n",
        "tokenizer = XLNetTokenizer.from_pretrained(PRE_TRAINED_MODEL_NAME)"
      ],
      "execution_count": null,
      "outputs": [
        {
          "output_type": "stream",
          "name": "stderr",
          "text": [
            "/usr/local/lib/python3.10/dist-packages/huggingface_hub/utils/_token.py:89: UserWarning: \n",
            "The secret `HF_TOKEN` does not exist in your Colab secrets.\n",
            "To authenticate with the Hugging Face Hub, create a token in your settings tab (https://huggingface.co/settings/tokens), set it as secret in your Google Colab and restart your session.\n",
            "You will be able to reuse this secret in all of your notebooks.\n",
            "Please note that authentication is recommended but still optional to access public models or datasets.\n",
            "  warnings.warn(\n"
          ]
        },
        {
          "output_type": "display_data",
          "data": {
            "text/plain": [
              "spiece.model:   0%|          | 0.00/798k [00:00<?, ?B/s]"
            ],
            "application/vnd.jupyter.widget-view+json": {
              "version_major": 2,
              "version_minor": 0,
              "model_id": "3919882539ac4791be63aa2ee2d6bdef"
            }
          },
          "metadata": {}
        },
        {
          "output_type": "display_data",
          "data": {
            "text/plain": [
              "tokenizer.json:   0%|          | 0.00/1.38M [00:00<?, ?B/s]"
            ],
            "application/vnd.jupyter.widget-view+json": {
              "version_major": 2,
              "version_minor": 0,
              "model_id": "83c59a235dc249d8b3fa5ffc9912fd28"
            }
          },
          "metadata": {}
        },
        {
          "output_type": "stream",
          "name": "stderr",
          "text": [
            "/usr/local/lib/python3.10/dist-packages/huggingface_hub/file_download.py:1132: FutureWarning: `resume_download` is deprecated and will be removed in version 1.0.0. Downloads always resume when possible. If you want to force a new download, use `force_download=True`.\n",
            "  warnings.warn(\n"
          ]
        },
        {
          "output_type": "display_data",
          "data": {
            "text/plain": [
              "config.json:   0%|          | 0.00/760 [00:00<?, ?B/s]"
            ],
            "application/vnd.jupyter.widget-view+json": {
              "version_major": 2,
              "version_minor": 0,
              "model_id": "548a6c57c2704f2d9418ba871342da2c"
            }
          },
          "metadata": {}
        }
      ]
    },
    {
      "cell_type": "code",
      "metadata": {
        "id": "1ckpqWd_YWgZ",
        "colab": {
          "base_uri": "https://localhost:8080/"
        },
        "outputId": "fbf8798d-8339-4c00-abd0-cbeb56011c3c"
      },
      "source": [
        "input_txt = \"India is my country. All Indians are my brothers and sisters\"\n",
        "encodings = tokenizer.encode_plus(input_txt, add_special_tokens=True, max_length=16, return_tensors='pt', return_token_type_ids=False, return_attention_mask=True, pad_to_max_length=False)"
      ],
      "execution_count": null,
      "outputs": [
        {
          "output_type": "stream",
          "name": "stderr",
          "text": [
            "Truncation was not explicitly activated but `max_length` is provided a specific value, please use `truncation=True` to explicitly truncate examples to max length. Defaulting to 'longest_first' truncation strategy. If you encode pairs of sequences (GLUE-style) with the tokenizer you can select this strategy more precisely by providing a specific strategy to `truncation`.\n"
          ]
        }
      ]
    },
    {
      "cell_type": "code",
      "metadata": {
        "id": "Y_ew5njtYWc1",
        "outputId": "bdc247f7-b254-44f5-d8df-d5bccc443f2d",
        "colab": {
          "base_uri": "https://localhost:8080/"
        }
      },
      "source": [
        "print('input_ids : ',encodings['input_ids'])"
      ],
      "execution_count": null,
      "outputs": [
        {
          "output_type": "stream",
          "name": "stdout",
          "text": [
            "input_ids :  tensor([[ 837,   27,   94,  234,    9,  394, 7056,   41,   94, 4194,   21, 8301,\n",
            "            4,    3]])\n"
          ]
        }
      ]
    },
    {
      "cell_type": "code",
      "metadata": {
        "id": "eEXfe39mYWK7",
        "outputId": "d7cca322-b205-434c-c35b-1e6b15f5dd8c",
        "colab": {
          "base_uri": "https://localhost:8080/"
        }
      },
      "source": [
        "tokenizer.convert_ids_to_tokens(encodings['input_ids'][0])"
      ],
      "execution_count": null,
      "outputs": [
        {
          "output_type": "execute_result",
          "data": {
            "text/plain": [
              "['▁India',\n",
              " '▁is',\n",
              " '▁my',\n",
              " '▁country',\n",
              " '.',\n",
              " '▁All',\n",
              " '▁Indians',\n",
              " '▁are',\n",
              " '▁my',\n",
              " '▁brothers',\n",
              " '▁and',\n",
              " '▁sisters',\n",
              " '<sep>',\n",
              " '<cls>']"
            ]
          },
          "metadata": {},
          "execution_count": 22
        }
      ]
    },
    {
      "cell_type": "code",
      "metadata": {
        "id": "XR1xkLYtTurv",
        "outputId": "82f3e1e8-b5b9-4f0b-e76a-09993aea0afe",
        "colab": {
          "base_uri": "https://localhost:8080/"
        }
      },
      "source": [
        "type(encodings['attention_mask'])"
      ],
      "execution_count": null,
      "outputs": [
        {
          "output_type": "execute_result",
          "data": {
            "text/plain": [
              "torch.Tensor"
            ]
          },
          "metadata": {},
          "execution_count": 23
        }
      ]
    },
    {
      "cell_type": "code",
      "metadata": {
        "id": "Pp97KX-9UtMK"
      },
      "source": [
        "attention_mask = pad_sequences(encodings['attention_mask'], maxlen=512, dtype=torch.Tensor ,truncating=\"post\",padding=\"post\")"
      ],
      "execution_count": null,
      "outputs": []
    },
    {
      "cell_type": "code",
      "metadata": {
        "id": "6Pzeyv1_UvMT",
        "outputId": "1106d20a-4e52-47b4-ae08-1b90f9adc0c2",
        "colab": {
          "base_uri": "https://localhost:8080/"
        }
      },
      "source": [
        "attention_mask = attention_mask.astype(dtype = 'int64')\n",
        "attention_mask = torch.tensor(attention_mask)\n",
        "attention_mask.flatten()"
      ],
      "execution_count": null,
      "outputs": [
        {
          "output_type": "execute_result",
          "data": {
            "text/plain": [
              "tensor([1, 1, 1, 1, 1, 1, 1, 1, 1, 1, 1, 1, 1, 1, 0, 0, 0, 0, 0, 0, 0, 0, 0, 0,\n",
              "        0, 0, 0, 0, 0, 0, 0, 0, 0, 0, 0, 0, 0, 0, 0, 0, 0, 0, 0, 0, 0, 0, 0, 0,\n",
              "        0, 0, 0, 0, 0, 0, 0, 0, 0, 0, 0, 0, 0, 0, 0, 0, 0, 0, 0, 0, 0, 0, 0, 0,\n",
              "        0, 0, 0, 0, 0, 0, 0, 0, 0, 0, 0, 0, 0, 0, 0, 0, 0, 0, 0, 0, 0, 0, 0, 0,\n",
              "        0, 0, 0, 0, 0, 0, 0, 0, 0, 0, 0, 0, 0, 0, 0, 0, 0, 0, 0, 0, 0, 0, 0, 0,\n",
              "        0, 0, 0, 0, 0, 0, 0, 0, 0, 0, 0, 0, 0, 0, 0, 0, 0, 0, 0, 0, 0, 0, 0, 0,\n",
              "        0, 0, 0, 0, 0, 0, 0, 0, 0, 0, 0, 0, 0, 0, 0, 0, 0, 0, 0, 0, 0, 0, 0, 0,\n",
              "        0, 0, 0, 0, 0, 0, 0, 0, 0, 0, 0, 0, 0, 0, 0, 0, 0, 0, 0, 0, 0, 0, 0, 0,\n",
              "        0, 0, 0, 0, 0, 0, 0, 0, 0, 0, 0, 0, 0, 0, 0, 0, 0, 0, 0, 0, 0, 0, 0, 0,\n",
              "        0, 0, 0, 0, 0, 0, 0, 0, 0, 0, 0, 0, 0, 0, 0, 0, 0, 0, 0, 0, 0, 0, 0, 0,\n",
              "        0, 0, 0, 0, 0, 0, 0, 0, 0, 0, 0, 0, 0, 0, 0, 0, 0, 0, 0, 0, 0, 0, 0, 0,\n",
              "        0, 0, 0, 0, 0, 0, 0, 0, 0, 0, 0, 0, 0, 0, 0, 0, 0, 0, 0, 0, 0, 0, 0, 0,\n",
              "        0, 0, 0, 0, 0, 0, 0, 0, 0, 0, 0, 0, 0, 0, 0, 0, 0, 0, 0, 0, 0, 0, 0, 0,\n",
              "        0, 0, 0, 0, 0, 0, 0, 0, 0, 0, 0, 0, 0, 0, 0, 0, 0, 0, 0, 0, 0, 0, 0, 0,\n",
              "        0, 0, 0, 0, 0, 0, 0, 0, 0, 0, 0, 0, 0, 0, 0, 0, 0, 0, 0, 0, 0, 0, 0, 0,\n",
              "        0, 0, 0, 0, 0, 0, 0, 0, 0, 0, 0, 0, 0, 0, 0, 0, 0, 0, 0, 0, 0, 0, 0, 0,\n",
              "        0, 0, 0, 0, 0, 0, 0, 0, 0, 0, 0, 0, 0, 0, 0, 0, 0, 0, 0, 0, 0, 0, 0, 0,\n",
              "        0, 0, 0, 0, 0, 0, 0, 0, 0, 0, 0, 0, 0, 0, 0, 0, 0, 0, 0, 0, 0, 0, 0, 0,\n",
              "        0, 0, 0, 0, 0, 0, 0, 0, 0, 0, 0, 0, 0, 0, 0, 0, 0, 0, 0, 0, 0, 0, 0, 0,\n",
              "        0, 0, 0, 0, 0, 0, 0, 0, 0, 0, 0, 0, 0, 0, 0, 0, 0, 0, 0, 0, 0, 0, 0, 0,\n",
              "        0, 0, 0, 0, 0, 0, 0, 0, 0, 0, 0, 0, 0, 0, 0, 0, 0, 0, 0, 0, 0, 0, 0, 0,\n",
              "        0, 0, 0, 0, 0, 0, 0, 0])"
            ]
          },
          "metadata": {},
          "execution_count": 25
        }
      ]
    },
    {
      "cell_type": "code",
      "metadata": {
        "id": "kM7cxiA9RlnA",
        "outputId": "a3ec74ab-a485-4a7b-b866-8c7cb41a9958",
        "colab": {
          "base_uri": "https://localhost:8080/"
        }
      },
      "source": [
        "encodings['input_ids']"
      ],
      "execution_count": null,
      "outputs": [
        {
          "output_type": "execute_result",
          "data": {
            "text/plain": [
              "tensor([[ 837,   27,   94,  234,    9,  394, 7056,   41,   94, 4194,   21, 8301,\n",
              "            4,    3]])"
            ]
          },
          "metadata": {},
          "execution_count": 26
        }
      ]
    },
    {
      "cell_type": "markdown",
      "metadata": {
        "id": "M12PPghlJUbg"
      },
      "source": [
        "### Checking the distribution of token lengths"
      ]
    },
    {
      "cell_type": "code",
      "metadata": {
        "id": "zW4_SrOw4BDy"
      },
      "source": [
        "token_lens = []\n",
        "\n",
        "for txt in df['text']:\n",
        "  tokens = tokenizer.encode(txt, max_length=512)\n",
        "  token_lens.append(len(tokens))"
      ],
      "execution_count": null,
      "outputs": []
    },
    {
      "cell_type": "code",
      "metadata": {
        "id": "aSxO20TU4dz5",
        "outputId": "a7e796fe-a7ba-4a2e-ff53-55ef0e453f68",
        "colab": {
          "base_uri": "https://localhost:8080/",
          "height": 901
        }
      },
      "source": [
        "sns.distplot(token_lens)\n",
        "plt.xlim([0, 1024]);\n",
        "plt.xlabel('Token count');"
      ],
      "execution_count": null,
      "outputs": [
        {
          "output_type": "stream",
          "name": "stderr",
          "text": [
            "<ipython-input-28-1301f1bfee97>:1: UserWarning: \n",
            "\n",
            "`distplot` is a deprecated function and will be removed in seaborn v0.14.0.\n",
            "\n",
            "Please adapt your code to use either `displot` (a figure-level function with\n",
            "similar flexibility) or `histplot` (an axes-level function for histograms).\n",
            "\n",
            "For a guide to updating your code to use the new functions, please see\n",
            "https://gist.github.com/mwaskom/de44147ed2974457ad6372750bbe5751\n",
            "\n",
            "  sns.distplot(token_lens)\n"
          ]
        },
        {
          "output_type": "display_data",
          "data": {
            "text/plain": [
              "<Figure size 1200x800 with 1 Axes>"
            ],
            "image/png": "[encoded data removed]"
          },
          "metadata": {
            "image/png": {
              "width": 1054,
              "height": 693
            }
          }
        }
      ]
    },
    {
      "cell_type": "code",
      "metadata": {
        "id": "CR3rHUQR4pDE"
      },
      "source": [
        "MAX_LEN = 512"
      ],
      "execution_count": null,
      "outputs": []
    },
    {
      "cell_type": "markdown",
      "metadata": {
        "id": "e6Kutw4dJyUG"
      },
      "source": [
        "### Custom Dataset class"
      ]
    },
    {
      "cell_type": "code",
      "metadata": {
        "id": "q2NOYXcjPK4z"
      },
      "source": [
        "class ImdbDataset(Dataset):\n",
        "\n",
        "    def __init__(self, reviews, targets, tokenizer, max_len):\n",
        "        self.reviews = reviews\n",
        "        self.targets = targets\n",
        "        self.tokenizer = tokenizer\n",
        "        self.max_len = max_len\n",
        "\n",
        "    def __len__(self):\n",
        "        return len(self.reviews)\n",
        "\n",
        "    def __getitem__(self, item):\n",
        "        review = str(self.reviews[item])\n",
        "        target = self.targets[item]\n",
        "\n",
        "        encoding = self.tokenizer.encode_plus(\n",
        "        review,\n",
        "        add_special_tokens=True,\n",
        "        max_length=self.max_len,\n",
        "        return_token_type_ids=False,\n",
        "        pad_to_max_length=False,\n",
        "        return_attention_mask=True,\n",
        "        return_tensors='pt',\n",
        "        )\n",
        "\n",
        "        input_ids = pad_sequences(encoding['input_ids'], maxlen=MAX_LEN, dtype=torch.Tensor ,truncating=\"post\",padding=\"post\")\n",
        "        input_ids = input_ids.astype(dtype = 'int64')\n",
        "        input_ids = torch.tensor(input_ids)\n",
        "\n",
        "        attention_mask = pad_sequences(encoding['attention_mask'], maxlen=MAX_LEN, dtype=torch.Tensor ,truncating=\"post\",padding=\"post\")\n",
        "        attention_mask = attention_mask.astype(dtype = 'int64')\n",
        "        attention_mask = torch.tensor(attention_mask)\n",
        "\n",
        "        return {\n",
        "        'review_text': review,\n",
        "        'input_ids': input_ids,\n",
        "        'attention_mask': attention_mask.flatten(),\n",
        "        'targets': torch.tensor(target, dtype=torch.long)\n",
        "        }"
      ],
      "execution_count": null,
      "outputs": []
    },
    {
      "cell_type": "code",
      "metadata": {
        "id": "wYXt2AtW6iaT"
      },
      "source": [
        "df_train, df_test = train_test_split(df, test_size=0.2, random_state=101)\n"
      ],
      "execution_count": null,
      "outputs": []
    },
    {
      "cell_type": "code",
      "metadata": {
        "id": "VmAsa9pg6oac",
        "outputId": "44de5f06-cd44-4647-e1a9-695338d85b52",
        "colab": {
          "base_uri": "https://localhost:8080/"
        }
      },
      "source": [
        "df_train.shape,  df_test.shape"
      ],
      "execution_count": null,
      "outputs": [
        {
          "output_type": "execute_result",
          "data": {
            "text/plain": [
              "((2535, 2), (634, 2))"
            ]
          },
          "metadata": {},
          "execution_count": 32
        }
      ]
    },
    {
      "cell_type": "markdown",
      "metadata": {
        "id": "iFw2z6ElMZMX"
      },
      "source": [
        "### Custom Dataloader"
      ]
    },
    {
      "cell_type": "code",
      "metadata": {
        "id": "3rd7890Z6zLr"
      },
      "source": [
        "def create_data_loader(df, tokenizer, max_len, batch_size):\n",
        "  ds = ImdbDataset(\n",
        "    reviews=df.text.to_numpy(),\n",
        "    targets=df.label.to_numpy(),\n",
        "    tokenizer=tokenizer,\n",
        "    max_len=max_len\n",
        "  )\n",
        "\n",
        "  return DataLoader(\n",
        "    ds,\n",
        "    batch_size=batch_size,\n",
        "    num_workers=4\n",
        "  )"
      ],
      "execution_count": null,
      "outputs": []
    },
    {
      "cell_type": "code",
      "metadata": {
        "id": "tVU8o6i569ly",
        "colab": {
          "base_uri": "https://localhost:8080/"
        },
        "outputId": "64cb126c-935e-48fb-9a17-56c816a291a7"
      },
      "source": [
        "BATCH_SIZE = 8\n",
        "\n",
        "train_data_loader = create_data_loader(df_train, tokenizer, MAX_LEN, BATCH_SIZE)\n",
        "# val_data_loader = create_data_loader(df_val, tokenizer, MAX_LEN, BATCH_SIZE)\n",
        "test_data_loader = create_data_loader(df_test, tokenizer, MAX_LEN, BATCH_SIZE)"
      ],
      "execution_count": null,
      "outputs": [
        {
          "output_type": "stream",
          "name": "stderr",
          "text": [
            "/usr/local/lib/python3.10/dist-packages/torch/utils/data/dataloader.py:558: UserWarning: This DataLoader will create 4 worker processes in total. Our suggested max number of worker in current system is 2, which is smaller than what this DataLoader is going to create. Please be aware that excessive worker creation might get DataLoader running slow or even freeze, lower the worker number to avoid potential slowness/freeze if necessary.\n",
            "  warnings.warn(_create_warning_msg(\n"
          ]
        }
      ]
    },
    {
      "cell_type": "markdown",
      "metadata": {
        "id": "aC5D5Dh8J5w9"
      },
      "source": [
        "### Loading the Pre-trained XLNet model for sequence classification from huggingface transformers"
      ]
    },
    {
      "cell_type": "code",
      "metadata": {
        "id": "H5mC8v6i7VH1",
        "outputId": "6163af4e-38e6-470d-8d91-cef7950104c8",
        "colab": {
          "base_uri": "https://localhost:8080/",
          "height": 104,
          "referenced_widgets": [
            "1186549a39e9492c8bb4c0a597673d64",
            "8ed0f8cd334c48cc8627b299906b60be",
            "cddc9f027d8a4995aab44e12b2a74347",
            "660db627c0224673af3e3a90632e3615",
            "098fb618134e4fb7808515cbd51f127d",
            "f4563387384e4e69b320798ca5405e9f",
            "4417f068f51a465cb1eefdb8d7bb3976",
            "3a8f3b2b8bec48d6becee6d5ac466296",
            "1438673bd10044e692f111a5fd46d104",
            "975617672a0049809050771a81bdeebe",
            "a9acaf04513849d38840248a33e3dee4"
          ]
        }
      },
      "source": [
        "from transformers import XLNetForSequenceClassification\n",
        "model = XLNetForSequenceClassification.from_pretrained('xlnet-base-cased', num_labels = 2)\n",
        "model = model.to(device)"
      ],
      "execution_count": null,
      "outputs": [
        {
          "output_type": "display_data",
          "data": {
            "text/plain": [
              "pytorch_model.bin:   0%|          | 0.00/467M [00:00<?, ?B/s]"
            ],
            "application/vnd.jupyter.widget-view+json": {
              "version_major": 2,
              "version_minor": 0,
              "model_id": "1186549a39e9492c8bb4c0a597673d64"
            }
          },
          "metadata": {}
        },
        {
          "output_type": "stream",
          "name": "stderr",
          "text": [
            "Some weights of XLNetForSequenceClassification were not initialized from the model checkpoint at xlnet-base-cased and are newly initialized: ['logits_proj.bias', 'logits_proj.weight', 'sequence_summary.summary.bias', 'sequence_summary.summary.weight']\n",
            "You should probably TRAIN this model on a down-stream task to be able to use it for predictions and inference.\n"
          ]
        }
      ]
    },
    {
      "cell_type": "code",
      "metadata": {
        "id": "KYsVoULvfmvD",
        "outputId": "dc69c48a-60dd-4809-be98-0fe203213764",
        "colab": {
          "base_uri": "https://localhost:8080/"
        }
      },
      "source": [
        "model"
      ],
      "execution_count": null,
      "outputs": [
        {
          "output_type": "execute_result",
          "data": {
            "text/plain": [
              "XLNetForSequenceClassification(\n",
              "  (transformer): XLNetModel(\n",
              "    (word_embedding): Embedding(32000, 768)\n",
              "    (layer): ModuleList(\n",
              "      (0-11): 12 x XLNetLayer(\n",
              "        (rel_attn): XLNetRelativeAttention(\n",
              "          (layer_norm): LayerNorm((768,), eps=1e-12, elementwise_affine=True)\n",
              "          (dropout): Dropout(p=0.1, inplace=False)\n",
              "        )\n",
              "        (ff): XLNetFeedForward(\n",
              "          (layer_norm): LayerNorm((768,), eps=1e-12, elementwise_affine=True)\n",
              "          (layer_1): Linear(in_features=768, out_features=3072, bias=True)\n",
              "          (layer_2): Linear(in_features=3072, out_features=768, bias=True)\n",
              "          (dropout): Dropout(p=0.1, inplace=False)\n",
              "          (activation_function): GELUActivation()\n",
              "        )\n",
              "        (dropout): Dropout(p=0.1, inplace=False)\n",
              "      )\n",
              "    )\n",
              "    (dropout): Dropout(p=0.1, inplace=False)\n",
              "  )\n",
              "  (sequence_summary): SequenceSummary(\n",
              "    (summary): Linear(in_features=768, out_features=768, bias=True)\n",
              "    (activation): Tanh()\n",
              "    (first_dropout): Identity()\n",
              "    (last_dropout): Dropout(p=0.1, inplace=False)\n",
              "  )\n",
              "  (logits_proj): Linear(in_features=768, out_features=2, bias=True)\n",
              ")"
            ]
          },
          "metadata": {},
          "execution_count": 36
        }
      ]
    },
    {
      "cell_type": "markdown",
      "metadata": {
        "id": "vpn2sTTMK_zL"
      },
      "source": [
        "### Setting Hyperparameters"
      ]
    },
    {
      "cell_type": "code",
      "metadata": {
        "id": "aQ9Od31B9YJa",
        "colab": {
          "base_uri": "https://localhost:8080/"
        },
        "outputId": "1afcd795-871c-408b-b618-b0681c747960"
      },
      "source": [
        "EPOCHS = 3\n",
        "\n",
        "param_optimizer = list(model.named_parameters())\n",
        "no_decay = ['bias', 'LayerNorm.bias', 'LayerNorm.weight']\n",
        "optimizer_grouped_parameters = [\n",
        "                                {'params': [p for n, p in param_optimizer if not any(nd in n for nd in no_decay)], 'weight_decay': 0.01},\n",
        "                                {'params': [p for n, p in param_optimizer if any(nd in n for nd in no_decay)], 'weight_decay':0.0}\n",
        "]\n",
        "optimizer = AdamW(optimizer_grouped_parameters, lr=3e-5)\n",
        "\n",
        "total_steps = len(train_data_loader) * EPOCHS\n",
        "\n",
        "scheduler = get_linear_schedule_with_warmup(\n",
        "  optimizer,\n",
        "  num_warmup_steps=0,\n",
        "  num_training_steps=total_steps\n",
        ")"
      ],
      "execution_count": null,
      "outputs": [
        {
          "output_type": "stream",
          "name": "stderr",
          "text": [
            "/usr/local/lib/python3.10/dist-packages/transformers/optimization.py:588: FutureWarning: This implementation of AdamW is deprecated and will be removed in a future version. Use the PyTorch implementation torch.optim.AdamW instead, or set `no_deprecation_warning=True` to disable this warning\n",
            "  warnings.warn(\n"
          ]
        }
      ]
    },
    {
      "cell_type": "markdown",
      "metadata": {
        "id": "G2AtJcvwLV3x"
      },
      "source": [
        "### Sanity check with one batch"
      ]
    },
    {
      "cell_type": "code",
      "metadata": {
        "id": "rUoaMqjvKdym",
        "outputId": "9118baf9-bc99-435d-8af4-1040130b29a8",
        "colab": {
          "base_uri": "https://localhost:8080/"
        }
      },
      "source": [
        "data = next(iter(test_data_loader))\n",
        "data.keys()"
      ],
      "execution_count": null,
      "outputs": [
        {
          "output_type": "stream",
          "name": "stderr",
          "text": [
            "/usr/lib/python3.10/multiprocessing/popen_fork.py:66: RuntimeWarning: os.fork() was called. os.fork() is incompatible with multithreaded code, and JAX is multithreaded, so this will likely lead to a deadlock.\n",
            "  self.pid = os.fork()\n"
          ]
        },
        {
          "output_type": "execute_result",
          "data": {
            "text/plain": [
              "dict_keys(['review_text', 'input_ids', 'attention_mask', 'targets'])"
            ]
          },
          "metadata": {},
          "execution_count": 38
        }
      ]
    },
    {
      "cell_type": "code",
      "metadata": {
        "id": "RIUB5WJNKhBs",
        "outputId": "3fcdc027-b309-4d55-93f5-a270aa9d8ed3",
        "colab": {
          "base_uri": "https://localhost:8080/"
        }
      },
      "source": [
        "input_ids = data['input_ids'].to(device)\n",
        "attention_mask = data['attention_mask'].to(device)\n",
        "targets = data['targets'].to(device)\n",
        "print(attention_mask.shape) # batch size x seq length"
      ],
      "execution_count": null,
      "outputs": [
        {
          "output_type": "stream",
          "name": "stdout",
          "text": [
            "torch.Size([8, 512])\n"
          ]
        }
      ]
    },
    {
      "cell_type": "code",
      "metadata": {
        "id": "EYsDR9leYb4Z",
        "outputId": "60fb2b89-e6f9-4e1d-a0eb-8978ea828197",
        "colab": {
          "base_uri": "https://localhost:8080/"
        }
      },
      "source": [
        "input_ids[0]"
      ],
      "execution_count": null,
      "outputs": [
        {
          "output_type": "execute_result",
          "data": {
            "text/plain": [
              "tensor([[   18,   758,  1218,    21, 26735,    17, 20219,   769,  1734,   364,\n",
              "          1791,  4340,    18, 12643,    41,   325,    20, 20514, 21625,  1487,\n",
              "           116,    17,  4518,  9323,    17,  4631,  9427,    49,   943,   667,\n",
              "          1212,  3405,  7049,  6712,    27,   566,    24,   274,  1014,  1970,\n",
              "            17,   155,  9476,  3198,    41,   858,    31,    18,    17, 12263,\n",
              "           985,    59,  1734,    22,  3109,   316,   689,    20, 12612,  2154,\n",
              "         11598, 14981,    41,   858,    25,    18,   203,  2969, 14422,  5824,\n",
              "            20,    18, 20584,   321,  2418, 23849,  1084,    41,   858,    25,\n",
              "            18, 10554,   116,  1155,    20,  1768,  1487,     4,     3,     0,\n",
              "             0,     0,     0,     0,     0,     0,     0,     0,     0,     0,\n",
              "             0,     0,     0,     0,     0,     0,     0,     0,     0,     0,\n",
              "             0,     0,     0,     0,     0,     0,     0,     0,     0,     0,\n",
              "             0,     0,     0,     0,     0,     0,     0,     0,     0,     0,\n",
              "             0,     0,     0,     0,     0,     0,     0,     0,     0,     0,\n",
              "             0,     0,     0,     0,     0,     0,     0,     0,     0,     0,\n",
              "             0,     0,     0,     0,     0,     0,     0,     0,     0,     0,\n",
              "             0,     0,     0,     0,     0,     0,     0,     0,     0,     0,\n",
              "             0,     0,     0,     0,     0,     0,     0,     0,     0,     0,\n",
              "             0,     0,     0,     0,     0,     0,     0,     0,     0,     0,\n",
              "             0,     0,     0,     0,     0,     0,     0,     0,     0,     0,\n",
              "             0,     0,     0,     0,     0,     0,     0,     0,     0,     0,\n",
              "             0,     0,     0,     0,     0,     0,     0,     0,     0,     0,\n",
              "             0,     0,     0,     0,     0,     0,     0,     0,     0,     0,\n",
              "             0,     0,     0,     0,     0,     0,     0,     0,     0,     0,\n",
              "             0,     0,     0,     0,     0,     0,     0,     0,     0,     0,\n",
              "             0,     0,     0,     0,     0,     0,     0,     0,     0,     0,\n",
              "             0,     0,     0,     0,     0,     0,     0,     0,     0,     0,\n",
              "             0,     0,     0,     0,     0,     0,     0,     0,     0,     0,\n",
              "             0,     0,     0,     0,     0,     0,     0,     0,     0,     0,\n",
              "             0,     0,     0,     0,     0,     0,     0,     0,     0,     0,\n",
              "             0,     0,     0,     0,     0,     0,     0,     0,     0,     0,\n",
              "             0,     0,     0,     0,     0,     0,     0,     0,     0,     0,\n",
              "             0,     0,     0,     0,     0,     0,     0,     0,     0,     0,\n",
              "             0,     0,     0,     0,     0,     0,     0,     0,     0,     0,\n",
              "             0,     0,     0,     0,     0,     0,     0,     0,     0,     0,\n",
              "             0,     0,     0,     0,     0,     0,     0,     0,     0,     0,\n",
              "             0,     0,     0,     0,     0,     0,     0,     0,     0,     0,\n",
              "             0,     0,     0,     0,     0,     0,     0,     0,     0,     0,\n",
              "             0,     0,     0,     0,     0,     0,     0,     0,     0,     0,\n",
              "             0,     0,     0,     0,     0,     0,     0,     0,     0,     0,\n",
              "             0,     0,     0,     0,     0,     0,     0,     0,     0,     0,\n",
              "             0,     0,     0,     0,     0,     0,     0,     0,     0,     0,\n",
              "             0,     0,     0,     0,     0,     0,     0,     0,     0,     0,\n",
              "             0,     0,     0,     0,     0,     0,     0,     0,     0,     0,\n",
              "             0,     0,     0,     0,     0,     0,     0,     0,     0,     0,\n",
              "             0,     0,     0,     0,     0,     0,     0,     0,     0,     0,\n",
              "             0,     0,     0,     0,     0,     0,     0,     0,     0,     0,\n",
              "             0,     0,     0,     0,     0,     0,     0,     0,     0,     0,\n",
              "             0,     0,     0,     0,     0,     0,     0,     0,     0,     0,\n",
              "             0,     0,     0,     0,     0,     0,     0,     0,     0,     0,\n",
              "             0,     0,     0,     0,     0,     0,     0,     0,     0,     0,\n",
              "             0,     0]], device='cuda:0')"
            ]
          },
          "metadata": {},
          "execution_count": 40
        }
      ]
    },
    {
      "cell_type": "code",
      "metadata": {
        "id": "KCFLKXL0KmaA",
        "outputId": "64722781-1a8c-4bbf-f70c-fe512ef1de0d",
        "colab": {
          "base_uri": "https://localhost:8080/"
        }
      },
      "source": [
        "outputs = model(input_ids.reshape(-1, 512), token_type_ids=None, attention_mask=attention_mask, labels=targets)\n",
        "outputs"
      ],
      "execution_count": null,
      "outputs": [
        {
          "output_type": "execute_result",
          "data": {
            "text/plain": [
              "XLNetForSequenceClassificationOutput(loss=tensor(0.7858, device='cuda:0', grad_fn=<NllLossBackward0>), logits=tensor([[-0.3935,  0.1682],\n",
              "        [-0.7829,  0.0676],\n",
              "        [-0.4429,  0.1307],\n",
              "        [-0.6252, -0.0634],\n",
              "        [-0.4251, -0.0049],\n",
              "        [-0.4454,  0.1188],\n",
              "        [-0.3359, -0.0510],\n",
              "        [-0.5748, -0.1173]], device='cuda:0', grad_fn=<AddmmBackward0>), mems=(tensor([[[-0.0281, -0.0161, -0.0106,  ..., -0.0265,  0.0269, -0.0193],\n",
              "         [-0.0281, -0.0161, -0.0106,  ..., -0.0265,  0.0269, -0.0193],\n",
              "         [ 0.0454, -0.0305,  0.0287,  ..., -0.0039,  0.0158, -0.0138],\n",
              "         ...,\n",
              "         [-0.0281, -0.0161, -0.0106,  ..., -0.0265,  0.0269, -0.0193],\n",
              "         [-0.0281, -0.0161, -0.0106,  ..., -0.0265,  0.0269, -0.0193],\n",
              "         [ 0.0150,  0.0655,  0.0719,  ...,  0.0070,  0.0494,  0.0776]],\n",
              "\n",
              "        [[-0.0620,  0.0558, -0.0176,  ..., -0.0120, -0.0295,  0.0392],\n",
              "         [-0.0620,  0.0558, -0.0176,  ..., -0.0120, -0.0295,  0.0392],\n",
              "         [-0.0535, -0.0230, -0.0071,  ..., -0.0330, -0.0343, -0.0278],\n",
              "         ...,\n",
              "         [ 0.0542,  0.0865,  0.0034,  ...,  0.0163,  0.0387,  0.0226],\n",
              "         [-0.0620,  0.0558, -0.0176,  ..., -0.0120, -0.0295,  0.0392],\n",
              "         [ 0.0542,  0.0865,  0.0034,  ...,  0.0163,  0.0387,  0.0226]],\n",
              "\n",
              "        [[ 0.0033,  0.0482, -0.0290,  ...,  0.0932, -0.0806,  0.1242],\n",
              "         [-0.0185, -0.0360, -0.0084,  ...,  0.0227,  0.0066, -0.0254],\n",
              "         [-0.0387, -0.0099, -0.0053,  ...,  0.0643,  0.0192, -0.0144],\n",
              "         ...,\n",
              "         [ 0.0883,  0.0807, -0.0289,  ...,  0.0948, -0.0196, -0.0747],\n",
              "         [-0.0185, -0.0360, -0.0084,  ...,  0.0227,  0.0066, -0.0254],\n",
              "         [ 0.0883,  0.0807, -0.0289,  ...,  0.0948, -0.0196, -0.0747]],\n",
              "\n",
              "        ...,\n",
              "\n",
              "        [[-0.0049,  0.0655, -0.0151,  ..., -0.0458, -0.0061,  0.0346],\n",
              "         [-0.0049,  0.0655, -0.0151,  ..., -0.0458, -0.0061,  0.0346],\n",
              "         [-0.0049,  0.0655, -0.0151,  ..., -0.0458, -0.0061,  0.0346],\n",
              "         ...,\n",
              "         [-0.0049,  0.0655, -0.0151,  ..., -0.0458, -0.0061,  0.0346],\n",
              "         [-0.0049,  0.0655, -0.0151,  ..., -0.0458, -0.0061,  0.0346],\n",
              "         [-0.0049,  0.0655, -0.0151,  ..., -0.0458, -0.0061,  0.0346]],\n",
              "\n",
              "        [[-0.0049,  0.0655, -0.0151,  ..., -0.0458, -0.0061,  0.0346],\n",
              "         [-0.0049,  0.0655, -0.0151,  ..., -0.0458, -0.0061,  0.0346],\n",
              "         [-0.0049,  0.0655, -0.0151,  ..., -0.0458, -0.0061,  0.0346],\n",
              "         ...,\n",
              "         [-0.0049,  0.0655, -0.0151,  ..., -0.0458, -0.0061,  0.0346],\n",
              "         [-0.0049,  0.0655, -0.0151,  ..., -0.0458, -0.0061,  0.0346],\n",
              "         [-0.0049,  0.0655, -0.0151,  ..., -0.0458, -0.0061,  0.0346]],\n",
              "\n",
              "        [[-0.0049,  0.0655, -0.0151,  ..., -0.0458, -0.0061,  0.0346],\n",
              "         [-0.0049,  0.0655, -0.0151,  ..., -0.0458, -0.0061,  0.0346],\n",
              "         [-0.0049,  0.0655, -0.0151,  ..., -0.0458, -0.0061,  0.0346],\n",
              "         ...,\n",
              "         [-0.0049,  0.0655, -0.0151,  ..., -0.0458, -0.0061,  0.0346],\n",
              "         [-0.0049,  0.0655, -0.0151,  ..., -0.0458, -0.0061,  0.0346],\n",
              "         [-0.0049,  0.0655, -0.0151,  ..., -0.0458, -0.0061,  0.0346]]],\n",
              "       device='cuda:0'), tensor([[[ 0.0704, -0.1031, -0.1888,  ...,  0.1160, -0.3431,  0.7766],\n",
              "         [ 0.3186, -0.1673, -0.3585,  ..., -0.2324, -0.5390,  0.9206],\n",
              "         [ 0.8233, -0.8938,  0.0432,  ..., -0.2594,  0.1072,  0.3685],\n",
              "         ...,\n",
              "         [ 0.0504, -0.2470, -0.3197,  ..., -0.0528, -0.5921,  0.8115],\n",
              "         [ 0.5068, -0.2090, -0.5057,  ..., -0.5910, -0.6971,  1.1560],\n",
              "         [ 0.1711,  1.1093,  1.3191,  ..., -0.2609,  1.4708,  0.8695]],\n",
              "\n",
              "        [[-0.2808,  1.6032, -1.0719,  ..., -0.6240, -0.5458,  0.0278],\n",
              "         [-0.0571,  1.1488, -0.6170,  ..., -0.1131, -0.9595,  0.4694],\n",
              "         [-0.9602, -0.9062, -0.0107,  ..., -0.8197, -1.1966,  0.3265],\n",
              "         ...,\n",
              "         [ 1.0236,  1.9053, -0.8267,  ...,  1.2397,  0.7187,  0.1401],\n",
              "         [-0.0840,  1.1071, -0.7423,  ..., -0.4188, -0.8426,  0.6787],\n",
              "         [ 0.7996,  1.9194, -0.7823,  ...,  1.0591,  0.9946,  0.0885]],\n",
              "\n",
              "        [[ 0.1232,  0.5413, -0.3794,  ...,  1.4757, -1.3439,  1.6133],\n",
              "         [ 0.4363, -0.6652,  0.4373,  ...,  0.5869, -0.2212, -0.0219],\n",
              "         [-0.5970, -0.1240,  0.4471,  ...,  0.6624, -0.3601,  0.7889],\n",
              "         ...,\n",
              "         [ 2.2743,  1.8096, -0.1977,  ...,  1.4559,  0.0275, -0.2055],\n",
              "         [ 0.7257, -0.5847,  0.0962,  ...,  0.1494, -0.4011,  0.2327],\n",
              "         [ 2.0950,  1.7342, -0.1116,  ...,  1.2355,  0.1720, -0.1929]],\n",
              "\n",
              "        ...,\n",
              "\n",
              "        [[ 0.0981,  2.0459,  0.2327,  ..., -0.5899, -1.2740,  0.8156],\n",
              "         [ 0.0808,  2.0739,  0.3236,  ..., -0.6075, -1.3823,  0.8580],\n",
              "         [ 0.0857,  2.0307,  0.2735,  ..., -0.7046, -1.3874,  0.8324],\n",
              "         ...,\n",
              "         [ 0.0502,  2.1295,  0.3109,  ..., -0.7885, -1.5057,  0.9006],\n",
              "         [ 0.0567,  2.1269,  0.1349,  ..., -0.7606, -1.2969,  0.7372],\n",
              "         [ 0.0134,  1.9487,  0.4239,  ..., -0.8882, -1.4160,  0.9039]],\n",
              "\n",
              "        [[ 0.1198,  2.0253,  0.2162,  ..., -0.6021, -1.3019,  0.8182],\n",
              "         [ 0.1019,  2.0723,  0.3330,  ..., -0.6141, -1.3899,  0.8608],\n",
              "         [ 0.0904,  2.0424,  0.2849,  ..., -0.6961, -1.3855,  0.8245],\n",
              "         ...,\n",
              "         [ 0.0505,  2.1511,  0.3106,  ..., -0.7891, -1.5190,  0.9061],\n",
              "         [ 0.0540,  2.1486,  0.1301,  ..., -0.7745, -1.3041,  0.7158],\n",
              "         [ 0.0136,  1.9631,  0.4101,  ..., -0.8868, -1.4179,  0.9164]],\n",
              "\n",
              "        [[ 0.1456,  1.9947,  0.2016,  ..., -0.6141, -1.3197,  0.8116],\n",
              "         [ 0.0934,  2.0882,  0.3566,  ..., -0.6190, -1.3931,  0.8815],\n",
              "         [ 0.1097,  2.0173,  0.2778,  ..., -0.7089, -1.3902,  0.8114],\n",
              "         ...,\n",
              "         [ 0.0299,  2.1605,  0.3360,  ..., -0.7930, -1.5336,  0.9141],\n",
              "         [ 0.0604,  2.1515,  0.1554,  ..., -0.7844, -1.3160,  0.7138],\n",
              "         [-0.0059,  1.9849,  0.4012,  ..., -0.8745, -1.4134,  0.9211]]],\n",
              "       device='cuda:0'), tensor([[[-0.2137, -0.1685, -0.0682,  ..., -0.3659, -0.3108,  0.5022],\n",
              "         [-0.1903,  0.1978, -0.5543,  ..., -0.5323, -0.4749,  0.9563],\n",
              "         [ 0.0716, -1.0031,  0.5894,  ...,  0.6572, -0.8085,  0.8495],\n",
              "         ...,\n",
              "         [-0.0880, -0.2851, -0.5551,  ..., -0.4221, -0.4136,  0.2619],\n",
              "         [-0.3641, -0.1851, -0.6718,  ..., -0.9976, -0.1328,  1.2088],\n",
              "         [ 0.3342,  0.4036,  1.2102,  ..., -0.1566,  0.7364,  0.5202]],\n",
              "\n",
              "        [[-0.1546,  1.0483, -1.5820,  ..., -0.1288, -0.5097, -0.2891],\n",
              "         [ 0.4169,  0.5432, -1.1979,  ..., -0.1744, -0.6454, -0.0997],\n",
              "         [-0.9009, -0.9442,  0.0067,  ..., -0.3043, -1.1344,  0.2027],\n",
              "         ...,\n",
              "         [ 1.2258,  0.2732, -1.2519,  ...,  0.4453,  0.2645, -0.4074],\n",
              "         [ 0.2430,  0.3322, -1.0679,  ..., -0.1852, -0.5756,  0.3330],\n",
              "         [ 0.8588,  0.6308, -0.9848,  ...,  0.9426,  0.1997, -0.3623]],\n",
              "\n",
              "        [[-0.1224, -0.1629, -0.5239,  ...,  1.5082, -1.0972,  1.2387],\n",
              "         [ 0.5970, -0.6056,  1.5114,  ...,  0.0366, -0.1631, -0.1326],\n",
              "         [-1.0571, -0.1264,  0.3986,  ...,  0.9638, -0.1793,  0.5417],\n",
              "         ...,\n",
              "         [ 1.0056,  1.5423, -0.1273,  ...,  1.8551,  0.3212, -0.8192],\n",
              "         [ 0.7479, -0.6526,  1.2269,  ..., -0.2443, -0.1032,  0.4315],\n",
              "         [ 0.9698,  1.2559,  0.1775,  ...,  2.0267,  0.3666, -0.6106]],\n",
              "\n",
              "        ...,\n",
              "\n",
              "        [[-0.1123,  2.0744,  0.9804,  ...,  0.0413, -1.1900,  0.4978],\n",
              "         [-0.3136,  2.0648,  0.9755,  ...,  0.1765, -1.3944,  0.4980],\n",
              "         [-0.0744,  1.9132,  0.8244,  ..., -0.0227, -1.2710,  0.3184],\n",
              "         ...,\n",
              "         [-0.3099,  2.2128,  1.2320,  ...,  0.1222, -1.4213,  0.4692],\n",
              "         [-0.6308,  2.1251,  0.8518,  ...,  0.0244, -1.3781,  0.7482],\n",
              "         [ 0.0252,  1.9672,  1.0760,  ..., -0.0871, -1.5364,  0.4655]],\n",
              "\n",
              "        [[-0.0670,  2.0524,  0.9421,  ..., -0.0171, -1.2218,  0.5020],\n",
              "         [-0.3049,  2.0794,  1.0380,  ...,  0.1586, -1.4003,  0.4945],\n",
              "         [-0.0465,  1.9372,  0.8244,  ..., -0.0232, -1.2476,  0.2992],\n",
              "         ...,\n",
              "         [-0.2562,  2.2439,  1.2147,  ...,  0.0869, -1.4229,  0.5199],\n",
              "         [-0.6577,  2.1621,  0.9182,  ..., -0.0343, -1.3229,  0.6566],\n",
              "         [-0.0279,  1.9653,  1.0656,  ..., -0.0408, -1.5600,  0.4903]],\n",
              "\n",
              "        [[-0.0589,  1.9994,  0.8971,  ..., -0.0671, -1.2715,  0.5068],\n",
              "         [-0.2795,  2.1003,  1.0706,  ...,  0.1237, -1.3861,  0.5083],\n",
              "         [ 0.0063,  1.9563,  0.8057,  ..., -0.0460, -1.1922,  0.2784],\n",
              "         ...,\n",
              "         [-0.2204,  2.2437,  1.1911,  ...,  0.0447, -1.4233,  0.5419],\n",
              "         [-0.6076,  2.1708,  0.9831,  ..., -0.0749, -1.2782,  0.6230],\n",
              "         [-0.0935,  2.0059,  1.0841,  ...,  0.0380, -1.5707,  0.4953]]],\n",
              "       device='cuda:0'), tensor([[[-2.6483e-01, -2.4544e-01, -3.9020e-01,  ...,  4.2586e-01,\n",
              "          -5.5042e-01,  1.2236e+00],\n",
              "         [ 1.0852e-01,  1.6281e-01, -1.0285e+00,  ..., -3.1430e-01,\n",
              "          -1.3724e+00,  1.5979e+00],\n",
              "         [-2.5440e-01, -1.1578e+00,  6.9335e-01,  ...,  7.5861e-01,\n",
              "          -1.2036e+00,  8.0962e-01],\n",
              "         ...,\n",
              "         [-1.8610e-02, -1.0135e+00, -1.2197e+00,  ..., -6.0385e-01,\n",
              "          -6.2423e-01,  1.1323e+00],\n",
              "         [-2.2340e-01, -6.5308e-01, -1.2422e+00,  ..., -1.0640e+00,\n",
              "          -1.0257e+00,  2.1447e+00],\n",
              "         [ 2.6347e-03,  6.9827e-01,  1.1866e+00,  ..., -4.6514e-01,\n",
              "           1.6942e+00,  5.3489e-01]],\n",
              "\n",
              "        [[-3.7377e-01,  1.3532e+00, -1.9343e+00,  ...,  2.1076e-01,\n",
              "          -6.2660e-01, -8.0704e-01],\n",
              "         [ 2.4746e-01,  5.2681e-01, -2.1610e+00,  ..., -3.1294e-01,\n",
              "          -7.8808e-01, -5.0710e-01],\n",
              "         [-8.7040e-01, -1.3490e+00,  2.6460e-01,  ..., -1.0191e-02,\n",
              "          -1.1812e+00,  5.1225e-01],\n",
              "         ...,\n",
              "         [ 7.8693e-01,  6.7342e-01, -1.7060e+00,  ...,  1.4546e-01,\n",
              "           4.7102e-01, -9.1090e-01],\n",
              "         [-4.7720e-02, -2.4906e-01, -1.8595e+00,  ..., -8.7879e-01,\n",
              "          -6.4436e-01,  3.7562e-01],\n",
              "         [ 6.0579e-01,  9.2941e-01, -5.5515e-01,  ...,  1.0791e+00,\n",
              "           8.3206e-01, -1.5514e+00]],\n",
              "\n",
              "        [[-5.4134e-01, -6.8362e-01, -9.6039e-01,  ...,  1.8040e+00,\n",
              "          -5.7342e-01,  1.6584e+00],\n",
              "         [ 3.0869e-01, -4.4333e-01,  1.5583e+00,  ...,  1.9766e-02,\n",
              "           1.6013e-01,  3.2649e-02],\n",
              "         [-5.3485e-01, -1.6980e-02,  6.4942e-01,  ...,  1.5820e+00,\n",
              "          -5.5805e-01,  9.2783e-01],\n",
              "         ...,\n",
              "         [ 3.8728e-01,  2.6267e+00,  3.8307e-01,  ...,  1.2487e+00,\n",
              "           6.2580e-01, -2.1610e+00],\n",
              "         [ 3.5282e-01, -5.8477e-01,  1.4229e+00,  ..., -6.7984e-01,\n",
              "           1.9290e-01,  2.5936e-01],\n",
              "         [ 2.3025e-01,  2.0449e+00,  7.4831e-01,  ...,  1.8200e+00,\n",
              "           9.7244e-01, -1.4016e+00]],\n",
              "\n",
              "        ...,\n",
              "\n",
              "        [[-1.1890e-01,  2.9105e+00,  8.6699e-01,  ...,  5.5026e-01,\n",
              "          -1.8828e+00,  4.0756e-01],\n",
              "         [-3.7593e-01,  2.8937e+00,  1.0263e+00,  ...,  5.1250e-01,\n",
              "          -2.2575e+00,  6.0391e-01],\n",
              "         [-2.8832e-02,  2.6725e+00,  7.4029e-01,  ...,  3.2608e-01,\n",
              "          -2.1568e+00,  1.2693e-01],\n",
              "         ...,\n",
              "         [-4.2509e-01,  2.9026e+00,  1.2019e+00,  ...,  2.1023e-01,\n",
              "          -2.0786e+00,  4.8646e-01],\n",
              "         [-5.3355e-01,  3.0595e+00,  7.2847e-01,  ...,  2.8187e-02,\n",
              "          -2.2965e+00,  7.0373e-01],\n",
              "         [-1.0801e-01,  2.8352e+00,  7.3449e-01,  ..., -1.8926e-01,\n",
              "          -2.3150e+00,  6.4495e-01]],\n",
              "\n",
              "        [[-5.7716e-02,  2.8112e+00,  8.3412e-01,  ...,  4.4873e-01,\n",
              "          -1.9557e+00,  4.2433e-01],\n",
              "         [-3.7572e-01,  2.8804e+00,  1.0939e+00,  ...,  5.1044e-01,\n",
              "          -2.2540e+00,  6.1049e-01],\n",
              "         [ 1.9766e-02,  2.6996e+00,  7.2114e-01,  ...,  3.5056e-01,\n",
              "          -2.1612e+00,  9.3381e-02],\n",
              "         ...,\n",
              "         [-3.9878e-01,  2.9194e+00,  1.1976e+00,  ...,  9.4509e-02,\n",
              "          -2.0917e+00,  4.2611e-01],\n",
              "         [-6.0599e-01,  3.0568e+00,  8.2735e-01,  ...,  5.4700e-05,\n",
              "          -2.1472e+00,  6.6265e-01],\n",
              "         [-1.5122e-01,  2.8517e+00,  7.0697e-01,  ..., -1.4054e-01,\n",
              "          -2.3237e+00,  6.8432e-01]],\n",
              "\n",
              "        [[-3.5977e-02,  2.6803e+00,  8.0706e-01,  ...,  3.2792e-01,\n",
              "          -2.0488e+00,  4.8810e-01],\n",
              "         [-3.7123e-01,  2.8847e+00,  1.1252e+00,  ...,  5.0298e-01,\n",
              "          -2.2355e+00,  5.7906e-01],\n",
              "         [ 6.3957e-02,  2.7142e+00,  6.8150e-01,  ...,  3.7225e-01,\n",
              "          -2.0793e+00,  5.9383e-02],\n",
              "         ...,\n",
              "         [-3.7207e-01,  2.8978e+00,  1.1835e+00,  ...,  2.7880e-03,\n",
              "          -2.1186e+00,  3.9133e-01],\n",
              "         [-5.9321e-01,  3.0237e+00,  9.3958e-01,  ..., -2.5808e-02,\n",
              "          -2.0972e+00,  6.3019e-01],\n",
              "         [-2.2478e-01,  2.9262e+00,  6.7478e-01,  ..., -2.6101e-02,\n",
              "          -2.3076e+00,  7.0237e-01]]], device='cuda:0'), tensor([[[ 4.1977e-01, -6.3993e-01, -9.6014e-02,  ...,  9.0531e-01,\n",
              "          -1.1204e+00,  1.3144e+00],\n",
              "         [ 9.1382e-01, -3.0189e-01, -4.6698e-01,  ...,  7.0126e-01,\n",
              "          -1.5165e+00,  1.7653e+00],\n",
              "         [-2.7322e-01, -1.7213e+00,  6.5889e-01,  ...,  1.9690e+00,\n",
              "          -2.1260e+00,  2.4580e+00],\n",
              "         ...,\n",
              "         [ 8.0302e-01, -1.4408e+00, -8.6874e-01,  ...,  4.5662e-01,\n",
              "          -4.2297e-01,  1.3902e+00],\n",
              "         [ 4.1997e-01, -1.0534e+00, -8.8993e-01,  ..., -2.1192e-01,\n",
              "          -5.4386e-01,  2.4971e+00],\n",
              "         [ 1.0681e-01, -4.7363e-02,  7.3417e-01,  ...,  5.0392e-01,\n",
              "           2.4468e+00,  5.0357e-01]],\n",
              "\n",
              "        [[ 1.3142e-01,  5.6944e-01, -1.3719e+00,  ...,  1.0176e+00,\n",
              "          -9.6973e-01,  2.3345e-01],\n",
              "         [ 1.1818e+00,  2.5016e-01, -1.7118e+00,  ...,  4.6235e-01,\n",
              "          -5.7400e-01,  6.2772e-01],\n",
              "         [-1.1816e+00, -1.1951e+00,  2.0170e-01,  ...,  9.4137e-01,\n",
              "          -1.4481e+00,  1.1934e+00],\n",
              "         ...,\n",
              "         [ 4.1808e-01,  1.0563e+00, -1.2412e+00,  ...,  5.8801e-01,\n",
              "           2.2204e-01, -1.3789e-01],\n",
              "         [ 7.6648e-01, -4.4680e-01, -1.1216e+00,  ..., -1.0591e-01,\n",
              "          -6.6569e-01,  8.3346e-01],\n",
              "         [ 1.4588e-01,  1.4724e+00, -5.2778e-01,  ...,  1.8649e+00,\n",
              "           3.6598e-01,  2.9257e-02]],\n",
              "\n",
              "        [[-3.0798e-01, -1.0086e+00, -8.8626e-01,  ...,  2.4023e+00,\n",
              "          -6.5023e-01,  1.1647e+00],\n",
              "         [ 6.1128e-01, -6.3810e-01,  1.5080e+00,  ...,  7.3261e-01,\n",
              "          -3.7813e-01,  1.1640e+00],\n",
              "         [-5.4295e-01, -3.8154e-01,  4.0517e-02,  ...,  2.0899e+00,\n",
              "          -1.7978e+00,  1.3035e+00],\n",
              "         ...,\n",
              "         [ 9.1764e-01,  1.6895e+00,  5.8509e-01,  ...,  9.7076e-01,\n",
              "           1.5114e+00, -1.2064e+00],\n",
              "         [ 5.0820e-01, -6.7830e-01,  1.4848e+00,  ...,  3.6380e-01,\n",
              "           8.9032e-02,  1.4061e+00],\n",
              "         [ 6.8030e-01,  1.4894e+00,  1.2057e+00,  ...,  2.0393e+00,\n",
              "           1.6879e+00, -4.1181e-01]],\n",
              "\n",
              "        ...,\n",
              "\n",
              "        [[ 5.4679e-01,  2.7173e+00,  5.4367e-01,  ...,  1.6408e+00,\n",
              "          -1.5119e+00,  4.8290e-01],\n",
              "         [ 7.8156e-02,  2.8342e+00,  5.5780e-01,  ...,  1.6838e+00,\n",
              "          -1.6950e+00,  8.2976e-01],\n",
              "         [ 5.4146e-01,  2.7536e+00,  4.8392e-01,  ...,  1.5571e+00,\n",
              "          -1.6008e+00,  6.7128e-02],\n",
              "         ...,\n",
              "         [ 5.9250e-02,  2.6497e+00,  7.5543e-01,  ...,  8.8321e-01,\n",
              "          -1.1365e+00,  1.0101e+00],\n",
              "         [ 2.4965e-02,  2.7291e+00,  3.8233e-01,  ...,  1.3269e+00,\n",
              "          -1.7173e+00,  6.7035e-01],\n",
              "         [ 2.7201e-01,  2.5689e+00,  2.7747e-01,  ...,  7.3608e-01,\n",
              "          -1.7354e+00,  2.8601e-01]],\n",
              "\n",
              "        [[ 6.3038e-01,  2.6472e+00,  5.3242e-01,  ...,  1.5660e+00,\n",
              "          -1.6197e+00,  4.1377e-01],\n",
              "         [ 1.2805e-01,  2.8446e+00,  6.6621e-01,  ...,  1.6777e+00,\n",
              "          -1.6881e+00,  8.8447e-01],\n",
              "         [ 6.5428e-01,  2.7674e+00,  5.0909e-01,  ...,  1.5811e+00,\n",
              "          -1.6749e+00, -8.8414e-02],\n",
              "         ...,\n",
              "         [ 3.0124e-02,  2.6904e+00,  7.3404e-01,  ...,  7.8566e-01,\n",
              "          -1.1401e+00,  9.4869e-01],\n",
              "         [ 2.1797e-03,  2.7001e+00,  5.5851e-01,  ...,  1.2926e+00,\n",
              "          -1.5642e+00,  7.8072e-01],\n",
              "         [ 2.0341e-01,  2.5537e+00,  2.6906e-01,  ...,  7.6770e-01,\n",
              "          -1.7894e+00,  2.8276e-01]],\n",
              "\n",
              "        [[ 7.1415e-01,  2.5522e+00,  5.6436e-01,  ...,  1.4797e+00,\n",
              "          -1.7192e+00,  3.3391e-01],\n",
              "         [ 1.7156e-01,  2.8510e+00,  6.9883e-01,  ...,  1.6496e+00,\n",
              "          -1.7010e+00,  9.0369e-01],\n",
              "         [ 7.4842e-01,  2.7584e+00,  5.1240e-01,  ...,  1.6147e+00,\n",
              "          -1.6441e+00, -1.7236e-01],\n",
              "         ...,\n",
              "         [ 1.5571e-02,  2.6426e+00,  6.8234e-01,  ...,  6.8867e-01,\n",
              "          -1.1856e+00,  8.7582e-01],\n",
              "         [ 2.9036e-02,  2.6690e+00,  7.3754e-01,  ...,  1.2638e+00,\n",
              "          -1.5387e+00,  8.3951e-01],\n",
              "         [ 1.2581e-01,  2.5649e+00,  2.6844e-01,  ...,  8.7950e-01,\n",
              "          -1.7379e+00,  3.5753e-01]]], device='cuda:0'), tensor([[[ 0.4737,  0.0972, -0.5650,  ..., -0.1034, -1.3678,  0.1375],\n",
              "         [ 0.7545,  0.3063, -0.5415,  ..., -0.0909, -1.4967,  0.6224],\n",
              "         [-0.0141, -0.8070,  0.3969,  ...,  0.9016, -2.0646,  1.2209],\n",
              "         ...,\n",
              "         [ 0.6579, -0.6022, -0.8849,  ..., -0.3305, -1.2358,  0.4559],\n",
              "         [ 0.4184,  0.1124, -0.8706,  ..., -0.6171, -1.3984,  1.3157],\n",
              "         [ 0.5468,  0.1089,  0.1868,  ..., -0.1162,  0.5931, -0.5498]],\n",
              "\n",
              "        [[ 0.5764,  0.8647, -1.7759,  ...,  0.3480, -1.3210, -0.5869],\n",
              "         [ 0.8548,  0.5410, -1.8016,  ...,  0.0393, -1.0405, -0.0115],\n",
              "         [-0.8657, -0.5965,  0.0563,  ...,  0.4190, -1.4272,  0.2132],\n",
              "         ...,\n",
              "         [ 0.6168,  1.2643, -1.4197,  ...,  0.2770, -0.7883, -0.9220],\n",
              "         [ 0.5887,  0.2990, -1.3433,  ..., -0.5787, -1.4878,  0.6440],\n",
              "         [ 0.6491,  1.4729, -0.7030,  ...,  1.0606, -0.2663, -0.6033]],\n",
              "\n",
              "        [[-0.0278,  0.1517, -1.1261,  ...,  1.1726, -0.6612,  0.2642],\n",
              "         [ 0.3948, -0.2010,  0.5060,  ...,  0.4931, -0.9572, -0.2286],\n",
              "         [-0.7323,  0.1619, -0.3653,  ...,  0.7854, -1.9134, -0.2008],\n",
              "         ...,\n",
              "         [ 0.8777,  1.4380,  0.2109,  ...,  0.5849, -0.0781, -1.3689],\n",
              "         [ 0.1551, -0.1721,  0.8276,  ...,  0.2734, -1.4446,  0.6424],\n",
              "         [ 1.1684,  1.3083,  0.8965,  ...,  1.6279,  0.3345, -0.7979]],\n",
              "\n",
              "        ...,\n",
              "\n",
              "        [[ 0.8450,  2.4494,  0.0754,  ...,  0.8842, -1.0897,  0.4822],\n",
              "         [ 0.5329,  2.5386,  0.1459,  ...,  0.8323, -1.4874,  0.8733],\n",
              "         [ 0.6098,  2.4997,  0.1505,  ...,  0.9324, -1.1429,  0.2849],\n",
              "         ...,\n",
              "         [ 0.1342,  2.5239,  0.3261,  ...,  0.3046, -0.9032,  1.2457],\n",
              "         [ 0.1968,  2.7254,  0.0111,  ...,  0.3953, -1.5290,  0.7330],\n",
              "         [ 0.5655,  2.1005,  0.2417,  ..., -0.0575, -1.2418,  0.6792]],\n",
              "\n",
              "        [[ 0.8932,  2.4288,  0.1005,  ...,  0.8339, -1.1623,  0.3540],\n",
              "         [ 0.5384,  2.5660,  0.2060,  ...,  0.8268, -1.4617,  0.8700],\n",
              "         [ 0.6533,  2.5219,  0.1636,  ...,  1.0137, -1.1978,  0.1628],\n",
              "         ...,\n",
              "         [ 0.1027,  2.5893,  0.2692,  ...,  0.1822, -0.9452,  0.9982],\n",
              "         [ 0.2039,  2.6387,  0.1183,  ...,  0.3159, -1.4217,  0.7961],\n",
              "         [ 0.4997,  2.0652,  0.2346,  ..., -0.0296, -1.2236,  0.7488]],\n",
              "\n",
              "        [[ 0.9611,  2.3934,  0.1541,  ...,  0.7974, -1.2032,  0.2456],\n",
              "         [ 0.5672,  2.6175,  0.2296,  ...,  0.8038, -1.4497,  0.8105],\n",
              "         [ 0.7053,  2.5248,  0.1467,  ...,  1.0778, -1.2050,  0.1197],\n",
              "         ...,\n",
              "         [ 0.1080,  2.5566,  0.1882,  ...,  0.0664, -1.0017,  0.8060],\n",
              "         [ 0.2243,  2.6048,  0.1997,  ...,  0.2918, -1.4316,  0.7423],\n",
              "         [ 0.4421,  2.0636,  0.2225,  ...,  0.0946, -1.1827,  0.8961]]],\n",
              "       device='cuda:0'), tensor([[[ 0.4681,  0.4073, -1.1833,  ...,  0.1483, -1.2916,  0.1125],\n",
              "         [ 0.5553,  0.2405, -0.7813,  ...,  0.2080, -0.9960,  0.4734],\n",
              "         [ 0.2416, -0.5287,  0.4421,  ...,  1.1104, -1.8776,  0.9060],\n",
              "         ...,\n",
              "         [ 0.7276, -0.5096, -1.4302,  ..., -0.0321, -0.7381,  0.2926],\n",
              "         [ 0.1964,  0.1762, -0.6652,  ..., -0.2184, -0.9388,  0.7895],\n",
              "         [ 0.0891,  0.3030,  0.3121,  ...,  0.2796,  0.1785, -0.4367]],\n",
              "\n",
              "        [[ 0.5941,  1.1174, -2.3748,  ...,  0.5763, -1.5114, -0.2029],\n",
              "         [ 0.9563,  0.6887, -1.9686,  ...,  0.2112, -1.0958, -0.2034],\n",
              "         [-1.1472, -0.3296,  0.0498,  ...,  1.2919, -1.2646,  0.3535],\n",
              "         ...,\n",
              "         [ 1.2316,  1.6758, -2.0960,  ...,  0.8643, -1.2097, -0.0847],\n",
              "         [ 0.3469,  0.5130, -0.9742,  ...,  0.1126, -1.1938,  0.2887],\n",
              "         [ 1.0229,  1.8996, -0.3197,  ...,  1.6077, -1.8017, -0.5603]],\n",
              "\n",
              "        [[ 0.0622,  0.1033, -1.5223,  ...,  1.6055, -1.0636,  0.1823],\n",
              "         [ 0.0086, -0.1373,  0.2743,  ...,  1.0208, -0.5707,  0.4843],\n",
              "         [-0.9987,  0.7767, -0.7442,  ...,  2.4981, -1.4650, -0.0543],\n",
              "         ...,\n",
              "         [ 1.1013,  1.8426, -0.5998,  ...,  1.3065, -0.4413, -0.8036],\n",
              "         [-0.1493,  0.3636,  0.6361,  ...,  0.9428, -1.4290,  1.0025],\n",
              "         [ 1.7295,  1.9514,  0.9523,  ...,  1.7360, -0.7383, -0.6391]],\n",
              "\n",
              "        ...,\n",
              "\n",
              "        [[ 0.8315,  3.1805,  0.5274,  ...,  1.4546, -0.4104,  0.3538],\n",
              "         [ 0.2057,  2.9546,  0.3091,  ...,  1.6648, -1.2407,  0.3966],\n",
              "         [ 0.3672,  3.3622,  0.5221,  ...,  1.2437, -0.4088,  0.4883],\n",
              "         ...,\n",
              "         [-0.1495,  2.7627,  0.7635,  ...,  1.1970, -0.9065,  0.7687],\n",
              "         [ 0.3049,  2.7495,  0.8635,  ...,  1.4065, -1.4710,  0.8165],\n",
              "         [ 0.3718,  2.7791,  0.1165,  ...,  0.6424, -1.2650,  0.5633]],\n",
              "\n",
              "        [[ 0.8435,  3.1248,  0.5211,  ...,  1.3676, -0.4666,  0.2956],\n",
              "         [ 0.2770,  3.0702,  0.3918,  ...,  1.6646, -1.3001,  0.4259],\n",
              "         [ 0.4269,  3.3695,  0.5066,  ...,  1.2959, -0.4837,  0.3890],\n",
              "         ...,\n",
              "         [-0.1414,  2.9235,  0.5627,  ...,  1.0912, -1.0190,  0.5911],\n",
              "         [ 0.3854,  2.6661,  1.0517,  ...,  1.4041, -1.4974,  0.9114],\n",
              "         [ 0.2387,  2.6975,  0.0479,  ...,  0.6828, -1.3176,  0.5809]],\n",
              "\n",
              "        [[ 0.8963,  3.0514,  0.5585,  ...,  1.2836, -0.5679,  0.2922],\n",
              "         [ 0.3373,  3.1862,  0.4390,  ...,  1.6587, -1.3227,  0.3739],\n",
              "         [ 0.5116,  3.3800,  0.4423,  ...,  1.3461, -0.5189,  0.3712],\n",
              "         ...,\n",
              "         [-0.1885,  2.9077,  0.3209,  ...,  1.0002, -1.0139,  0.4653],\n",
              "         [ 0.4335,  2.7310,  1.1415,  ...,  1.3420, -1.4984,  0.8662],\n",
              "         [ 0.1151,  2.6414,  0.0465,  ...,  0.9023, -1.3251,  0.6408]]],\n",
              "       device='cuda:0'), tensor([[[ 6.8200e-01,  6.1159e-01, -8.3492e-01,  ...,  3.2615e-01,\n",
              "          -7.5411e-01,  6.8561e-01],\n",
              "         [ 8.9177e-01,  5.6631e-01, -1.0865e+00,  ...,  1.9381e-01,\n",
              "          -8.2793e-01,  8.5807e-01],\n",
              "         [-1.6718e-01, -4.0373e-01,  4.1187e-01,  ...,  1.0071e+00,\n",
              "          -1.5084e+00,  7.2449e-01],\n",
              "         ...,\n",
              "         [-4.9269e-02, -5.2257e-01, -1.1024e+00,  ...,  3.8597e-01,\n",
              "          -6.2627e-01,  3.7239e-01],\n",
              "         [ 8.2950e-02,  5.2700e-01, -5.9203e-01,  ..., -7.7911e-01,\n",
              "          -1.9444e-01,  5.5937e-01],\n",
              "         [-6.5178e-03,  6.9100e-01,  3.2504e-01,  ..., -2.3235e-01,\n",
              "           9.7478e-01, -2.4555e-01]],\n",
              "\n",
              "        [[ 3.4423e-01,  1.6858e+00, -1.5531e+00,  ...,  3.3353e-01,\n",
              "          -7.2546e-01,  3.9756e-01],\n",
              "         [ 9.7659e-01,  9.5929e-01, -1.2695e+00,  ..., -2.1535e-01,\n",
              "          -1.9307e-01,  6.1596e-02],\n",
              "         [-9.8424e-01, -7.3451e-01,  4.5175e-01,  ...,  3.8970e-01,\n",
              "          -8.9018e-01, -1.1466e-01],\n",
              "         ...,\n",
              "         [ 3.6603e-01,  1.8989e+00, -1.6754e+00,  ...,  7.9676e-01,\n",
              "          -5.4119e-01,  2.4938e-01],\n",
              "         [-5.5721e-02,  7.6112e-01, -2.1036e-01,  ..., -7.8354e-01,\n",
              "           2.4139e-01,  3.9836e-01],\n",
              "         [ 5.3260e-01,  2.1614e+00, -4.2063e-01,  ...,  1.0765e+00,\n",
              "          -7.5360e-01, -2.0930e-01]],\n",
              "\n",
              "        [[-2.6120e-01,  3.5552e-01, -6.9844e-01,  ...,  1.2491e+00,\n",
              "           7.1234e-02,  4.2049e-01],\n",
              "         [-5.5287e-01, -6.6420e-02,  1.4177e-01,  ...,  1.2860e+00,\n",
              "           4.4026e-02,  5.5043e-01],\n",
              "         [-8.7069e-01,  2.9357e-01, -4.2093e-01,  ...,  9.4886e-01,\n",
              "          -1.1351e+00,  8.2519e-02],\n",
              "         ...,\n",
              "         [-5.5454e-02,  2.2021e+00, -2.0265e-01,  ...,  1.0348e+00,\n",
              "           5.5155e-01, -2.3605e-01],\n",
              "         [-7.7498e-01,  3.4000e-01,  3.1938e-01,  ...,  2.6452e-01,\n",
              "          -1.9285e-01,  6.7059e-01],\n",
              "         [ 9.4880e-01,  2.2326e+00,  8.2580e-01,  ...,  8.9708e-01,\n",
              "           4.1444e-01, -7.2740e-01]],\n",
              "\n",
              "        ...,\n",
              "\n",
              "        [[ 4.0180e-01,  3.2199e+00,  5.6202e-01,  ...,  1.0937e+00,\n",
              "           8.4602e-01, -3.1558e-01],\n",
              "         [-1.4747e-03,  2.6755e+00,  2.2974e-01,  ...,  1.0839e+00,\n",
              "          -2.3444e-01, -5.9835e-02],\n",
              "         [-1.5076e-02,  2.9826e+00,  5.7610e-01,  ...,  7.8700e-01,\n",
              "           2.3313e-01,  1.7979e-01],\n",
              "         ...,\n",
              "         [-7.7382e-01,  2.6491e+00,  7.8874e-01,  ...,  2.8191e-01,\n",
              "          -1.1378e-01,  4.1507e-01],\n",
              "         [-2.2566e-01,  2.5951e+00,  7.8050e-01,  ...,  4.5165e-01,\n",
              "          -3.6067e-01,  5.3962e-01],\n",
              "         [-1.5480e-01,  2.2177e+00,  5.1525e-01,  ...,  9.1836e-02,\n",
              "          -5.4019e-01,  3.7189e-01]],\n",
              "\n",
              "        [[ 3.9879e-01,  3.1286e+00,  6.2498e-01,  ...,  9.6352e-01,\n",
              "           8.4211e-01, -3.4270e-01],\n",
              "         [ 3.6934e-02,  2.8025e+00,  2.9891e-01,  ...,  1.1220e+00,\n",
              "          -3.0216e-01, -2.3934e-03],\n",
              "         [-6.1767e-03,  3.0091e+00,  6.4183e-01,  ...,  7.6437e-01,\n",
              "           2.4155e-01,  6.4380e-02],\n",
              "         ...,\n",
              "         [-7.3247e-01,  2.7780e+00,  6.4236e-01,  ...,  3.5277e-01,\n",
              "          -1.8983e-01,  3.2219e-01],\n",
              "         [-1.7968e-01,  2.5090e+00,  9.9405e-01,  ...,  4.8040e-01,\n",
              "          -3.6947e-01,  6.3930e-01],\n",
              "         [-2.6640e-01,  2.1184e+00,  4.1905e-01,  ...,  1.2504e-01,\n",
              "          -6.1663e-01,  3.8436e-01]],\n",
              "\n",
              "        [[ 4.1080e-01,  3.0615e+00,  6.7715e-01,  ...,  8.3979e-01,\n",
              "           7.6705e-01, -2.9573e-01],\n",
              "         [ 7.5680e-02,  2.9079e+00,  3.9545e-01,  ...,  1.1271e+00,\n",
              "          -3.1819e-01, -2.2926e-02],\n",
              "         [ 4.8965e-02,  3.0286e+00,  6.5252e-01,  ...,  7.6458e-01,\n",
              "           2.5684e-01,  5.1128e-02],\n",
              "         ...,\n",
              "         [-6.9008e-01,  2.7533e+00,  4.7060e-01,  ...,  4.2409e-01,\n",
              "          -1.9625e-01,  2.6290e-01],\n",
              "         [-1.4377e-01,  2.5482e+00,  1.1663e+00,  ...,  4.3910e-01,\n",
              "          -3.4761e-01,  6.5495e-01],\n",
              "         [-3.4003e-01,  2.0705e+00,  3.4162e-01,  ...,  3.3400e-01,\n",
              "          -6.1636e-01,  4.0206e-01]]], device='cuda:0'), tensor([[[ 1.3965e+00,  7.1164e-01, -1.0645e+00,  ...,  4.6600e-01,\n",
              "          -6.6843e-01,  1.2879e+00],\n",
              "         [ 1.5479e+00,  8.8789e-01, -9.4266e-01,  ...,  1.4847e-01,\n",
              "          -1.2440e+00,  1.2618e+00],\n",
              "         [-1.4785e-01, -6.7308e-02,  1.6963e-02,  ...,  6.0018e-01,\n",
              "          -1.4118e+00,  2.7377e-01],\n",
              "         ...,\n",
              "         [ 4.7251e-01,  3.4483e-02, -1.4976e+00,  ...,  1.0392e+00,\n",
              "          -3.7463e-01,  1.2246e+00],\n",
              "         [ 8.7367e-01,  1.0780e+00, -2.8554e-01,  ..., -6.2999e-01,\n",
              "          -4.7644e-01,  6.8388e-01],\n",
              "         [ 4.2570e-01,  1.0878e+00,  1.1485e-01,  ...,  2.5850e-01,\n",
              "           8.4206e-01,  5.2494e-01]],\n",
              "\n",
              "        [[ 1.4134e+00,  1.8881e+00, -1.4955e+00,  ..., -1.1398e-01,\n",
              "          -1.2977e+00,  4.7805e-01],\n",
              "         [ 2.0095e+00,  1.3998e+00, -1.4024e+00,  ..., -2.1655e-01,\n",
              "          -7.3827e-01,  7.6644e-02],\n",
              "         [-6.4263e-01, -7.8602e-02,  1.8505e-01,  ..., -5.6553e-02,\n",
              "          -9.2930e-01, -5.8027e-01],\n",
              "         ...,\n",
              "         [ 9.0985e-01,  2.1559e+00, -2.0942e+00,  ...,  9.6770e-01,\n",
              "          -6.7387e-01,  1.0266e+00],\n",
              "         [ 3.9398e-01,  1.5354e+00,  5.8544e-02,  ..., -4.4900e-01,\n",
              "           2.9290e-02,  3.0534e-01],\n",
              "         [ 1.2314e+00,  2.6150e+00, -9.1630e-01,  ...,  7.0602e-01,\n",
              "          -7.9041e-01,  8.0639e-01]],\n",
              "\n",
              "        [[ 3.8051e-01,  4.2705e-01, -2.2057e-01,  ...,  7.9230e-01,\n",
              "          -1.7799e-01,  5.4436e-01],\n",
              "         [ 3.5395e-01,  2.1004e-01, -2.6045e-02,  ...,  2.6187e-01,\n",
              "          -2.0254e-01,  7.9140e-01],\n",
              "         [-1.9466e-01,  7.9679e-01, -8.5904e-02,  ...,  1.2917e+00,\n",
              "          -1.1659e+00,  9.5223e-02],\n",
              "         ...,\n",
              "         [ 4.5395e-01,  2.6259e+00, -3.2530e-01,  ...,  1.3611e+00,\n",
              "           5.5378e-01,  1.2012e-01],\n",
              "         [-3.9869e-02,  8.2957e-01,  4.7121e-02,  ...,  2.3268e-01,\n",
              "          -1.3041e-01,  5.5378e-01],\n",
              "         [ 2.0719e+00,  2.6844e+00,  6.4943e-01,  ...,  6.3499e-01,\n",
              "           8.6395e-02,  3.4443e-02]],\n",
              "\n",
              "        ...,\n",
              "\n",
              "        [[ 1.1850e-01,  2.3938e+00,  7.4413e-01,  ...,  6.7873e-01,\n",
              "           9.9651e-01, -2.7778e-02],\n",
              "         [ 1.1021e-01,  1.7240e+00,  5.0194e-01,  ...,  5.4409e-01,\n",
              "          -9.2621e-02, -2.6566e-01],\n",
              "         [-1.5404e-01,  2.0162e+00,  9.0810e-01,  ..., -1.9135e-01,\n",
              "           4.1019e-01,  1.7363e-01],\n",
              "         ...,\n",
              "         [-8.9609e-01,  1.5744e+00,  8.6593e-01,  ..., -1.3114e-03,\n",
              "           1.2608e-01, -2.3228e-01],\n",
              "         [ 2.5006e-01,  2.5712e+00,  6.5790e-01,  ...,  6.9023e-01,\n",
              "          -1.6037e-01,  5.2573e-01],\n",
              "         [-3.2027e-01,  1.4074e+00,  4.5696e-01,  ..., -9.8356e-02,\n",
              "          -1.8521e-01, -4.7966e-03]],\n",
              "\n",
              "        [[ 1.2571e-01,  2.4026e+00,  7.4160e-01,  ...,  5.9066e-01,\n",
              "           9.8423e-01,  3.2526e-02],\n",
              "         [ 2.1412e-01,  1.8789e+00,  5.7577e-01,  ...,  6.2836e-01,\n",
              "          -1.6748e-01, -1.4418e-01],\n",
              "         [-7.8768e-02,  2.0737e+00,  9.6583e-01,  ..., -1.3578e-01,\n",
              "           5.0364e-01,  1.5908e-01],\n",
              "         ...,\n",
              "         [-8.1234e-01,  1.8253e+00,  6.8129e-01,  ...,  4.1668e-02,\n",
              "           3.2551e-02, -2.6785e-01],\n",
              "         [ 3.1706e-01,  2.5223e+00,  7.8516e-01,  ...,  6.9610e-01,\n",
              "          -2.5570e-01,  6.4404e-01],\n",
              "         [-5.7407e-01,  1.3085e+00,  3.7117e-01,  ...,  4.2273e-02,\n",
              "          -2.7646e-01,  5.7383e-02]],\n",
              "\n",
              "        [[ 1.6796e-01,  2.4183e+00,  7.5209e-01,  ...,  5.9525e-01,\n",
              "           8.7124e-01,  1.7778e-01],\n",
              "         [ 2.9636e-01,  2.0167e+00,  6.0854e-01,  ...,  6.5721e-01,\n",
              "          -1.7608e-01, -1.3761e-01],\n",
              "         [ 2.0713e-02,  2.1415e+00,  9.7995e-01,  ..., -3.7141e-02,\n",
              "           5.1269e-01,  1.6548e-01],\n",
              "         ...,\n",
              "         [-7.8497e-01,  1.9659e+00,  4.4544e-01,  ...,  1.1917e-01,\n",
              "           3.4854e-02, -2.5570e-01],\n",
              "         [ 4.0034e-01,  2.5499e+00,  8.6253e-01,  ...,  5.8499e-01,\n",
              "          -2.4372e-01,  6.5560e-01],\n",
              "         [-7.0543e-01,  1.2583e+00,  3.2562e-01,  ...,  2.7016e-01,\n",
              "          -3.3197e-01,  1.0885e-01]]], device='cuda:0'), tensor([[[ 9.4793e-01,  1.8219e-01, -1.2552e+00,  ...,  8.6106e-02,\n",
              "          -8.3857e-01,  1.2368e+00],\n",
              "         [ 7.6659e-01,  2.6281e-01, -4.8133e-01,  ..., -5.6118e-01,\n",
              "          -1.0700e+00,  1.6150e+00],\n",
              "         [ 2.5205e-01, -7.5862e-01, -1.1617e-01,  ..., -1.8363e-01,\n",
              "          -1.2068e+00,  3.3766e-01],\n",
              "         ...,\n",
              "         [ 3.8600e-01, -6.1694e-02, -1.7220e+00,  ...,  4.1393e-01,\n",
              "           1.8728e-01,  1.5489e+00],\n",
              "         [ 9.0016e-01,  7.0128e-01, -5.3537e-01,  ..., -1.4264e+00,\n",
              "           4.3179e-01,  5.6912e-01],\n",
              "         [ 4.8497e-01,  6.2109e-01, -2.5502e-01,  ..., -3.5771e-01,\n",
              "           5.6633e-01,  4.1371e-01]],\n",
              "\n",
              "        [[ 1.1703e+00,  1.5062e+00, -1.5794e+00,  ..., -1.1123e-01,\n",
              "          -1.3221e+00,  7.9258e-01],\n",
              "         [ 1.4504e+00,  1.1751e+00, -1.6782e+00,  ..., -6.5361e-01,\n",
              "          -3.5941e-01,  7.7353e-01],\n",
              "         [-1.7985e-01, -7.7129e-01, -2.3933e-01,  ..., -1.0102e+00,\n",
              "          -7.7482e-01, -5.3547e-01],\n",
              "         ...,\n",
              "         [ 9.5963e-01,  1.7488e+00, -1.9362e+00,  ...,  1.1729e+00,\n",
              "          -4.1388e-02,  1.1161e+00],\n",
              "         [ 2.1922e-01,  1.0302e+00, -3.9464e-01,  ..., -1.5120e+00,\n",
              "           3.7120e-01,  1.0428e-01],\n",
              "         [ 1.4596e+00,  2.2307e+00, -9.7401e-01,  ...,  5.0519e-01,\n",
              "          -5.2554e-01,  1.0356e+00]],\n",
              "\n",
              "        [[-3.8998e-02,  3.6744e-01, -3.7837e-01,  ...,  5.4463e-01,\n",
              "          -3.1926e-01,  4.8434e-01],\n",
              "         [ 1.3449e-01, -2.5340e-01, -2.6584e-01,  ...,  2.7254e-01,\n",
              "           6.2470e-04,  4.9354e-01],\n",
              "         [ 1.3621e-01,  3.7018e-01, -3.5836e-01,  ...,  8.1215e-01,\n",
              "          -1.3439e+00,  1.2285e-01],\n",
              "         ...,\n",
              "         [ 3.4915e-01,  2.0547e+00, -4.1561e-01,  ...,  1.0644e+00,\n",
              "           2.4052e-01,  9.2813e-02],\n",
              "         [-9.2670e-02,  4.7896e-01,  1.2110e-01,  ..., -4.3817e-01,\n",
              "           5.0176e-02, -1.4459e-01],\n",
              "         [ 1.5822e+00,  2.1988e+00,  4.9454e-01,  ..., -6.2026e-02,\n",
              "          -6.3462e-02,  1.7674e-01]],\n",
              "\n",
              "        ...,\n",
              "\n",
              "        [[ 6.1178e-01,  1.5966e+00,  1.7580e-01,  ...,  2.9259e-01,\n",
              "           3.9716e-01, -7.0274e-02],\n",
              "         [ 1.0194e+00,  9.4669e-01,  2.6624e-01,  ..., -3.6527e-01,\n",
              "           5.9576e-02, -1.7039e-01],\n",
              "         [ 5.6044e-01,  1.0625e+00,  5.1377e-01,  ..., -6.8071e-01,\n",
              "          -3.5582e-01,  2.3927e-01],\n",
              "         ...,\n",
              "         [ 2.6989e-01,  6.9150e-01,  4.6045e-01,  ..., -4.0713e-01,\n",
              "           1.8336e-01, -8.2285e-01],\n",
              "         [ 1.3584e+00,  1.3636e+00,  7.7497e-01,  ..., -6.7579e-02,\n",
              "           2.9822e-01,  3.3542e-02],\n",
              "         [ 4.3474e-01,  8.8223e-01,  5.3640e-01,  ..., -4.7939e-01,\n",
              "          -8.4437e-02,  4.5837e-02]],\n",
              "\n",
              "        [[ 5.7472e-01,  1.6454e+00,  1.6184e-01,  ...,  2.5483e-01,\n",
              "           3.2071e-01, -1.0568e-01],\n",
              "         [ 1.0909e+00,  1.0411e+00,  3.5638e-01,  ..., -2.7376e-01,\n",
              "          -3.4827e-03, -1.0282e-01],\n",
              "         [ 6.0959e-01,  1.1153e+00,  5.6335e-01,  ..., -7.0150e-01,\n",
              "          -2.8313e-01,  2.4878e-01],\n",
              "         ...,\n",
              "         [ 3.0815e-01,  9.3102e-01,  3.3427e-01,  ..., -2.9764e-01,\n",
              "           1.0090e-01, -7.8697e-01],\n",
              "         [ 1.3258e+00,  1.3060e+00,  8.7130e-01,  ..., -1.0821e-01,\n",
              "           2.1501e-01,  2.2633e-01],\n",
              "         [ 2.5464e-01,  8.1592e-01,  4.5984e-01,  ..., -3.5988e-01,\n",
              "          -1.5480e-01,  8.9043e-02]],\n",
              "\n",
              "        [[ 6.3759e-01,  1.6620e+00,  2.0558e-01,  ...,  2.4218e-01,\n",
              "           1.8606e-01, -1.8232e-02],\n",
              "         [ 1.1256e+00,  1.1409e+00,  4.0077e-01,  ..., -2.4829e-01,\n",
              "          -2.9314e-02, -1.2727e-01],\n",
              "         [ 6.8260e-01,  1.1342e+00,  6.2738e-01,  ..., -6.4887e-01,\n",
              "          -2.8567e-01,  2.2377e-01],\n",
              "         ...,\n",
              "         [ 2.8412e-01,  1.0319e+00,  1.6195e-01,  ..., -2.2543e-01,\n",
              "           1.3500e-02, -7.5142e-01],\n",
              "         [ 1.3817e+00,  1.3336e+00,  9.5894e-01,  ..., -2.5962e-01,\n",
              "           2.0865e-01,  2.6847e-01],\n",
              "         [ 2.0399e-01,  7.6312e-01,  4.1607e-01,  ..., -1.7293e-01,\n",
              "          -1.9202e-01,  9.2894e-02]]], device='cuda:0'), tensor([[[ 1.0913,  0.2927, -1.8101,  ...,  0.2534, -0.9353,  1.9494],\n",
              "         [ 0.7225,  1.1982, -1.2688,  ..., -0.5590, -1.5476,  1.6844],\n",
              "         [ 0.3599, -0.7577, -0.6338,  ..., -0.2003, -1.4779,  0.5339],\n",
              "         ...,\n",
              "         [ 1.0195, -0.5887, -1.8986,  ...,  1.1965,  0.0202,  1.6696],\n",
              "         [ 2.1957,  0.9192, -0.6676,  ..., -0.8403,  0.2697,  1.2487],\n",
              "         [ 0.4008,  0.9474, -0.2619,  ..., -0.1911,  0.5685, -0.4672]],\n",
              "\n",
              "        [[ 0.8330,  1.7421, -2.2625,  ...,  0.3816, -1.3261,  1.0703],\n",
              "         [ 1.2387,  1.7832, -2.4295,  ..., -0.7967, -0.7946,  1.2076],\n",
              "         [ 0.5846, -1.0105,  0.1347,  ..., -0.5141, -1.0307,  0.0459],\n",
              "         ...,\n",
              "         [ 0.7456,  1.4785, -1.7167,  ...,  1.8996,  0.1158,  0.9910],\n",
              "         [ 1.3549,  1.0905, -0.4817,  ..., -1.2615,  0.5696,  1.3137],\n",
              "         [ 1.1185,  2.3810, -1.4116,  ...,  0.4954, -0.5057,  0.3675]],\n",
              "\n",
              "        [[-0.2980,  0.7279, -0.8355,  ...,  1.0085, -0.4554,  0.9990],\n",
              "         [ 0.3540, -0.4043, -0.6610,  ...,  0.7038,  0.3357,  0.5457],\n",
              "         [ 0.1797, -0.2413, -0.3230,  ...,  1.2057, -1.6022,  0.3993],\n",
              "         ...,\n",
              "         [ 0.5340,  2.0964, -0.1443,  ...,  2.1567, -0.0371,  0.3730],\n",
              "         [ 1.0880,  0.6443,  0.5306,  ..., -0.5398,  0.0509,  0.5274],\n",
              "         [ 1.2989,  2.4970,  0.3095,  ...,  0.2810, -0.2983, -0.0757]],\n",
              "\n",
              "        ...,\n",
              "\n",
              "        [[ 0.5483,  1.9683, -0.0499,  ..., -0.6484,  0.2478,  1.0257],\n",
              "         [ 1.1789,  1.3962, -0.0990,  ..., -1.0640,  0.1897,  0.6121],\n",
              "         [ 1.0198,  1.5748, -0.2112,  ..., -0.9635, -0.7140,  1.2345],\n",
              "         ...,\n",
              "         [ 0.4035,  0.9144,  0.0520,  ..., -0.6122,  0.3656,  0.2158],\n",
              "         [ 1.9588,  1.7458,  0.3001,  ...,  0.7612,  0.7210,  1.1201],\n",
              "         [ 0.8777,  0.9018,  0.5334,  ..., -1.4293, -0.4686,  0.8536]],\n",
              "\n",
              "        [[ 0.6596,  2.0136, -0.0217,  ..., -0.7381,  0.0549,  0.9598],\n",
              "         [ 1.2745,  1.4844, -0.0353,  ..., -0.8662,  0.1472,  0.7071],\n",
              "         [ 1.0892,  1.5790, -0.0885,  ..., -0.8994, -0.7091,  1.2714],\n",
              "         ...,\n",
              "         [ 0.5224,  1.1014, -0.0062,  ..., -0.3711,  0.2684,  0.2804],\n",
              "         [ 1.8113,  1.7043,  0.3835,  ...,  0.7194,  0.6916,  1.4616],\n",
              "         [ 0.6908,  0.8341,  0.4070,  ..., -1.2672, -0.5347,  0.9474]],\n",
              "\n",
              "        [[ 0.8463,  1.9977, -0.0094,  ..., -0.7005, -0.1263,  1.0511],\n",
              "         [ 1.3157,  1.5857, -0.0186,  ..., -0.8368,  0.1400,  0.6611],\n",
              "         [ 1.1813,  1.5554,  0.0115,  ..., -0.7899, -0.7305,  1.2671],\n",
              "         ...,\n",
              "         [ 0.5416,  1.1849, -0.1428,  ..., -0.2978,  0.2161,  0.3336],\n",
              "         [ 1.8219,  1.6925,  0.5135,  ...,  0.5597,  0.7307,  1.5080],\n",
              "         [ 0.6323,  0.8011,  0.2965,  ..., -0.9930, -0.5186,  1.0231]]],\n",
              "       device='cuda:0'), tensor([[[ 1.0120,  0.5805, -0.7176,  ...,  0.2113, -0.1958,  1.9825],\n",
              "         [ 0.9015,  1.2796, -0.7965,  ...,  0.1777, -0.5374,  1.6170],\n",
              "         [ 0.5961, -0.0945, -0.1333,  ...,  0.3149, -1.1100,  1.0036],\n",
              "         ...,\n",
              "         [ 0.8868, -0.3397, -0.8555,  ...,  1.3994,  0.8722,  1.7826],\n",
              "         [ 1.9723, -0.2003, -0.2378,  ..., -0.0100,  0.3400,  2.2686],\n",
              "         [ 0.5497,  0.8553,  0.2756,  ...,  0.2574,  1.2579, -0.0208]],\n",
              "\n",
              "        [[ 1.0132,  1.1344, -0.7928,  ...,  0.5113, -0.6717,  1.4414],\n",
              "         [ 1.5822,  1.5792, -0.9293,  ..., -0.2077, -0.1243,  1.8511],\n",
              "         [ 0.6748, -0.2385, -0.1250,  ...,  0.2910, -0.9209,  0.7642],\n",
              "         ...,\n",
              "         [ 0.9484,  0.7388, -0.6638,  ...,  1.6235,  0.5869,  0.9409],\n",
              "         [ 1.3523, -0.4114, -0.0240,  ..., -0.0984,  0.5880,  2.3687],\n",
              "         [ 0.9786,  1.0974, -0.3444,  ...,  0.7306,  0.5228,  0.8186]],\n",
              "\n",
              "        [[ 0.2654,  0.7744, -0.5960,  ...,  1.0386, -0.3588,  1.7668],\n",
              "         [ 0.4108,  0.5883, -0.7376,  ...,  0.7029,  0.0319,  1.2670],\n",
              "         [ 0.6134,  0.2711, -0.4871,  ...,  1.1279, -0.9003,  0.8716],\n",
              "         ...,\n",
              "         [ 0.8862,  1.4574,  0.3162,  ...,  1.7397,  0.8546,  0.7737],\n",
              "         [ 0.5202, -0.3453,  0.1566,  ...,  0.2731, -0.2573,  1.8786],\n",
              "         [ 1.2795,  1.6358,  0.4525,  ...,  0.8255,  0.6140,  0.3012]],\n",
              "\n",
              "        ...,\n",
              "\n",
              "        [[ 0.7697,  1.7408, -0.1101,  ..., -0.5498,  0.2586,  1.4919],\n",
              "         [ 1.1643,  1.2811, -0.4391,  ..., -0.2322,  0.4614,  1.2312],\n",
              "         [ 0.8842,  1.2735, -0.1613,  ...,  0.0103, -0.3764,  1.7551],\n",
              "         ...,\n",
              "         [ 0.7711,  0.9415,  0.1269,  ..., -0.1838,  0.7858,  0.6759],\n",
              "         [ 0.9664,  0.1945,  0.0077,  ...,  0.8491,  0.6709,  1.9467],\n",
              "         [ 0.4251,  0.4848,  0.4280,  ..., -0.4053, -0.0701,  0.4158]],\n",
              "\n",
              "        [[ 0.6792,  1.7435, -0.1235,  ..., -0.5569,  0.1514,  1.4410],\n",
              "         [ 1.1461,  1.3168, -0.4261,  ..., -0.0915,  0.5039,  1.3270],\n",
              "         [ 0.8526,  1.2293, -0.0808,  ...,  0.1076, -0.3174,  1.7807],\n",
              "         ...,\n",
              "         [ 0.6741,  1.0098,  0.0166,  ..., -0.0719,  0.7600,  0.7638],\n",
              "         [ 0.9148,  0.1587,  0.0589,  ...,  0.7307,  0.6844,  2.1699],\n",
              "         [ 0.3077,  0.4486,  0.3177,  ..., -0.2579, -0.1557,  0.4664]],\n",
              "\n",
              "        [[ 0.6506,  1.6920, -0.1484,  ..., -0.4620,  0.0822,  1.5060],\n",
              "         [ 1.1234,  1.3872, -0.4560,  ..., -0.0952,  0.5130,  1.2765],\n",
              "         [ 0.8701,  1.1784, -0.0418,  ...,  0.2062, -0.2419,  1.7681],\n",
              "         ...,\n",
              "         [ 0.5604,  0.9848, -0.0934,  ..., -0.0235,  0.7399,  0.7901],\n",
              "         [ 0.9915,  0.1270,  0.0843,  ...,  0.5741,  0.7416,  2.1280],\n",
              "         [ 0.2840,  0.4609,  0.2136,  ..., -0.0051, -0.1766,  0.5298]]],\n",
              "       device='cuda:0')), hidden_states=None, attentions=None)"
            ]
          },
          "metadata": {},
          "execution_count": 41
        }
      ]
    },
    {
      "cell_type": "code",
      "metadata": {
        "id": "zbyJNtqVkg4Y",
        "outputId": "0c0c5cae-e954-4ac2-c4a4-63a50aa0fc8f",
        "colab": {
          "base_uri": "https://localhost:8080/"
        }
      },
      "source": [
        "type(outputs[0])"
      ],
      "execution_count": null,
      "outputs": [
        {
          "output_type": "execute_result",
          "data": {
            "text/plain": [
              "torch.Tensor"
            ]
          },
          "metadata": {},
          "execution_count": 42
        }
      ]
    },
    {
      "cell_type": "markdown",
      "metadata": {
        "id": "eg44cHnNLd3J"
      },
      "source": [
        "### Defining the training step function"
      ]
    },
    {
      "cell_type": "code",
      "metadata": {
        "id": "tPnWttRNMArt"
      },
      "source": [
        "from sklearn import metrics\n",
        "def train_epoch(model, data_loader, optimizer, device, scheduler, n_examples):\n",
        "    model = model.train()\n",
        "    losses = []\n",
        "    acc = 0\n",
        "    counter = 0\n",
        "\n",
        "    for d in data_loader:\n",
        "        input_ids = d[\"input_ids\"].reshape(-1, 512).to(device)\n",
        "        attention_mask = d[\"attention_mask\"].to(device)\n",
        "        targets = d[\"targets\"].to(device)\n",
        "\n",
        "        outputs = model(input_ids=input_ids, token_type_ids=None, attention_mask=attention_mask, labels = targets)\n",
        "        loss = outputs[0]\n",
        "        logits = outputs[1]\n",
        "\n",
        "        # preds = preds.cpu().detach().numpy()\n",
        "        _, prediction = torch.max(outputs[1], dim=1)\n",
        "        targets = targets.cpu().detach().numpy()\n",
        "        prediction = prediction.cpu().detach().numpy()\n",
        "        accuracy = metrics.accuracy_score(targets, prediction)\n",
        "\n",
        "        acc += accuracy\n",
        "        losses.append(loss.item())\n",
        "\n",
        "        loss.backward()\n",
        "\n",
        "        nn.utils.clip_grad_norm_(model.parameters(), max_norm=1.0)\n",
        "        optimizer.step()\n",
        "        scheduler.step()\n",
        "        optimizer.zero_grad()\n",
        "        counter = counter + 1\n",
        "\n",
        "    return acc / counter, np.mean(losses)"
      ],
      "execution_count": null,
      "outputs": []
    },
    {
      "cell_type": "markdown",
      "metadata": {
        "id": "4N2ktqT8LoDS"
      },
      "source": [
        "### Defining the evaluation function"
      ]
    },
    {
      "cell_type": "code",
      "metadata": {
        "id": "V_ZyoJ4qb-CB"
      },
      "source": [
        "def eval_model(model, data_loader, device, n_examples):\n",
        "    model = model.eval()\n",
        "    losses = []\n",
        "    acc = 0\n",
        "    counter = 0\n",
        "\n",
        "    with torch.no_grad():\n",
        "        for d in data_loader:\n",
        "            input_ids = d[\"input_ids\"].reshape(-1, 512).to(device)\n",
        "            attention_mask = d[\"attention_mask\"].to(device)\n",
        "            targets = d[\"targets\"].to(device)\n",
        "\n",
        "            outputs = model(input_ids=input_ids, token_type_ids=None, attention_mask=attention_mask, labels = targets)\n",
        "            loss = outputs[0]\n",
        "            logits = outputs[1]\n",
        "\n",
        "            _, prediction = torch.max(outputs[1], dim=1)\n",
        "            targets = targets.cpu().detach().numpy()\n",
        "            prediction = prediction.cpu().detach().numpy()\n",
        "            accuracy = metrics.accuracy_score(targets, prediction)\n",
        "\n",
        "            acc += accuracy\n",
        "            losses.append(loss.item())\n",
        "            counter += 1\n",
        "\n",
        "    return acc / counter, np.mean(losses)"
      ],
      "execution_count": null,
      "outputs": []
    },
    {
      "cell_type": "markdown",
      "metadata": {
        "id": "9AG1TE43LvkX"
      },
      "source": [
        "### Fine-tuning the pre-trained model"
      ]
    },
    {
      "cell_type": "code",
      "metadata": {
        "id": "eNSQSFkScp6f",
        "outputId": "1ea3d5d0-23a4-4356-f922-777830dc512a",
        "colab": {
          "base_uri": "https://localhost:8080/"
        }
      },
      "source": [
        "%%time\n",
        "history = defaultdict(list)\n",
        "best_accuracy = 0\n",
        "\n",
        "for epoch in range(EPOCHS):\n",
        "    print(f'Epoch {epoch + 1}/{EPOCHS}')\n",
        "    print('-' * 10)\n",
        "\n",
        "    train_acc, train_loss = train_epoch(\n",
        "        model,\n",
        "        train_data_loader,\n",
        "        optimizer,\n",
        "        device,\n",
        "        scheduler,\n",
        "        len(df_train)\n",
        "    )\n",
        "\n",
        "    print(f'Train loss {train_loss} Train accuracy {train_acc}')\n",
        "\n",
        "    val_acc, val_loss = eval_model(\n",
        "        model,\n",
        "        test_data_loader,\n",
        "        device,\n",
        "        len(df_test)\n",
        "    )\n",
        "\n",
        "    print(f'Val loss {val_loss} Val accuracy {val_acc}')\n",
        "    print()\n",
        "\n",
        "    history['train_acc'].append(train_acc)\n",
        "    history['train_loss'].append(train_loss)\n",
        "    history['val_acc'].append(val_acc)\n",
        "    history['val_loss'].append(val_loss)\n",
        "\n",
        "    if val_acc > best_accuracy:\n",
        "        torch.save(model.state_dict(), '/content/drive/MyDrive/nlp bio informatics/xlnet_model.bin')\n",
        "        best_accuracy = val_acc"
      ],
      "execution_count": null,
      "outputs": [
        {
          "output_type": "stream",
          "name": "stdout",
          "text": [
            "Epoch 1/3\n",
            "----------\n",
            "Train loss 0.324528987380626 Train accuracy 0.8899842271293376\n"
          ]
        },
        {
          "output_type": "stream",
          "name": "stderr",
          "text": [
            "/usr/local/lib/python3.10/dist-packages/torch/utils/data/dataloader.py:558: UserWarning: This DataLoader will create 4 worker processes in total. Our suggested max number of worker in current system is 2, which is smaller than what this DataLoader is going to create. Please be aware that excessive worker creation might get DataLoader running slow or even freeze, lower the worker number to avoid potential slowness/freeze if necessary.\n",
            "  warnings.warn(_create_warning_msg(\n",
            "/usr/lib/python3.10/multiprocessing/popen_fork.py:66: RuntimeWarning: os.fork() was called. os.fork() is incompatible with multithreaded code, and JAX is multithreaded, so this will likely lead to a deadlock.\n",
            "  self.pid = os.fork()\n",
            "/usr/lib/python3.10/multiprocessing/popen_fork.py:66: RuntimeWarning: os.fork() was called. os.fork() is incompatible with multithreaded code, and JAX is multithreaded, so this will likely lead to a deadlock.\n",
            "  self.pid = os.fork()\n"
          ]
        },
        {
          "output_type": "stream",
          "name": "stdout",
          "text": [
            "Val loss 0.19717705820112313 Val accuracy 0.9546875\n",
            "\n",
            "Epoch 2/3\n",
            "----------\n"
          ]
        },
        {
          "output_type": "stream",
          "name": "stderr",
          "text": [
            "/usr/local/lib/python3.10/dist-packages/torch/utils/data/dataloader.py:558: UserWarning: This DataLoader will create 4 worker processes in total. Our suggested max number of worker in current system is 2, which is smaller than what this DataLoader is going to create. Please be aware that excessive worker creation might get DataLoader running slow or even freeze, lower the worker number to avoid potential slowness/freeze if necessary.\n",
            "  warnings.warn(_create_warning_msg(\n",
            "/usr/lib/python3.10/multiprocessing/popen_fork.py:66: RuntimeWarning: os.fork() was called. os.fork() is incompatible with multithreaded code, and JAX is multithreaded, so this will likely lead to a deadlock.\n",
            "  self.pid = os.fork()\n",
            "/usr/lib/python3.10/multiprocessing/popen_fork.py:66: RuntimeWarning: os.fork() was called. os.fork() is incompatible with multithreaded code, and JAX is multithreaded, so this will likely lead to a deadlock.\n",
            "  self.pid = os.fork()\n"
          ]
        },
        {
          "output_type": "stream",
          "name": "stdout",
          "text": [
            "Train loss 0.17876666447021763 Train accuracy 0.955441640378549\n"
          ]
        },
        {
          "output_type": "stream",
          "name": "stderr",
          "text": [
            "/usr/local/lib/python3.10/dist-packages/torch/utils/data/dataloader.py:558: UserWarning: This DataLoader will create 4 worker processes in total. Our suggested max number of worker in current system is 2, which is smaller than what this DataLoader is going to create. Please be aware that excessive worker creation might get DataLoader running slow or even freeze, lower the worker number to avoid potential slowness/freeze if necessary.\n",
            "  warnings.warn(_create_warning_msg(\n",
            "/usr/lib/python3.10/multiprocessing/popen_fork.py:66: RuntimeWarning: os.fork() was called. os.fork() is incompatible with multithreaded code, and JAX is multithreaded, so this will likely lead to a deadlock.\n",
            "  self.pid = os.fork()\n"
          ]
        },
        {
          "output_type": "stream",
          "name": "stdout",
          "text": [
            "Val loss 0.19865160006847873 Val accuracy 0.9578125\n",
            "\n",
            "Epoch 3/3\n",
            "----------\n"
          ]
        },
        {
          "output_type": "stream",
          "name": "stderr",
          "text": [
            "/usr/local/lib/python3.10/dist-packages/torch/utils/data/dataloader.py:558: UserWarning: This DataLoader will create 4 worker processes in total. Our suggested max number of worker in current system is 2, which is smaller than what this DataLoader is going to create. Please be aware that excessive worker creation might get DataLoader running slow or even freeze, lower the worker number to avoid potential slowness/freeze if necessary.\n",
            "  warnings.warn(_create_warning_msg(\n",
            "/usr/lib/python3.10/multiprocessing/popen_fork.py:66: RuntimeWarning: os.fork() was called. os.fork() is incompatible with multithreaded code, and JAX is multithreaded, so this will likely lead to a deadlock.\n",
            "  self.pid = os.fork()\n",
            "/usr/lib/python3.10/multiprocessing/popen_fork.py:66: RuntimeWarning: os.fork() was called. os.fork() is incompatible with multithreaded code, and JAX is multithreaded, so this will likely lead to a deadlock.\n",
            "  self.pid = os.fork()\n"
          ]
        },
        {
          "output_type": "stream",
          "name": "stdout",
          "text": [
            "Train loss 0.11649258428786467 Train accuracy 0.9747634069400631\n"
          ]
        },
        {
          "output_type": "stream",
          "name": "stderr",
          "text": [
            "/usr/local/lib/python3.10/dist-packages/torch/utils/data/dataloader.py:558: UserWarning: This DataLoader will create 4 worker processes in total. Our suggested max number of worker in current system is 2, which is smaller than what this DataLoader is going to create. Please be aware that excessive worker creation might get DataLoader running slow or even freeze, lower the worker number to avoid potential slowness/freeze if necessary.\n",
            "  warnings.warn(_create_warning_msg(\n",
            "/usr/lib/python3.10/multiprocessing/popen_fork.py:66: RuntimeWarning: os.fork() was called. os.fork() is incompatible with multithreaded code, and JAX is multithreaded, so this will likely lead to a deadlock.\n",
            "  self.pid = os.fork()\n"
          ]
        },
        {
          "output_type": "stream",
          "name": "stdout",
          "text": [
            "Val loss 0.18410535651782994 Val accuracy 0.9640625\n",
            "\n",
            "CPU times: user 20min 49s, sys: 5min 21s, total: 26min 11s\n",
            "Wall time: 27min 23s\n"
          ]
        }
      ]
    },
    {
      "cell_type": "markdown",
      "metadata": {
        "id": "qe08GjtNL-Sh"
      },
      "source": [
        "### Evaluation of the fine-tuned model"
      ]
    },
    {
      "cell_type": "code",
      "metadata": {
        "id": "XqtQkz2yrZE3",
        "outputId": "0b75fc9f-0cca-49f6-8f5d-273369daf041",
        "colab": {
          "base_uri": "https://localhost:8080/"
        }
      },
      "source": [
        "model.load_state_dict(torch.load( '/content/drive/MyDrive/nlp bio informatics/xlnet_model.bin'))"
      ],
      "execution_count": null,
      "outputs": [
        {
          "output_type": "execute_result",
          "data": {
            "text/plain": [
              "<All keys matched successfully>"
            ]
          },
          "metadata": {},
          "execution_count": 47
        }
      ]
    },
    {
      "cell_type": "code",
      "metadata": {
        "id": "26k0PMpdy1QT"
      },
      "source": [
        "model = model.to(device)"
      ],
      "execution_count": null,
      "outputs": []
    },
    {
      "cell_type": "code",
      "metadata": {
        "id": "QHINzx6ezSD0",
        "outputId": "e5c649ec-d5c1-4644-e925-b5954e6408f3",
        "colab": {
          "base_uri": "https://localhost:8080/"
        }
      },
      "source": [
        "test_acc, test_loss = eval_model(\n",
        "  model,\n",
        "  test_data_loader,\n",
        "  device,\n",
        "  len(df_test)\n",
        ")\n",
        "\n",
        "print('Test Accuracy :', test_acc)\n",
        "print('Test Loss :', test_loss)"
      ],
      "execution_count": null,
      "outputs": [
        {
          "output_type": "stream",
          "name": "stderr",
          "text": [
            "/usr/local/lib/python3.10/dist-packages/torch/utils/data/dataloader.py:558: UserWarning: This DataLoader will create 4 worker processes in total. Our suggested max number of worker in current system is 2, which is smaller than what this DataLoader is going to create. Please be aware that excessive worker creation might get DataLoader running slow or even freeze, lower the worker number to avoid potential slowness/freeze if necessary.\n",
            "  warnings.warn(_create_warning_msg(\n",
            "/usr/lib/python3.10/multiprocessing/popen_fork.py:66: RuntimeWarning: os.fork() was called. os.fork() is incompatible with multithreaded code, and JAX is multithreaded, so this will likely lead to a deadlock.\n",
            "  self.pid = os.fork()\n"
          ]
        },
        {
          "output_type": "stream",
          "name": "stdout",
          "text": [
            "Test Accuracy : 0.9640625\n",
            "Test Loss : 0.18410535651782994\n"
          ]
        }
      ]
    },
    {
      "cell_type": "code",
      "source": [
        "\n",
        "from sklearn.metrics import confusion_matrix, classification_report"
      ],
      "metadata": {
        "id": "yMLWriHxaujP"
      },
      "execution_count": null,
      "outputs": []
    },
    {
      "cell_type": "code",
      "metadata": {
        "id": "NBWsLq4yzubR"
      },
      "source": [
        "def get_predictions(model, data_loader):\n",
        "    model = model.eval()\n",
        "\n",
        "    review_texts = []\n",
        "    predictions = []\n",
        "    prediction_probs = []\n",
        "    real_values = []\n",
        "\n",
        "    with torch.no_grad():\n",
        "        for d in data_loader:\n",
        "\n",
        "            texts = d[\"review_text\"]\n",
        "            input_ids = d[\"input_ids\"].reshape(-1,512).to(device)\n",
        "            attention_mask = d[\"attention_mask\"].to(device)\n",
        "            targets = d[\"targets\"].to(device)\n",
        "\n",
        "            outputs = model(input_ids=input_ids, token_type_ids=None, attention_mask=attention_mask, labels = targets)\n",
        "\n",
        "            loss = outputs[0]\n",
        "            logits = outputs[1]\n",
        "\n",
        "            _, preds = torch.max(outputs[1], dim=1)\n",
        "\n",
        "            probs = F.softmax(outputs[1], dim=1)\n",
        "\n",
        "            review_texts.extend(texts)\n",
        "            predictions.extend(preds)\n",
        "            prediction_probs.extend(probs)\n",
        "            real_values.extend(targets)\n",
        "\n",
        "    predictions = torch.stack(predictions).cpu()\n",
        "    prediction_probs = torch.stack(prediction_probs).cpu()\n",
        "    real_values = torch.stack(real_values).cpu()\n",
        "    return review_texts, predictions, prediction_probs, real_values"
      ],
      "execution_count": null,
      "outputs": []
    },
    {
      "cell_type": "code",
      "metadata": {
        "id": "hwCQaTFH5KWy"
      },
      "source": [
        "y_review_texts, y_pred, y_pred_probs, y_test = get_predictions(\n",
        "  model,\n",
        "  test_data_loader\n",
        ")"
      ],
      "execution_count": null,
      "outputs": []
    },
    {
      "cell_type": "code",
      "source": [],
      "metadata": {
        "id": "ZWhx8Pucbg7g"
      },
      "execution_count": null,
      "outputs": []
    },
    {
      "cell_type": "code",
      "source": [],
      "metadata": {
        "id": "YCe9tsCIbg4W"
      },
      "execution_count": null,
      "outputs": []
    },
    {
      "cell_type": "code",
      "source": [],
      "metadata": {
        "id": "Ni0Kb698bhNm"
      },
      "execution_count": null,
      "outputs": []
    },
    {
      "cell_type": "code",
      "metadata": {
        "id": "wviSSrIP5Pvl",
        "outputId": "045f1667-6a96-48fb-b786-33f3eccde04f",
        "colab": {
          "base_uri": "https://localhost:8080/"
        }
      },
      "source": [
        "print(classification_report(y_test, y_pred))"
      ],
      "execution_count": null,
      "outputs": [
        {
          "output_type": "stream",
          "name": "stdout",
          "text": [
            "              precision    recall  f1-score   support\n",
            "\n",
            "           0       0.98      0.97      0.98       489\n",
            "           1       0.91      0.94      0.92       145\n",
            "\n",
            "    accuracy                           0.96       634\n",
            "   macro avg       0.94      0.95      0.95       634\n",
            "weighted avg       0.96      0.96      0.96       634\n",
            "\n"
          ]
        }
      ]
    },
    {
      "cell_type": "code",
      "source": [
        "import seaborn as sn\n",
        "from sklearn import metrics\n",
        "import matplotlib.pyplot as plt\n",
        "\n",
        "cm = metrics.confusion_matrix(y_test,y_pred)\n",
        "plt.figure(figsize = (10,10))\n",
        "sn.heatmap(cm,cmap= \"Blues\",\n",
        "            linecolor = 'black',\n",
        "            linewidth = 1,\n",
        "            annot = True,\n",
        "            fmt='',\n",
        "            )\n",
        "plt.xlabel(\"Predicted\")\n",
        "plt.title(\"Confusion Matrix for XLNet Model\")\n",
        "\n",
        "sn.set(font_scale=2.5)\n",
        "\n",
        "plt.ylabel(\"Actual\")\n",
        "sn.set(font_scale=2.5)"
      ],
      "metadata": {
        "colab": {
          "base_uri": "https://localhost:8080/",
          "height": 943
        },
        "id": "mmt5SU6Kbe_g",
        "outputId": "fec03f54-5aa3-4120-aa65-372a2503be68"
      },
      "execution_count": null,
      "outputs": [
        {
          "output_type": "display_data",
          "data": {
            "text/plain": [
              "<Figure size 1000x1000 with 2 Axes>"
            ],
            "image/png": "[encoded data removed]"
          },
          "metadata": {
            "image/png": {
              "width": 899,
              "height": 926
            }
          }
        }
      ]
    },
    {
      "cell_type": "markdown",
      "metadata": {
        "id": "FdrnJkm-MGvv"
      },
      "source": [
        "### Custom prediction function on raw text"
      ]
    },
    {
      "cell_type": "code",
      "metadata": {
        "id": "lIxCoTjo6tWM"
      },
      "source": [
        "def predict_sentiment(text):\n",
        "    review_text = text\n",
        "\n",
        "    encoded_review = tokenizer.encode_plus(\n",
        "    review_text,\n",
        "    max_length=MAX_LEN,\n",
        "    add_special_tokens=True,\n",
        "    return_token_type_ids=False,\n",
        "    pad_to_max_length=False,\n",
        "    return_attention_mask=True,\n",
        "    return_tensors='pt',\n",
        "    )\n",
        "\n",
        "    input_ids = pad_sequences(encoded_review['input_ids'], maxlen=MAX_LEN, dtype=torch.Tensor ,truncating=\"post\",padding=\"post\")\n",
        "    input_ids = input_ids.astype(dtype = 'int64')\n",
        "    input_ids = torch.tensor(input_ids)\n",
        "\n",
        "    attention_mask = pad_sequences(encoded_review['attention_mask'], maxlen=MAX_LEN, dtype=torch.Tensor ,truncating=\"post\",padding=\"post\")\n",
        "    attention_mask = attention_mask.astype(dtype = 'int64')\n",
        "    attention_mask = torch.tensor(attention_mask)\n",
        "\n",
        "    input_ids = input_ids.reshape(1,512).to(device)\n",
        "    attention_mask = attention_mask.to(device)\n",
        "\n",
        "    outputs = model(input_ids=input_ids, attention_mask=attention_mask)\n",
        "\n",
        "    outputs = outputs[0][0].cpu().detach()\n",
        "\n",
        "    probs = F.softmax(outputs, dim=-1).cpu().detach().numpy().tolist()\n",
        "    _, prediction = torch.max(outputs, dim =-1)\n",
        "\n",
        "    print(\"Positive score:\", probs[1])\n",
        "    print(\"Negative score:\", probs[0])\n",
        "    print(f'Review text: {review_text}')\n",
        "    print(f'Sentiment  : {class_names[prediction]}')"
      ],
      "execution_count": null,
      "outputs": []
    },
    {
      "cell_type": "code",
      "metadata": {
        "id": "8UlPGZgNFV1j",
        "outputId": "cd61d132-8ff8-4416-d4fe-7c6e16a55f04",
        "colab": {
          "base_uri": "https://localhost:8080/",
          "height": 84
        }
      },
      "source": [
        "text = \"Movie is the worst one I have ever seen!! The story has no meaning at all\"\n",
        "predict_sentiment(text)"
      ],
      "execution_count": null,
      "outputs": [
        {
          "output_type": "stream",
          "text": [
            "Positive score: 0.00017438380746170878\n",
            "Negative score: 0.999825656414032\n",
            "Review text: Movie is the worst one I have ever seen!! The story has no meaning at all\n",
            "Sentiment  : negative\n"
          ],
          "name": "stdout"
        }
      ]
    },
    {
      "cell_type": "code",
      "metadata": {
        "id": "2oO0OhNoF4wo",
        "outputId": "54d5ef1f-3ab7-4e88-df50-cb4b51be17ae",
        "colab": {
          "base_uri": "https://localhost:8080/"
        }
      },
      "source": [
        "text = \"This is the best movie I have ever seen!! The story is such a motivation\"\n",
        "predict_sentiment(text)"
      ],
      "execution_count": null,
      "outputs": [
        {
          "output_type": "stream",
          "name": "stdout",
          "text": [
            "Positive score: 0.9969019889831543\n",
            "Negative score: 0.003098089946433902\n",
            "Review text: This is the best movie I have ever seen!! The story is such a motivation\n",
            "Sentiment  : 1\n"
          ]
        }
      ]
    }
  ]
}